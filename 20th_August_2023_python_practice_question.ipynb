{
  "cells": [
    {
      "cell_type": "markdown",
      "metadata": {
        "id": "gLNTgbHxEGmh"
      },
      "source": [
        "String Based Practice Questions"
      ]
    },
    {
      "cell_type": "markdown",
      "metadata": {
        "id": "mJtiHEloETsu"
      },
      "source": [
        "Practice Questions"
      ]
    },
    {
      "cell_type": "markdown",
      "metadata": {
        "id": "HDQb0q-AEWx8"
      },
      "source": [
        "1. Write a program to reverse a string."
      ]
    },
    {
      "cell_type": "code",
      "execution_count": null,
      "metadata": {
        "colab": {
          "base_uri": "https://localhost:8080/"
        },
        "id": "-VqeB9G92nmt",
        "outputId": "b4636090-1d64-4e07-d5ee-b540ab0bce6e"
      },
      "outputs": [
        {
          "name": "stdout",
          "output_type": "stream",
          "text": [
            "Enter String input:rupeshdaha\n",
            "ahadhsepur\n"
          ]
        }
      ],
      "source": [
        "string=input(\"Enter String input:\") #string as input..\n",
        "print(string[::-1])\n",
        "\n"
      ]
    },
    {
      "cell_type": "markdown",
      "metadata": {
        "id": "VZ6evmqa3FOV"
      },
      "source": [
        "2. Check if a string is a palindrome."
      ]
    },
    {
      "cell_type": "code",
      "execution_count": null,
      "metadata": {
        "colab": {
          "base_uri": "https://localhost:8080/"
        },
        "id": "ZZBTSNW22yay",
        "outputId": "ed58c9ec-3417-4c3d-81da-cd150250e433"
      },
      "outputs": [
        {
          "name": "stdout",
          "output_type": "stream",
          "text": [
            "Enter the string input: rupesh\n",
            "the string rupesh is not palindrome\n"
          ]
        }
      ],
      "source": [
        "input_string = input(\"Enter the string input: \")\n",
        "cleaned_string = input_string.replace(\" \",\"\")\n",
        "reverse_string=cleaned_string[::-1]\n",
        "if(cleaned_string==reverse_string):\n",
        "     print(f\"the string  {input_string} is palindrome\")\n",
        "else:\n",
        "    print(f\"the string {input_string} is not palindrome\")\n",
        "\n"
      ]
    },
    {
      "cell_type": "markdown",
      "metadata": {
        "id": "zOeiSTs_GnA7"
      },
      "source": [
        " 3.Convert a string to uppercase"
      ]
    },
    {
      "cell_type": "code",
      "execution_count": null,
      "metadata": {
        "colab": {
          "base_uri": "https://localhost:8080/"
        },
        "id": "iHwkZtQSGv0R",
        "outputId": "6b4b9fa8-3716-483a-d361-d6ddf5e86866"
      },
      "outputs": [
        {
          "name": "stdout",
          "output_type": "stream",
          "text": [
            "Enter the String: Hello name is Rupesh Kumar Daha\n",
            "HELLO NAME IS RUPESH KUMAR DAHA\n"
          ]
        }
      ],
      "source": [
        "input_string = input(\"Enter the String: \") # string input\n",
        "print(input_string.upper()) #Converting into uppercase."
      ]
    },
    {
      "cell_type": "markdown",
      "metadata": {
        "id": "6ss-TrcwHeUV"
      },
      "source": [
        "4.Convert a string to lowercase."
      ]
    },
    {
      "cell_type": "code",
      "execution_count": null,
      "metadata": {
        "colab": {
          "base_uri": "https://localhost:8080/"
        },
        "id": "2LLp1kAvHcET",
        "outputId": "d433d1e9-632c-4ce0-f65a-81f295047b20"
      },
      "outputs": [
        {
          "name": "stdout",
          "output_type": "stream",
          "text": [
            "Enter the string value:My  name is Rupesh Kumar Dah\n",
            "my  name is rupesh kumar dah\n"
          ]
        }
      ],
      "source": [
        "input_string= input(\"Enter the string value:\")\n",
        "print(input_string.lower())"
      ]
    },
    {
      "cell_type": "markdown",
      "metadata": {
        "id": "CAM9yxAbH952"
      },
      "source": [
        "5.Count the number of vowels in a string."
      ]
    },
    {
      "cell_type": "code",
      "execution_count": null,
      "metadata": {
        "colab": {
          "base_uri": "https://localhost:8080/"
        },
        "id": "yIkrRGvXIBQJ",
        "outputId": "ae2164d5-d72a-454e-8834-a896a3f5398f"
      },
      "outputs": [
        {
          "name": "stdout",
          "output_type": "stream",
          "text": [
            "Enter the string input:this is my name rupesh daha\n",
            "The number of vowel coount in string 'this is my name rupesh daha' is 8\n"
          ]
        }
      ],
      "source": [
        "input_string=input(\"Enter the string input:\")\n",
        "cleaned_string=(input_string.lower()).replace(\" \",\"\")\n",
        "vowels=\"aeiou\"\n",
        "count_vowel=0\n",
        "for vowel in cleaned_string:\n",
        "  if(vowel in vowels):\n",
        "    count_vowel+=1\n",
        "\n",
        "print(f\"The number of vowel count in string '{input_string}' is {count_vowel}\")\n"
      ]
    },
    {
      "cell_type": "markdown",
      "metadata": {
        "id": "4SaasrwgIA7p"
      },
      "source": [
        "6.Count the number of consonants in a string."
      ]
    },
    {
      "cell_type": "code",
      "execution_count": null,
      "metadata": {
        "colab": {
          "base_uri": "https://localhost:8080/"
        },
        "id": "C5_6azurKDCe",
        "outputId": "ef6d606a-214a-4028-f531-65904d4fd760"
      },
      "outputs": [
        {
          "name": "stdout",
          "output_type": "stream",
          "text": [
            "Enter the string input: this is my name rupesh daha\n",
            "The count of consonants in a string 'this is my name rupesh daha' is 14\n"
          ]
        }
      ],
      "source": [
        "input_string=input(\"Enter the string input: \")\n",
        "cleaned_string=(input_string.lower()).replace(\" \",\"\")\n",
        "vowels=\"aeiou\"\n",
        "count_consonant=0;\n",
        "# print(len(cleaned_string))\n",
        "for vowel in cleaned_string:\n",
        "\n",
        "   if(vowel in vowels):\n",
        "    continue\n",
        "   count_consonant+=1\n",
        "\n",
        "\n",
        "print(f\"The count of consonants in a string '{input_string}' is {count_consonant}\")"
      ]
    },
    {
      "cell_type": "markdown",
      "metadata": {
        "id": "iWA_CdX3Mo7j"
      },
      "source": [
        "7.Remove all whitespaces from a string."
      ]
    },
    {
      "cell_type": "code",
      "execution_count": null,
      "metadata": {
        "colab": {
          "base_uri": "https://localhost:8080/"
        },
        "id": "1y1T4ontMuou",
        "outputId": "d996db09-795b-45ef-aad5-bd996d4e18bd"
      },
      "outputs": [
        {
          "name": "stdout",
          "output_type": "stream",
          "text": [
            "Enter the String: hello   my    name    is   rupesh   kum ar tha\n",
            "hellomynameisrupeshkumartha\n"
          ]
        }
      ],
      "source": [
        "string_input= input(\"Enter the String: \") #input as string...\n",
        "cleaned_string = string_input.replace(\" \",\"\") # remove white space from the string....\n",
        "print(cleaned_string)"
      ]
    },
    {
      "cell_type": "markdown",
      "metadata": {
        "id": "I-wSenc7NbLE"
      },
      "source": [
        "8.Find the length of a string without using the `len()` function."
      ]
    },
    {
      "cell_type": "code",
      "execution_count": null,
      "metadata": {
        "colab": {
          "base_uri": "https://localhost:8080/"
        },
        "id": "6BOVcuniNlHD",
        "outputId": "2c599d4a-2add-4f90-e0b9-eac2a3f3ee9a"
      },
      "outputs": [
        {
          "name": "stdout",
          "output_type": "stream",
          "text": [
            "Enter the String:pwskills\n",
            "the length of the string 'pwskills'is 8\n"
          ]
        }
      ],
      "source": [
        "input_string= input(\"Enter the String:\") # string input:\n",
        "length_count=0\n",
        "for char in input_string:\n",
        "    if char in input_string:\n",
        "        length_count+=1\n",
        "\n",
        "print(f\"the length of the string '{input_string}'is  {length_count}\") # geting the length without len function"
      ]
    },
    {
      "cell_type": "markdown",
      "metadata": {
        "id": "hVd0bWLzPbnf"
      },
      "source": [
        "9.Check if a string contains a specific word."
      ]
    },
    {
      "cell_type": "code",
      "execution_count": null,
      "metadata": {
        "colab": {
          "base_uri": "https://localhost:8080/"
        },
        "id": "_AGdXGDnPmpT",
        "outputId": "d012e63d-724d-45cf-d1bd-2cea032b4236"
      },
      "outputs": [
        {
          "name": "stdout",
          "output_type": "stream",
          "text": [
            "Enter the string: hello my name is rupesh kumar daha\n",
            "Enter words you want to find :is\n",
            "The word 'is' exist in the String 'hello my name is rupesh kumar daha' at index 14\n"
          ]
        }
      ],
      "source": [
        "input_string = input(\"Enter the string: \")  # string input\n",
        "word  = input(\"Enter words you want to find :\")  # words input\n",
        "if(input_string.find(word)==-1):              # return -1 as index if word not exist\n",
        "  print(f\"the word '{word}' does not exist in the String '{input_string}'\")\n",
        "else:\n",
        "  print(f\"The word '{word}' exist in the String '{input_string}' at index {input_string.find(word)}\")"
      ]
    },
    {
      "cell_type": "markdown",
      "metadata": {
        "id": "JDcoIABoRYYh"
      },
      "source": [
        "10.Replace a word in a string with another word."
      ]
    },
    {
      "cell_type": "code",
      "execution_count": null,
      "metadata": {
        "colab": {
          "base_uri": "https://localhost:8080/"
        },
        "id": "VCp7uNe4Rf7C",
        "outputId": "b6cd2f2d-bc76-42c5-9fdb-5ecff90fec13"
      },
      "outputs": [
        {
          "name": "stdout",
          "output_type": "stream",
          "text": [
            "Enter the Whole String: I am studying my btech computer englineering\n",
            "Enter the word which going to replace : btech\n",
            "Enter the word that going to placed:mtech\n",
            "I am studying my mtech computer englineering\n"
          ]
        }
      ],
      "source": [
        "input_string = input(\"Enter the Whole String: \")\n",
        "word= input(\"Enter the word which going to replace : \")\n",
        "word_= input(\"Enter the word that going to placed:\")\n",
        "new_string = input_string.replace(word,word_)\n",
        "print(new_string)\n"
      ]
    },
    {
      "cell_type": "markdown",
      "metadata": {
        "id": "bj_FQ0bvMuUr"
      },
      "source": [
        "11.Count the occurrences of a word in a string.\n"
      ]
    },
    {
      "cell_type": "code",
      "execution_count": null,
      "metadata": {
        "colab": {
          "base_uri": "https://localhost:8080/"
        },
        "id": "Z4nTxV0vjyig",
        "outputId": "8379b08f-62a4-4220-ba98-585604c5fb0c"
      },
      "outputs": [
        {
          "name": "stdout",
          "output_type": "stream",
          "text": [
            "Enter the string :I am rupesh. I am happy . I have two eyes\n",
            "Enter the word:I\n",
            "['I', 'am', 'rupesh.', 'I', 'am', 'happy', '.', 'I', 'have', 'two', 'eyes']\n",
            "the number of occurrences of word 'I' in string 'I am rupesh. I am happy . I have two eyes' is 3\n"
          ]
        }
      ],
      "source": [
        "input_string = input(\"Enter the string :\")\n",
        "word = input(\"Enter the word:\")\n",
        "count_occurrences=0\n",
        "list_string = input_string.split()\n",
        "# print(list_string)\n",
        "for i in range(len(list_string)):\n",
        "  if(list_string[i]==word):\n",
        "    count_occurrences+=1\n",
        "print(f\"the number of occurrences of word '{word}' in string '{input_string}' is {count_occurrences}\")\n"
      ]
    },
    {
      "cell_type": "markdown",
      "metadata": {
        "id": "0yFDWN4c62ZM"
      },
      "source": [
        "12.Find the first occurrence of a word in a string.\n"
      ]
    },
    {
      "cell_type": "code",
      "execution_count": null,
      "metadata": {
        "colab": {
          "base_uri": "https://localhost:8080/"
        },
        "id": "ysXXqVEo650p",
        "outputId": "50f40da0-8c9d-481f-de86-f9229118d1cd"
      },
      "outputs": [
        {
          "name": "stdout",
          "output_type": "stream",
          "text": [
            "Enter the string: hello my name is rupesh kumar daha\n",
            "Enter the input word: is\n",
            "the first occurence of the string 'is' is at index 14\n"
          ]
        }
      ],
      "source": [
        "string_input = input(\"Enter the string: \")\n",
        "word = input(\"Enter the input word: \")\n",
        "first_occurrence_index = string_input.find(word)\n",
        "\n",
        "if( first_occurrence_index !=-1):\n",
        "  print(f\"the first occurence of the string '{word}' is at index {first_occurrence_index}\")\n"
      ]
    },
    {
      "cell_type": "markdown",
      "metadata": {
        "id": "sDrRlr6p8xCb"
      },
      "source": [
        "13.Find the last occurrence of a word in a string."
      ]
    },
    {
      "cell_type": "code",
      "execution_count": null,
      "metadata": {
        "colab": {
          "base_uri": "https://localhost:8080/"
        },
        "id": "_B-lXUdD84DY",
        "outputId": "523ec4e2-159b-4cc0-96c9-c5a2fc667a0f"
      },
      "outputs": [
        {
          "name": "stdout",
          "output_type": "stream",
          "text": [
            "Enter the string: my name is rupesh. I am rupesh and my sure name is rupesh\n",
            "Enter the word: rupesh\n",
            "The word rupesh last occurs at index 51.\n"
          ]
        }
      ],
      "source": [
        "text = input(\"Enter the string: \")\n",
        "word = input(\"Enter the word: \")\n",
        "last_occurrence_index = text.rfind(word)\n",
        "\n",
        "if last_occurrence_index != -1:\n",
        "    print(f\"The word {word} last occurs at index {last_occurrence_index}.\")\n",
        "else:\n",
        "    print(f\"The word {word} was not found in the string.\")\n"
      ]
    },
    {
      "cell_type": "markdown",
      "metadata": {
        "id": "AhKV0D5T72-0"
      },
      "source": [
        "14.Split a string into a list of words."
      ]
    },
    {
      "cell_type": "code",
      "execution_count": null,
      "metadata": {
        "colab": {
          "base_uri": "https://localhost:8080/"
        },
        "id": "MUDOTcJn61z_",
        "outputId": "678d0aed-627f-4aa0-80a9-aa18d783c136"
      },
      "outputs": [
        {
          "name": "stdout",
          "output_type": "stream",
          "text": [
            "Enter the string :hello my name is rupesh kumar dah a\n",
            "['My', 'name', 'is', 'rupesh', 'kumar', 'daha', '.', 'Rupesh', 'and', 'Rupesh']\n"
          ]
        }
      ],
      "source": [
        "String_input = input(\"Enter the string :\")\n",
        "list_word = string_input.split()   #split is inbuild function used to slipt the word by taking space as reference of splitter\n",
        "print(list_word)"
      ]
    },
    {
      "cell_type": "markdown",
      "metadata": {
        "id": "Hcu1kQxJ7svJ"
      },
      "source": [
        "15.Join a list of words into a string\n"
      ]
    },
    {
      "cell_type": "code",
      "execution_count": null,
      "metadata": {
        "colab": {
          "base_uri": "https://localhost:8080/"
        },
        "id": "7kLiXYgw8KDN",
        "outputId": "61a12804-2100-4cb7-fc97-edb504802053"
      },
      "outputs": [
        {
          "name": "stdout",
          "output_type": "stream",
          "text": [
            "Enter the string: hello my name is rupesh kumar daha what is your name\n",
            "['hello', 'my', 'name', 'is', 'rupesh', 'kumar', 'daha', 'what', 'is', 'your', 'name']\n",
            "hello my name is rupesh kumar daha what is your name\n"
          ]
        }
      ],
      "source": [
        "String_input = input(\"Enter the string: \")  # taking string as input\n",
        "list_of_string = String_input.split()   # splitinng string into list\n",
        "print(list_of_string)    # printing list of String\n",
        "orignal_string = \" \".join(list_of_string)  # joining list with space in between\n",
        "print(orignal_string) # getting output of orignal_string"
      ]
    },
    {
      "cell_type": "markdown",
      "metadata": {
        "id": "r4ExDRsN9Jws"
      },
      "source": [
        "16.Convert a string where words are separated by spaces to one where words\n",
        "are separated by underscores."
      ]
    },
    {
      "cell_type": "code",
      "execution_count": null,
      "metadata": {
        "id": "UvmjFpz59q9Q"
      },
      "outputs": [],
      "source": []
    },
    {
      "cell_type": "code",
      "execution_count": null,
      "metadata": {
        "colab": {
          "base_uri": "https://localhost:8080/"
        },
        "id": "zcLXCimG9FlC",
        "outputId": "23659601-2efa-4aaf-ba35-9991f2dec2f8"
      },
      "outputs": [
        {
          "name": "stdout",
          "output_type": "stream",
          "text": [
            "Enter the orignal string: hello my name is rupesh kumar daha\n",
            "['hello', 'my', 'name', 'is', 'rupesh', 'kumar', 'daha']\n",
            "hello_my_name_is_rupesh_kumar_daha\n"
          ]
        }
      ],
      "source": [
        "String_input = input(\"Enter the orignal string: \")  # orignal string taking input from user\n",
        "list_of_string = String_input.split()  # convert into list\n",
        "print(list_of_string)\n",
        "string_with_underscore = \"_\".join(list_of_string) # joining with underscores\n",
        "print(string_with_underscore)  # getting output."
      ]
    },
    {
      "cell_type": "markdown",
      "metadata": {
        "id": "NVB7wOEy-cUd"
      },
      "source": [
        "17.Check if a string starts with a specific word or phrase."
      ]
    },
    {
      "cell_type": "code",
      "execution_count": null,
      "metadata": {
        "colab": {
          "base_uri": "https://localhost:8080/"
        },
        "id": "20p9RzRU-lrR",
        "outputId": "f6952894-cb0f-4292-abdb-c6368de29d5a"
      },
      "outputs": [
        {
          "name": "stdout",
          "output_type": "stream",
          "text": [
            "Enter the text: this is my name rupsh\n",
            "Enter the specific word that used to check :this\n",
            "The string starts with 'this'.\n"
          ]
        }
      ],
      "source": [
        "text = input(\"Enter the text: \")\n",
        "\n",
        "# Check if the string starts with a specific word or phrase\n",
        "word_or_phrase = input(\"Enter the specific word that used to check :\")\n",
        "\n",
        "# if text.startswith(word_or_phrase):\n",
        "#     print(f\"The string starts with '{word_or_phrase}'.\")\n",
        "# else:\n",
        "#     print(f\"The string does not start with '{word_or_phrase}'.\")\n",
        "\n",
        "# OR\n",
        "list_text = text.split()\n",
        "if(list_text[0]==word_or_phrase):\n",
        "   print(f\"The string starts with '{word_or_phrase}'.\")\n",
        "else:\n",
        "    print(f\"The string does not start with '{word_or_phrase}'.\")\n"
      ]
    },
    {
      "cell_type": "markdown",
      "metadata": {
        "id": "wgcZqQu-_9ot"
      },
      "source": [
        "18.Check if a string ends with a specific word or phrase."
      ]
    },
    {
      "cell_type": "code",
      "execution_count": null,
      "metadata": {
        "colab": {
          "base_uri": "https://localhost:8080/"
        },
        "id": "IMSyaJ4BAEcf",
        "outputId": "b1a1cbc6-1a81-42d0-85af-4dbadf8fb5fa"
      },
      "outputs": [
        {
          "name": "stdout",
          "output_type": "stream",
          "text": [
            "Enter the text: hello my name is rupesh\n",
            "Enter the specific word tha used to check:rupesh\n",
            "the string ends with 'rupesh'\n"
          ]
        }
      ],
      "source": [
        "text = input(\"Enter the text: \")\n",
        "word_or_phrase = input(\"Enter the specific word tha used to check:\")\n",
        "\n",
        "# if text.endswith(word_or_phrase):\n",
        "#    print(f\"the string ends with '{word_or_phrase}'\")\n",
        "# else:\n",
        "#   print(f\"the string does not end with '{word_or_phrase}'\")\n",
        "\n",
        "\n",
        "# or\n",
        "list_text = text.split()\n",
        "if(list_text[len(list_text)-1]==word):\n",
        "   print(f\"the string ends with '{word_or_phrase}'\")\n",
        "else:\n",
        "  print(f\"the string does not end with '{word_or_phrase}'\")\n",
        "\n",
        "\n"
      ]
    },
    {
      "cell_type": "markdown",
      "metadata": {
        "id": "XqsFVfNpY7lF"
      },
      "source": [
        "19.Convert a string to title case (e.g., \"hello world\" to \"Hello World\""
      ]
    },
    {
      "cell_type": "code",
      "execution_count": null,
      "metadata": {
        "colab": {
          "base_uri": "https://localhost:8080/"
        },
        "id": "4ITpa789Y-xE",
        "outputId": "36634606-4969-4d3b-f07c-a8e3f2374f41"
      },
      "outputs": [
        {
          "name": "stdout",
          "output_type": "stream",
          "text": [
            "Enter the string: hello world\n",
            "Hello World\n"
          ]
        }
      ],
      "source": [
        "string_input = input(\"Enter the string: \")\n",
        "Title_case = string_input.title()\n",
        "print(Title_case)"
      ]
    },
    {
      "cell_type": "markdown",
      "metadata": {
        "id": "YbktLiFDb0Cq"
      },
      "source": [
        "20.Find the longest word in a string."
      ]
    },
    {
      "cell_type": "code",
      "execution_count": null,
      "metadata": {
        "colab": {
          "base_uri": "https://localhost:8080/"
        },
        "id": "F4AH6ex5Y-EK",
        "outputId": "40d68a21-20e5-43f7-dc3c-abb5540ba1c7"
      },
      "outputs": [
        {
          "name": "stdout",
          "output_type": "stream",
          "text": [
            "Enter the string: hello my name is rupesh kumar daha and I am from napal tell me about  you and i am very happppppppyp and f\n",
            "the largest word in the string 'hello my name is rupesh kumar daha and I am from napal tell me about  you and i am very happppppppyp and f'  is happppppppyp\n"
          ]
        }
      ],
      "source": [
        "string_input = input(\"Enter the string: \")\n",
        "length_list =[]\n",
        "length_max=0\n",
        "store_string=\"\"\n",
        "list_string = string_input.split()\n",
        "for i in range(len(list_string)):\n",
        "    length_list.append(len(list_string[i]))\n",
        "    if length_max < length_list[i]:\n",
        "      length_max = length_list[i]\n",
        "      store_string = list_string[i]\n",
        "print(f\"the largest word in the string '{string_input}'  is {store_string}\")"
      ]
    },
    {
      "cell_type": "markdown",
      "metadata": {
        "id": "CIMwHNmbcthD"
      },
      "source": [
        "21.\n",
        "Find the shortest word in a string."
      ]
    },
    {
      "cell_type": "code",
      "execution_count": null,
      "metadata": {
        "colab": {
          "base_uri": "https://localhost:8080/"
        },
        "id": "ontzDZ9ac3h5",
        "outputId": "293868fd-7395-4a28-d73d-3e47824b80e9"
      },
      "outputs": [
        {
          "name": "stdout",
          "output_type": "stream",
          "text": [
            "Enter the string: this is my name is i am very happy\n",
            "the largest word in the string 'this is my name is i am very happy'  is i\n"
          ]
        }
      ],
      "source": [
        "string_input = input(\"Enter the string: \")\n",
        "length_list =[]\n",
        "length_min=float('inf')\n",
        "store_string=\"\"\n",
        "list_string = string_input.split()\n",
        "for i in range(len(list_string)):\n",
        "    length_list.append(len(list_string[i]))\n",
        "    if length_min > length_list[i]:\n",
        "      length_min = length_list[i]\n",
        "      store_string = list_string[i]\n",
        "print(f\"the largest word in the string '{string_input}'  is {store_string}\")"
      ]
    },
    {
      "cell_type": "code",
      "execution_count": null,
      "metadata": {
        "id": "8QwMhCOFuxQ2"
      },
      "outputs": [],
      "source": [
        "string_input = input(\"Enter the string: \")\n",
        "list_string = string_input.split()\n",
        "reverse_list = list_string[::-1]\n",
        "print(reverse_list)\n",
        "reverse_string = \" \".join(reverse_list)\n",
        "print(reverse_string)"
      ]
    },
    {
      "cell_type": "markdown",
      "metadata": {
        "id": "n-XC9uHHc4-I"
      },
      "source": [
        "22.Reverse the order of words in a string."
      ]
    },
    {
      "cell_type": "code",
      "execution_count": null,
      "metadata": {
        "colab": {
          "base_uri": "https://localhost:8080/"
        },
        "id": "1nxyz1UEcyzh",
        "outputId": "43be1371-5cec-45d9-d064-596d01e6102e"
      },
      "outputs": [
        {
          "name": "stdout",
          "output_type": "stream",
          "text": [
            "Enter the string: daha kumar rupesh name is my\n",
            "['my', 'is', 'name', 'rupesh', 'kumar', 'daha']\n",
            "my is name rupesh kumar daha\n"
          ]
        }
      ],
      "source": [
        "string_input = input(\"Enter the string: \")\n",
        "list_string = string_input.split()\n",
        "reverse_list = list_string[::-1]\n",
        "print(reverse_list)\n",
        "reverse_string = \" \".join(reverse_list)\n",
        "print(reverse_string)"
      ]
    },
    {
      "cell_type": "markdown",
      "metadata": {
        "id": "AgU40eiOc9y6"
      },
      "source": [
        "23.Check if a string is alphanumeric.\n"
      ]
    },
    {
      "cell_type": "code",
      "execution_count": null,
      "metadata": {
        "id": "resgNLwqdB5E"
      },
      "outputs": [],
      "source": [
        "input_string = input(\"Enter string: \")\n",
        "result = input_string.isalnum()\n",
        "if result:\n",
        "    print(f\"'{input_string}' is alphanumeric.\")\n",
        "else:\n",
        "    print(f\"'{input_string}' is not alphanumeric.\")\n"
      ]
    },
    {
      "cell_type": "markdown",
      "metadata": {
        "id": "YRlIFxQgdCiI"
      },
      "source": [
        "24.Extract all digits from a string"
      ]
    },
    {
      "cell_type": "code",
      "execution_count": null,
      "metadata": {
        "colab": {
          "base_uri": "https://localhost:8080/"
        },
        "id": "XkRoLzJfdGvx",
        "outputId": "41b68af6-d2b1-4c68-8705-76833be76052"
      },
      "outputs": [
        {
          "name": "stdout",
          "output_type": "stream",
          "text": [
            "Enter string: were3453\n",
            "<class 'str'>\n"
          ]
        }
      ],
      "source": [
        "input_string = input(\"Enter string: \")\n",
        "list_string =[]\n",
        "for char in input_string:\n",
        "  if char.isdigit():\n",
        "    list_string.append(char)\n",
        "\n",
        "digit_string = \"\".join(list_string)\n",
        "print(digit_string)"
      ]
    },
    {
      "cell_type": "markdown",
      "metadata": {
        "id": "qk8SSkHKdHYX"
      },
      "source": [
        "25.Extract all alphabets from a string"
      ]
    },
    {
      "cell_type": "code",
      "execution_count": null,
      "metadata": {
        "colab": {
          "base_uri": "https://localhost:8080/"
        },
        "id": "3cfSBdk3dL5S",
        "outputId": "18d06779-2f1d-4e32-ddd7-e264908feb7b"
      },
      "outputs": [
        {
          "name": "stdout",
          "output_type": "stream",
          "text": [
            "Enter string: hello2343hi34\n",
            "hellohi\n"
          ]
        }
      ],
      "source": [
        "input_string = input(\"Enter string: \")\n",
        "list_string =[]\n",
        "for char in input_string:\n",
        "  if char.isalpha():\n",
        "    list_string.append(char)\n",
        "\n",
        "digit_string = \"\".join(list_string)\n",
        "print(digit_string)"
      ]
    },
    {
      "cell_type": "markdown",
      "metadata": {
        "id": "SBeYp5e6dMa3"
      },
      "source": [
        "26.Count the number of uppercase letters in a string."
      ]
    },
    {
      "cell_type": "code",
      "execution_count": null,
      "metadata": {
        "colab": {
          "base_uri": "https://localhost:8080/"
        },
        "id": "pQ5_9BMzdTy_",
        "outputId": "3ad32c9e-aadf-4fbb-8856-f7ab5e60d54c"
      },
      "outputs": [
        {
          "name": "stdout",
          "output_type": "stream",
          "text": [
            "Enter the string: hello Rupesh Kumar Daha\n",
            "the number of uppercase letter in string 'hello Rupesh Kumar Daha' is 3\n"
          ]
        }
      ],
      "source": [
        "input_string = input(\"Enter the string: \")\n",
        "count_uppercase = 0\n",
        "for letter in input_string:\n",
        "    if(letter.isupper()):\n",
        "      count_uppercase+=1\n",
        "print(f\"the number of uppercase letter in string '{input_string}' is {count_uppercase}\")"
      ]
    },
    {
      "cell_type": "markdown",
      "metadata": {
        "id": "oFnuZ-AzdUU4"
      },
      "source": [
        "27.Count the number of lowercase letters in a string."
      ]
    },
    {
      "cell_type": "code",
      "execution_count": null,
      "metadata": {
        "colab": {
          "base_uri": "https://localhost:8080/"
        },
        "id": "244NsCPGdYTa",
        "outputId": "cd647c2a-1d14-4c8a-f023-87859986dfc1"
      },
      "outputs": [
        {
          "name": "stdout",
          "output_type": "stream",
          "text": [
            "Enter the string: HELLO GUYD iS YOUr nAME\n",
            "the number of uppercase letter in string 'HELLO GUYD iS YOUr nAME' is 3\n"
          ]
        }
      ],
      "source": [
        "input_string = input(\"Enter the string: \")\n",
        "count_lowercase = 0\n",
        "for letter in input_string:\n",
        "    if(letter.islower()):\n",
        "      count_lowercase+=1\n",
        "print(f\"the number of lowercase letter in string '{input_string}' is {count_lowercase}\")"
      ]
    },
    {
      "cell_type": "markdown",
      "metadata": {
        "id": "x3O_Fx68dY79"
      },
      "source": [
        "28.Swap the case of each character in a string.\n"
      ]
    },
    {
      "cell_type": "code",
      "execution_count": null,
      "metadata": {
        "colab": {
          "base_uri": "https://localhost:8080/"
        },
        "id": "rcUdAbQidd14",
        "outputId": "e8afbf78-9f8d-4f60-efc4-57bad8c30b0b"
      },
      "outputs": [
        {
          "name": "stdout",
          "output_type": "stream",
          "text": [
            "Enter the string: hELLO mY nAME iS rUPESH\n",
            "Hello My Name Is Rupesh\n"
          ]
        }
      ],
      "source": [
        "input_string = input(\"Enter the string: \")\n",
        "# string_list=[]\n",
        "case_swaped_string=\"\"\n",
        "for char in input_string:\n",
        "  if char.isupper():\n",
        "    case_swaped_string +=char.lower()\n",
        "    # string_list.append(char.lower())\n",
        "  elif char.islower():\n",
        "    # string_list.append(char.upper())\n",
        "    case_swaped_string +=char.upper()\n",
        "\n",
        "  else:\n",
        "    # string_list.append(char)\n",
        "    case_swaped_string +=char\n",
        "\n",
        "# print(string_list)\n",
        "\n",
        "# case_swaped_string = \"\".join(string_list)\n",
        "print(case_swaped_string)\n"
      ]
    },
    {
      "cell_type": "markdown",
      "metadata": {
        "id": "bRNdemkcdeWR"
      },
      "source": [
        "29.Remove a specific word from a string.\n"
      ]
    },
    {
      "cell_type": "code",
      "execution_count": null,
      "metadata": {
        "colab": {
          "base_uri": "https://localhost:8080/"
        },
        "id": "eQYGUz8SdjCs",
        "outputId": "ad321dc9-63d3-4e02-b1d3-81deed17805c"
      },
      "outputs": [
        {
          "name": "stdout",
          "output_type": "stream",
          "text": [
            "Enter the string: hello my name is rupesh daha daha ok\n",
            "Enter the specific word: ok\n",
            "['hello', 'my', 'name', 'is', 'rupesh', 'daha', 'daha', 'ok']\n",
            "7\n",
            "['hello', 'my', 'name', 'is', 'rupesh', 'daha', 'daha']\n",
            "hello my name is rupesh daha daha\n"
          ]
        }
      ],
      "source": [
        "input_string = input(\"Enter the string: \")\n",
        "word = input(\"Enter the specific word: \")\n",
        "string_list = input_string.split()\n",
        "index =0\n",
        "# print(string_list)\n",
        "for i in range(len(string_list)):\n",
        "  if(string_list[i]==word):\n",
        "     index=i\n",
        "\n",
        "# print(i)\n",
        "string_list.pop(index)\n",
        "# print(string_list)\n",
        "output_string = \" \".join(string_list)\n",
        "\n",
        "print(output_string)\n"
      ]
    },
    {
      "cell_type": "markdown",
      "metadata": {
        "id": "u4fI5L7bdjkN"
      },
      "source": [
        "30.Check if a string is a valid email address"
      ]
    },
    {
      "cell_type": "code",
      "execution_count": null,
      "metadata": {
        "colab": {
          "base_uri": "https://localhost:8080/"
        },
        "id": "ivVvw_6Bdn4D",
        "outputId": "ea41acf8-8c9a-446f-9cd4-52ad57456823"
      },
      "outputs": [
        {
          "name": "stdout",
          "output_type": "stream",
          "text": [
            "Enter email:daharupesh21@gmail.com\n",
            "'daharupesh21@gmail.com' is a valid email address.\n"
          ]
        }
      ],
      "source": [
        "import re # re module to check if the provided email address matches the regular expression pattern\n",
        "email = input(\"Enter email:\") # take input as email\n",
        "pattern = r'^[a-zA-Z0-9._%+-]+@[a-zA-Z0-9.-]+\\.[a-zA-Z]{2,}$'\n",
        "# print(re.match(pattern,email==True))\n",
        "if(re.match(pattern,email)):\n",
        "  print(f\"'{email}' is a valid email address.\")\n",
        "else:\n",
        "    print(f\"'{email}' is not a valid email address.\")\n"
      ]
    },
    {
      "cell_type": "markdown",
      "metadata": {
        "id": "NfoD5Hl4doZ3"
      },
      "source": [
        "31.Extract the username from an email address string."
      ]
    },
    {
      "cell_type": "code",
      "execution_count": null,
      "metadata": {
        "colab": {
          "base_uri": "https://localhost:8080/"
        },
        "id": "Mm53SieOdsyA",
        "outputId": "15c5dab2-14df-495f-986f-aece99eea2ac"
      },
      "outputs": [
        {
          "name": "stdout",
          "output_type": "stream",
          "text": [
            "Enter the email:rupeshdaha@gmail.com\n",
            "UserName  is: rupeshdaha\n"
          ]
        }
      ],
      "source": [
        "email = input(\"Enter the email:\")\n",
        "email_list = email.split(\"@\")\n",
        "# print(email_list)\n",
        "print(f\"UserName  is: {email_list[0]}\")"
      ]
    },
    {
      "cell_type": "markdown",
      "metadata": {
        "id": "PjFNOXSCdtNh"
      },
      "source": [
        "32.Extract the domain name from an email address string"
      ]
    },
    {
      "cell_type": "code",
      "execution_count": null,
      "metadata": {
        "colab": {
          "base_uri": "https://localhost:8080/"
        },
        "id": "Eweig15Edw5l",
        "outputId": "06434fcb-dc0f-403a-ab0e-389bc4795dab"
      },
      "outputs": [
        {
          "name": "stdout",
          "output_type": "stream",
          "text": [
            "Enter the email:rupeshdaha@gmail.com\n",
            "gmail.com\n"
          ]
        }
      ],
      "source": [
        "# import re\n",
        "email = input(\"Enter the email:\")\n",
        "email_list = email.split(\"@\")\n",
        "print(email_list[-1])"
      ]
    },
    {
      "cell_type": "markdown",
      "metadata": {
        "id": "ULEy90T2dxrm"
      },
      "source": [
        "33.Replace multiple spaces in a string with a single space."
      ]
    },
    {
      "cell_type": "code",
      "execution_count": null,
      "metadata": {
        "colab": {
          "base_uri": "https://localhost:8080/"
        },
        "id": "FP_UWlckd8F6",
        "outputId": "29bcc9e6-7294-47ec-d930-5a0e432ed8e5"
      },
      "outputs": [
        {
          "name": "stdout",
          "output_type": "stream",
          "text": [
            "Enter the input string: rupesh          daha             rkd            rakesh\n",
            "['Hello', 'my', 'name', 'is', 'rupesh', 'kumar', 'daha']\n",
            "rupesh daha rkd rakesh\n"
          ]
        }
      ],
      "source": [
        "String_input=input(\"Enter the input string: \")\n",
        "list_string = String_input.split()\n",
        "# print(orignal_string)\n",
        "orignal_string = \" \".join(list_string)\n",
        "print(orignal_string)\n"
      ]
    },
    {
      "cell_type": "markdown",
      "metadata": {
        "id": "SFQlv1b6d2m0"
      },
      "source": [
        "34.Check if a string is a valid URL."
      ]
    },
    {
      "cell_type": "code",
      "execution_count": null,
      "metadata": {
        "colab": {
          "base_uri": "https://localhost:8080/"
        },
        "id": "mWbjHc01J_OD",
        "outputId": "2f0e77b2-72e8-4e3d-9dfc-d7f0a497e251"
      },
      "outputs": [
        {
          "name": "stdout",
          "output_type": "stream",
          "text": [
            "Enter the url :https://www.w3schools.com/quiztest/quiztest.asp?qtest=CPP\n",
            "The given url is valid url...\n"
          ]
        }
      ],
      "source": [
        "import re\n",
        "url_pattern = re.compile(\n",
        "        r'^(https?|ftp)://'\n",
        "        r'([A-Za-z0-9.-]+)'\n",
        "        r'(\\:[0-9]+)?'\n",
        "        r'(/[^/\\s]+)*$'\n",
        "    )\n",
        "url1 = input(\"Enter the url :\");\n",
        "valid = bool(url_pattern.match(url1))\n",
        "\n",
        "if valid:\n",
        "  print(\"The given url is valid url...\")\n",
        "\n",
        "else:\n",
        "  print(\"The give url is not valid url----\")"
      ]
    },
    {
      "cell_type": "code",
      "execution_count": null,
      "metadata": {
        "id": "GvaKn97od8xw"
      },
      "outputs": [],
      "source": []
    },
    {
      "cell_type": "markdown",
      "metadata": {
        "id": "2JfQym01d2Uj"
      },
      "source": [
        "35.Extract the protocol (http or https) from a URL string."
      ]
    },
    {
      "cell_type": "code",
      "execution_count": null,
      "metadata": {
        "colab": {
          "base_uri": "https://localhost:8080/"
        },
        "id": "VBtIqJZ_eCny",
        "outputId": "dff45524-cc0b-40cc-cf22-655ce5fd1320"
      },
      "outputs": [
        {
          "name": "stdout",
          "output_type": "stream",
          "text": [
            "Enter the Url: https://www.w3schools.com/quiztest/quiztest.asp?qtest=CPP\n",
            "['https', '//www.w3schools.com/quiztest/quiztest.asp?qtest=CPP']\n",
            "The given protocol is : https\n"
          ]
        }
      ],
      "source": [
        "url_input = input(\"Enter the Url: \")\n",
        "url_list = url_input.split(\":\")\n",
        "print(url_list)\n",
        "\n",
        "print(f\"The given protocol is : {url_list[0]}\")"
      ]
    },
    {
      "cell_type": "markdown",
      "metadata": {
        "id": "kpntbqKhdoWb"
      },
      "source": [
        "36.Find the frequency of each character in a string"
      ]
    },
    {
      "cell_type": "code",
      "execution_count": null,
      "metadata": {
        "colab": {
          "base_uri": "https://localhost:8080/"
        },
        "id": "Dgva_G8Tl-8e",
        "outputId": "fecad41f-824a-4df3-d518-52aefea9dade"
      },
      "outputs": [
        {
          "name": "stdout",
          "output_type": "stream",
          "text": [
            "Enter the string: rupesh,,,daha&\n",
            "r of frequency is 1\n",
            "u of frequency is 1\n",
            "p of frequency is 1\n",
            "e of frequency is 1\n",
            "s of frequency is 1\n",
            "h of frequency is 2\n",
            ", of frequency is 3\n",
            "d of frequency is 1\n",
            "a of frequency is 2\n",
            "& of frequency is 1\n"
          ]
        }
      ],
      "source": [
        "input_string= input(\"Enter the string: \")\n",
        "Char_frequency ={}\n",
        "\n",
        "for char in input_string:\n",
        "  if char.isalnum():\n",
        "    char = char.lower()\n",
        "    if char in Char_frequency:\n",
        "      Char_frequency[char]+=1\n",
        "\n",
        "    else:\n",
        "      Char_frequency[char]=1\n",
        "  else:\n",
        "    if char in Char_frequency:\n",
        "      Char_frequency[char]+=1\n",
        "\n",
        "    else:\n",
        "      Char_frequency[char]=1\n",
        "\n",
        "\n",
        "for char, freq in Char_frequency.items():\n",
        "  print(f\"{char} of frequency is {freq}\")\n"
      ]
    },
    {
      "cell_type": "code",
      "execution_count": null,
      "metadata": {
        "colab": {
          "base_uri": "https://localhost:8080/"
        },
        "id": "rQKoMqt2eHNe",
        "outputId": "0025b601-9ed5-436d-99ab-aaffd21ceb32"
      },
      "outputs": [
        {
          "name": "stdout",
          "output_type": "stream",
          "text": [
            "Enter the string: rupeshdaha\n",
            "r 1\n",
            "u 1\n",
            "p 1\n",
            "e 1\n",
            "s 1\n",
            "h 2\n",
            "d 1\n",
            "a 2\n",
            "h 2\n",
            "a 2\n"
          ]
        }
      ],
      "source": [
        "# input_string = input(\"Enter the string: \")\n",
        "# char_frequence ={}\n",
        "# for i in range(len(input_string)):\n",
        "#   for j in range(len(input_string)):\n",
        "#     if(input_string[i]==input_string[j]):\n",
        "#        count +=1\n",
        "\n",
        "#   print(input_string[i] , count)\n",
        "\n",
        "#   count=0"
      ]
    },
    {
      "cell_type": "markdown",
      "metadata": {
        "id": "hWu5gJGCeH3P"
      },
      "source": [
        "\n",
        "\n",
        "37.Remove all punctuation from a string."
      ]
    },
    {
      "cell_type": "code",
      "execution_count": null,
      "metadata": {
        "colab": {
          "base_uri": "https://localhost:8080/"
        },
        "id": "48dOk86DsCgm",
        "outputId": "4672eeb5-b068-4eab-e4e5-2dd58363e5d0"
      },
      "outputs": [
        {
          "name": "stdout",
          "output_type": "stream",
          "text": [
            "Enter the String_input: hello ! how are you. this is^ join -\n",
            "hello  how are you this is join \n"
          ]
        }
      ],
      "source": [
        "import string\n",
        "input_string = input(\"Enter the String_input: \")\n",
        "list_of_string = []\n",
        "for char in input_string:\n",
        "  if char in string.punctuation:\n",
        "     continue\n",
        "  list_of_string.append(char)\n",
        "\n",
        "# print(list_of_string)\n",
        "pure_string = \"\".join(list_of_string)\n",
        "print(pure_string)"
      ]
    },
    {
      "cell_type": "code",
      "execution_count": null,
      "metadata": {
        "colab": {
          "base_uri": "https://localhost:8080/"
        },
        "id": "SaHoquVjeLN8",
        "outputId": "23c42577-ee8f-4c6f-e816-147d9a6489d2"
      },
      "outputs": [
        {
          "name": "stdout",
          "output_type": "stream",
          "text": [
            "Enter the String_input: Rupeshdaha. This is ny name... dn going to te market tha is is notign to befar \n",
            "Rupeshdaha This is ny name dn going to te market tha is is notign to befar \n"
          ]
        }
      ],
      "source": [
        "input_string = input(\"Enter the String_input: \")\n",
        "list_of_string = []\n",
        "for char in input_string:\n",
        "  if char.isalnum() or char.isspace():\n",
        "    list_of_string.append(char)\n",
        "\n",
        "# print(list_of_string)\n",
        "pure_string = \"\".join(list_of_string)\n",
        "print(pure_string)"
      ]
    },
    {
      "cell_type": "markdown",
      "metadata": {
        "id": "tqBRbRoW3DrP"
      },
      "source": [
        "38.Check if a string contains only digits"
      ]
    },
    {
      "cell_type": "code",
      "execution_count": null,
      "metadata": {
        "colab": {
          "background_save": true,
          "base_uri": "https://localhost:8080/"
        },
        "id": "UpvhTRiTeST3",
        "outputId": "727ffd71-fd37-461b-f3ed-944a1e95444a"
      },
      "outputs": [
        {
          "name": "stdout",
          "output_type": "stream",
          "text": [
            "12325\n",
            "The given string 'ruepw12325' contains digits and others..\n"
          ]
        }
      ],
      "source": [
        "input_string = input(\"Enter the string: \")\n",
        "string=''\n",
        "for char in input_string:\n",
        "   if char.isdigit():\n",
        "    string+=char\n",
        "\n",
        "\n",
        "\n",
        "if(len(string)==len(input_string)):\n",
        "  print(f\"The given String '{input_string}'  contains only digits...\")\n",
        "else:\n",
        "  print(f\"The given string '{input_string}' contains digits and others..\")\n"
      ]
    },
    {
      "cell_type": "markdown",
      "metadata": {
        "id": "q2RUbA6seS3l"
      },
      "source": [
        "39.Check if a string contains only alphabets."
      ]
    },
    {
      "cell_type": "code",
      "execution_count": null,
      "metadata": {
        "colab": {
          "base_uri": "https://localhost:8080/"
        },
        "id": "4cAUEfbPejYI",
        "outputId": "05dda71f-895f-4135-c7ca-e940ab0b92a3"
      },
      "outputs": [
        {
          "name": "stdout",
          "output_type": "stream",
          "text": [
            "Enter the string: rupe234stg\n",
            "The given string 'rupe234stg' contains digits and others..\n"
          ]
        }
      ],
      "source": [
        "input_string = input(\"Enter the string: \")\n",
        "string=''\n",
        "for char in input_string:\n",
        "   if char.isalpha():\n",
        "    string+=char\n",
        "\n",
        "\n",
        "\n",
        "if(len(string)==len(input_string)):\n",
        "  print(f\"The given String '{input_string}'  contains only alphabets...\")\n",
        "else:\n",
        "  print(f\"The given string '{input_string}' contains digits and alphabet..\")"
      ]
    },
    {
      "cell_type": "markdown",
      "metadata": {
        "id": "scRllAV6eXXu"
      },
      "source": [
        "40.Convert a string to a list of characters."
      ]
    },
    {
      "cell_type": "code",
      "execution_count": null,
      "metadata": {
        "colab": {
          "base_uri": "https://localhost:8080/"
        },
        "id": "0CIYQ7xAekL7",
        "outputId": "11ee8959-7934-4391-b3e0-4feaa396eb1d"
      },
      "outputs": [
        {
          "name": "stdout",
          "output_type": "stream",
          "text": [
            "Enter the string: hellomyname\n",
            "['h', 'e', 'l', 'l', 'o', 'm', 'y', 'n', 'a', 'm', 'e']\n"
          ]
        }
      ],
      "source": [
        "string_input = input(\"Enter the string: \")\n",
        "list_string = list(string_input)\n",
        "print(list_string)"
      ]
    },
    {
      "cell_type": "code",
      "execution_count": null,
      "metadata": {
        "id": "N0bPoA6OekIV"
      },
      "outputs": [],
      "source": []
    },
    {
      "cell_type": "markdown",
      "metadata": {
        "id": "N-7TL_UKecD-"
      },
      "source": [
        "41.Check if two strings are anagrams.\n"
      ]
    },
    {
      "cell_type": "code",
      "execution_count": null,
      "metadata": {
        "colab": {
          "base_uri": "https://localhost:8080/"
        },
        "id": "mIQ2BP0selGl",
        "outputId": "0a44fa22-8a46-4dd5-cac5-fa1e89ee112d"
      },
      "outputs": [
        {
          "name": "stdout",
          "output_type": "stream",
          "text": [
            "Enter the second string: hrupes\n",
            "The 'rupesh' and 'hrupes' Strings are anagrams. \n"
          ]
        }
      ],
      "source": [
        "string1 = input(\"Enter the first string: \")\n",
        "string2 = input(\"Enter the second string: \")\n",
        "string1 = string1.replace(\" \",\"\")\n",
        "string2 = string2.replace(\" \",\"\")\n",
        "if(sorted(string1) == sorted(string2)):   # sorted function is used to sort the string...\n",
        "  print(f\"The '{string1}' and '{string2}' Strings are anagrams. \")\n",
        "else:\n",
        "    print(f\"The '{string1}' and '{string2}' Strings are not anagrams. \")"
      ]
    },
    {
      "cell_type": "markdown",
      "metadata": {
        "id": "3oO3bKvyehsA"
      },
      "source": [
        "42.Encode a string using a Caesar ciphe"
      ]
    },
    {
      "cell_type": "code",
      "execution_count": null,
      "metadata": {
        "colab": {
          "base_uri": "https://localhost:8080/"
        },
        "id": "SbXgpgppllSA",
        "outputId": "6deec36c-49bd-4f92-9627-f54de4ad3bd1"
      },
      "outputs": [
        {
          "name": "stdout",
          "output_type": "stream",
          "text": [
            "Enter the text: hello, world\n",
            "Original text : hello, world\n",
            "Encoded text : khoor, zruog\n"
          ]
        }
      ],
      "source": [
        "original_text = input(\"Enter the text: \")\n",
        "shift = 3\n",
        "result =\"\"\n",
        "for char in original_text:\n",
        "  if char.isalpha():\n",
        "    is_upper = char.isupper()\n",
        "    shift_car = chr(((ord(char)-ord('A' if is_upper else 'a') +shift)% 26) + ord('A' if is_upper else 'a'))\n",
        "    result +=shift_car\n",
        "\n",
        "  else:\n",
        "    result +=char\n",
        "\n",
        "\n",
        "encoded_text = result\n",
        "\n",
        "print(\"Original text :\" , original_text)\n",
        "print(\"Encoded text :\" , encoded_text)"
      ]
    },
    {
      "cell_type": "code",
      "execution_count": null,
      "metadata": {
        "id": "HNl1swo4eoxq"
      },
      "outputs": [],
      "source": [
        "\n"
      ]
    },
    {
      "cell_type": "markdown",
      "metadata": {
        "id": "_Ooh62VG3Ib0"
      },
      "source": [
        "43.Decode a Caesar cipher encoded string.\n"
      ]
    },
    {
      "cell_type": "code",
      "execution_count": null,
      "metadata": {
        "colab": {
          "base_uri": "https://localhost:8080/"
        },
        "id": "qa0nzQINe4IG",
        "outputId": "9d70dfb9-70e9-44a5-9ec3-996801d6c461"
      },
      "outputs": [
        {
          "name": "stdout",
          "output_type": "stream",
          "text": [
            "Enter the text: khoor, zruog\n",
            "Encoded text: khoor, zruog\n",
            "Decoded text: hello, world\n"
          ]
        }
      ],
      "source": [
        "encoded_text = input(\"Enter the text: \")\n",
        "shift = 3\n",
        "result =\"\"\n",
        "for char in encoded_text:\n",
        "  if char.isalpha():\n",
        "    is_upper = char.isupper()\n",
        "    shift_car = chr(((ord(char)-ord('A' if is_upper else 'a') -shift)% 26) + ord('A' if is_upper else 'a'))\n",
        "    result +=shift_car\n",
        "\n",
        "  else:\n",
        "    result +=char\n",
        "\n",
        "\n",
        "decoded_text = result\n",
        "print(\"Encoded text:\", encoded_text)\n",
        "print(\"Decoded text:\", decoded_text)"
      ]
    },
    {
      "cell_type": "markdown",
      "metadata": {
        "id": "90YrsDV7exHs"
      },
      "source": [
        "44.Find the most frequent word in a string.\n"
      ]
    },
    {
      "cell_type": "code",
      "execution_count": null,
      "metadata": {
        "colab": {
          "base_uri": "https://localhost:8080/"
        },
        "id": "WmYc0zsQe420",
        "outputId": "86ad96fe-6d37-4343-cbaa-7ad63fc14759"
      },
      "outputs": [
        {
          "name": "stdout",
          "output_type": "stream",
          "text": [
            "Enter the string: my name is rupesh i is fine is good\n",
            "{1: 'good', 3: 'is'}\n",
            "The most frequent word in string is  {1: 'good', 3: 'is'}\n"
          ]
        }
      ],
      "source": [
        "string_input =input(\"Enter the string: \")\n",
        "string_count=0\n",
        "dict_string_count ={}\n",
        "string_list = string_input.split()\n",
        "for i in range(len(string_list)):\n",
        "  for j in range(len(string_list)):\n",
        "    if(string_list[i]==string_list[j]):\n",
        "       string_count +=1\n",
        "  dict_string_count[string_count]=string_list[i]\n",
        "  string_count =0\n",
        "print(dict_string_count)\n",
        "print(\"The most frequent word in string is \", max[dict_string_count.keys()])\n"
      ]
    },
    {
      "cell_type": "code",
      "execution_count": null,
      "metadata": {
        "colab": {
          "background_save": true,
          "base_uri": "https://localhost:8080/",
          "height": 297
        },
        "id": "1xwQ04C_pZqB",
        "outputId": "6f1b5a32-2314-46e8-e61a-84763407de42"
      },
      "outputs": [
        {
          "name": "stdout",
          "output_type": "stream",
          "text": [
            "{1: 'be', 2: 'ok', 7: 'is'}\n",
            "[1, 2, 7]\n",
            "7\n",
            "The most frequent word in string is  is\n"
          ]
        }
      ],
      "source": [
        "string_input =input(\"Enter the string: \")\n",
        "string_count=0\n",
        "dict_string_count ={}\n",
        "string_list = string_input.split()\n",
        "for i in range(len(string_list)):\n",
        "  for j in range(len(string_list)):\n",
        "    if(string_list[i]==string_list[j]):\n",
        "       string_count +=1\n",
        "  dict_string_count[string_count]=string_list[i]\n",
        "  string_count =0\n",
        "print(dict_string_count)\n",
        "print(list(dict_string_count.keys()))\n",
        "maxvalue = max(list(dict_string_count.keys()))\n",
        "print(maxvalue)\n",
        "print(\"The most frequent word in string is \" ,dict_string_count[maxvalue])\n"
      ]
    },
    {
      "cell_type": "markdown",
      "metadata": {
        "id": "u6kEZISYe274"
      },
      "source": []
    },
    {
      "cell_type": "markdown",
      "metadata": {
        "id": "gyFhdxCaezmN"
      },
      "source": [
        "45.Find all unique words in a string.\n"
      ]
    },
    {
      "cell_type": "code",
      "execution_count": null,
      "metadata": {
        "colab": {
          "base_uri": "https://localhost:8080/"
        },
        "id": "Bjm6cc7_e6ln",
        "outputId": "81e793ea-d20c-489c-ade8-b1257658c409"
      },
      "outputs": [
        {
          "name": "stdout",
          "output_type": "stream",
          "text": [
            "Enter the string: rupesh daha and i am rupesh kumar and rupesh\n",
            "rupesh\n",
            "daha\n",
            "and\n",
            "i\n",
            "am\n",
            "kumar\n"
          ]
        }
      ],
      "source": [
        "string_input =input(\"Enter the string: \")\n",
        "string_count=0\n",
        "dict_string_count ={}\n",
        "string_list = string_input.split()\n",
        "for i in range(len(string_list)):\n",
        "  for j in range(len(string_list)):\n",
        "    if(string_list[i]==string_list[j]):\n",
        "       string_count +=1\n",
        "  dict_string_count[string_list[i]]=string_count\n",
        "  string_count =0\n",
        "print(\"All the unique keys are :::\")\n",
        "for key in dict_string_count.keys():\n",
        "  print(key)\n"
      ]
    },
    {
      "cell_type": "markdown",
      "metadata": {
        "id": "GS4aW5O8e2BK"
      },
      "source": [
        "46.Count the number of syllables in a string"
      ]
    },
    {
      "cell_type": "code",
      "execution_count": null,
      "metadata": {
        "id": "ybD3gqrOPjnW"
      },
      "outputs": [],
      "source": [
        "pip install nltk"
      ]
    },
    {
      "cell_type": "code",
      "execution_count": null,
      "metadata": {
        "colab": {
          "base_uri": "https://localhost:8080/"
        },
        "id": "8GoZEoLse7hj",
        "outputId": "3953a6ec-69a7-4bc8-a707-ad847aeca4c0"
      },
      "outputs": [
        {
          "name": "stdout",
          "output_type": "stream",
          "text": [
            "Enter the input: hello buss how are you help me please\n",
            "Number of syllables: 16\n"
          ]
        },
        {
          "name": "stderr",
          "output_type": "stream",
          "text": [
            "/usr/local/lib/python3.10/dist-packages/nltk/tokenize/sonority_sequencing.py:102: UserWarning: Character not defined in sonority_hierarchy, assigning as vowel: ' '\n",
            "  warnings.warn(\n"
          ]
        }
      ],
      "source": [
        "import nltk\n",
        "from nltk.tokenize import SyllableTokenizer\n",
        "\n",
        "input_text = input(\"Enter the input: \")\n",
        "tokenizer = SyllableTokenizer()\n",
        "syllables = tokenizer.tokenize(input_text)\n",
        "syllable_count = len(syllables)\n",
        "print(f\"Number of syllables: {syllable_count}\")\n"
      ]
    },
    {
      "cell_type": "markdown",
      "metadata": {
        "id": "dAFAeSqse8Pf"
      },
      "source": [
        "47.Check if a string contains any special characters.\n"
      ]
    },
    {
      "cell_type": "code",
      "execution_count": null,
      "metadata": {
        "colab": {
          "base_uri": "https://localhost:8080/"
        },
        "id": "_GbSxlj6fJJy",
        "outputId": "d68ab8a9-0530-424f-8d0b-63858c053d57"
      },
      "outputs": [
        {
          "name": "stdout",
          "output_type": "stream",
          "text": [
            "Enter the String input: thsei 3353222222333@@#95339\n",
            "The string 'thsei 3353222222333@@#95339' contains special characters...\n"
          ]
        }
      ],
      "source": [
        "input_string = input(\"Enter the String input: \")\n",
        "special_char = '[@_!#$%^&*()<>?/\\|}{~:]'\n",
        "decide = False\n",
        "for i in input_string:\n",
        "  if i in special_char:\n",
        "    decide = True\n",
        "    break\n",
        "  else:\n",
        "    decide = False\n",
        "if decide:\n",
        "  print(f\"The string '{input_string}' contains special characters...\")\n",
        "else:\n",
        "  print(f\"the String '{input_string} doesnot contains special characters ...'\")"
      ]
    },
    {
      "cell_type": "markdown",
      "metadata": {
        "id": "PHEltjHCfDfL"
      },
      "source": [
        "48.Remove the nth word from a string.\n"
      ]
    },
    {
      "cell_type": "code",
      "execution_count": null,
      "metadata": {
        "colab": {
          "base_uri": "https://localhost:8080/"
        },
        "id": "4GYUwz6EfKHg",
        "outputId": "f3fdc703-4b47-405f-b06d-ebcf274d2004"
      },
      "outputs": [
        {
          "name": "stdout",
          "output_type": "stream",
          "text": [
            "Enter the string: hello this is rupesh daha\n",
            "Enter the position:4\n",
            "hello this is daha\n"
          ]
        }
      ],
      "source": [
        "input_string = input(\"Enter the string: \")\n",
        "list_string = input_string.split()\n",
        "position = int(input(\"Enter the position:\"))\n",
        "del list_string[position-1]\n",
        "final_string = \" \".join(list_string)\n",
        "print(final_string)\n"
      ]
    },
    {
      "cell_type": "markdown",
      "metadata": {
        "id": "Dkqzm5klfFk_"
      },
      "source": [
        "49.Insert a word at the nth position in a string.\n"
      ]
    },
    {
      "cell_type": "code",
      "execution_count": null,
      "metadata": {
        "colab": {
          "base_uri": "https://localhost:8080/"
        },
        "id": "7M-Ds3c4fK9m",
        "outputId": "f4bc3760-3cc1-4a2c-b744-b931329dc9b9"
      },
      "outputs": [
        {
          "name": "stdout",
          "output_type": "stream",
          "text": [
            "Enter the string input: hello my name is dha\n",
            "Enter the inserting word: rupesh\n",
            "Enter the position where you want to insert: 5\n",
            "hello my name is rupesh dha\n"
          ]
        }
      ],
      "source": [
        "input_string = input(\"Enter the string input: \")\n",
        "list_string  = input_string.split()\n",
        "insert_word = input(\"Enter the inserting word: \")\n",
        "position = int(input(\"Enter the position where you want to insert: \"))\n",
        "list_string.insert((position-1),insert_word)\n",
        "\n",
        "final_string = \" \".join(list_string)\n",
        "print(final_string)"
      ]
    },
    {
      "cell_type": "markdown",
      "metadata": {
        "id": "o3ZLc1LdfHiz"
      },
      "source": [
        "50.Convert a CSV string to a list of lists."
      ]
    },
    {
      "cell_type": "code",
      "execution_count": null,
      "metadata": {
        "colab": {
          "base_uri": "https://localhost:8080/"
        },
        "id": "wspA-43q9DJY",
        "outputId": "d3c7b507-082b-437a-b6ff-e5d5985d577f"
      },
      "outputs": [
        {
          "name": "stdout",
          "output_type": "stream",
          "text": [
            "['Name', 'Age', 'Location']\n",
            "['Alice', '25', 'New York']\n",
            "['Bob', '30', 'Los Angeles']\n",
            "['Charlie', '22', 'San Francisco']\n"
          ]
        }
      ],
      "source": [
        "import csv\n",
        "from io import StringIO\n",
        "csv_string = \"Name,Age,Location\\nAlice,25,New York\\nBob,30,Los Angeles\\nCharlie,22,San Francisco\"\n",
        "csv_reader = csv.reader(StringIO(csv_string))\n",
        "csv_list = [row for row in csv_reader]\n",
        "for row in csv_list:\n",
        "  print(row)"
      ]
    },
    {
      "cell_type": "code",
      "execution_count": null,
      "metadata": {
        "colab": {
          "base_uri": "https://localhost:8080/"
        },
        "id": "w5CditWdfMB2",
        "outputId": "93786205-6aac-4b40-dcd4-a8b41f79d56a"
      },
      "outputs": [
        {
          "name": "stdout",
          "output_type": "stream",
          "text": [
            "['Name', 'Age', 'Location']\n",
            "['Alice', '25', 'New York']\n",
            "['Bob', '30', 'Los Angeles']\n",
            "['Charlie', '22', 'San Francisco']\n"
          ]
        }
      ],
      "source": []
    },
    {
      "cell_type": "markdown",
      "metadata": {
        "id": "AYcfAs98WKK7"
      },
      "source": [
        "List Based Practice Problems...."
      ]
    },
    {
      "cell_type": "markdown",
      "metadata": {
        "id": "DDuAc-2yWOL2"
      },
      "source": [
        "1.Create a list with integers from 1 to 10."
      ]
    },
    {
      "cell_type": "code",
      "execution_count": null,
      "metadata": {
        "colab": {
          "base_uri": "https://localhost:8080/"
        },
        "id": "WSpI25r_7EBQ",
        "outputId": "74d11ac7-9639-4aaf-965c-0f356c312690"
      },
      "outputs": [
        {
          "name": "stdout",
          "output_type": "stream",
          "text": [
            "[1, 2, 3, 4, 5, 6, 7, 8, 9, 10]\n"
          ]
        }
      ],
      "source": [
        "list =[1,2,3,4,5,6,7,8,9,10] #list with integer value 1 to 10.\n",
        "print(list)\n"
      ]
    },
    {
      "cell_type": "markdown",
      "metadata": {
        "id": "hCA5dUBIWpSo"
      },
      "source": [
        "2.Find the length of a list without using the `len()` function.\n"
      ]
    },
    {
      "cell_type": "code",
      "execution_count": null,
      "metadata": {
        "colab": {
          "base_uri": "https://localhost:8080/"
        },
        "id": "CEjqANmk7oKK",
        "outputId": "bd620a8a-e38a-48ba-e8c6-53168a68e15c"
      },
      "outputs": [
        {
          "name": "stdout",
          "output_type": "stream",
          "text": [
            "length of string using len function  9\n",
            "The length of list without using len function : 9\n"
          ]
        }
      ],
      "source": [
        "list =[1,2,3,4,5,6,7,\"rupesh\",\"daha\"]\n",
        "print(\"length of string using len function \", len(list))\n",
        "\n",
        "count_length = 0\n",
        "for i in list:\n",
        "  count_length +=1\n",
        "\n",
        "\n",
        "print(\"The length of list without using len function :\" , count_length)\n"
      ]
    },
    {
      "cell_type": "markdown",
      "metadata": {
        "id": "DNnW9cuNXZFu"
      },
      "source": [
        "3.Append an element to the end of a list"
      ]
    },
    {
      "cell_type": "code",
      "execution_count": null,
      "metadata": {
        "colab": {
          "base_uri": "https://localhost:8080/"
        },
        "id": "0T6j3gIEXHdl",
        "outputId": "768be5b7-6933-42ab-d74b-8f40be2af59a"
      },
      "outputs": [
        {
          "name": "stdout",
          "output_type": "stream",
          "text": [
            "[1, 2, 3, 4, 5, 10, 12, 13]\n"
          ]
        }
      ],
      "source": [
        "List=[1,2,3,4,5,10,12] #sample list\n",
        "List.append(13)  #append function is used to append an element to the last index...\n",
        "print(List)"
      ]
    },
    {
      "cell_type": "markdown",
      "metadata": {
        "id": "T1kFSvNdYSnR"
      },
      "source": [
        "4.Insert an element at a specific index in a list"
      ]
    },
    {
      "cell_type": "code",
      "execution_count": null,
      "metadata": {
        "colab": {
          "base_uri": "https://localhost:8080/"
        },
        "id": "SGMhz138X51f",
        "outputId": "6fe76386-aa66-4cc1-cbae-5de3613dc12c"
      },
      "outputs": [
        {
          "name": "stdout",
          "output_type": "stream",
          "text": [
            "[12, 23, 34, 50, 45, 56, 7]\n"
          ]
        }
      ],
      "source": [
        "saple_list = [12,23,34,45,56,7]\n",
        "postion = 3\n",
        "saple_list.insert(postion,50)\n",
        "print(saple_list)"
      ]
    },
    {
      "cell_type": "markdown",
      "metadata": {
        "id": "VZ_qYRFPayRm"
      },
      "source": [
        "5.Remove an element from a list by its value"
      ]
    },
    {
      "cell_type": "code",
      "execution_count": null,
      "metadata": {
        "colab": {
          "base_uri": "https://localhost:8080/"
        },
        "id": "X4v58HWsa2at",
        "outputId": "6848f135-09d4-49b5-953b-ead0686f2480"
      },
      "outputs": [
        {
          "name": "stdout",
          "output_type": "stream",
          "text": [
            "[12, 45, 56, 12]\n"
          ]
        }
      ],
      "source": [
        "sample_list = [12,34,45,56,12]\n",
        "value = 34\n",
        "sample_list.remove(value)\n",
        "print(sample_list)"
      ]
    },
    {
      "cell_type": "markdown",
      "metadata": {
        "id": "eBlspmlca2Jc"
      },
      "source": []
    },
    {
      "cell_type": "markdown",
      "metadata": {
        "id": "AUFau6TpYwlJ"
      },
      "source": [
        "6.Remove an element from a list by its index."
      ]
    },
    {
      "cell_type": "code",
      "execution_count": null,
      "metadata": {
        "colab": {
          "base_uri": "https://localhost:8080/"
        },
        "id": "mvqLng6iYtdk",
        "outputId": "82388a1f-761a-4788-a8c6-a83d034574bc"
      },
      "outputs": [
        {
          "name": "stdout",
          "output_type": "stream",
          "text": [
            "[12, 23, 34, 56, 14]\n"
          ]
        }
      ],
      "source": [
        "sample_list =[12,23,34,46,56,14]\n",
        "position =int(input(\"Enter the specific ended:\"))\n",
        "sample_list.pop(position)\n",
        "print(sample_list)"
      ]
    },
    {
      "cell_type": "markdown",
      "metadata": {
        "id": "bdymPrLtZpGJ"
      },
      "source": [
        "7.Check if an element exists in a list."
      ]
    },
    {
      "cell_type": "code",
      "execution_count": null,
      "metadata": {
        "colab": {
          "base_uri": "https://localhost:8080/"
        },
        "id": "gAP-jBmpZF6n",
        "outputId": "fa0a3fc6-b078-4557-93cc-c41a1420c569"
      },
      "outputs": [
        {
          "name": "stdout",
          "output_type": "stream",
          "text": [
            "Enter the element: 0\n",
            "No, 0 doest not exist in list\n"
          ]
        }
      ],
      "source": [
        "sample_list =[23,3,5,7,9,34,5,23]\n",
        "element = int(input(\"Enter the element: \"))\n",
        "exist_count = sample_list.count(element)\n",
        "\n",
        "if exist_count>0:\n",
        "  print(f\"yes, {element} exists in list.\")\n",
        "else:\n",
        "  print(f\"No, {element} doest not exist in list\")"
      ]
    },
    {
      "cell_type": "markdown",
      "metadata": {
        "id": "nYC6JWg1dSON"
      },
      "source": [
        "8.Find the index of the first occurrence of an element in a list."
      ]
    },
    {
      "cell_type": "code",
      "execution_count": null,
      "metadata": {
        "colab": {
          "base_uri": "https://localhost:8080/"
        },
        "id": "7T4ndv-LcVXD",
        "outputId": "565a0813-ede9-43fe-c97b-32e8b0785662"
      },
      "outputs": [
        {
          "name": "stdout",
          "output_type": "stream",
          "text": [
            "Enter the element: 5\n",
            "the index of the first occurrence of in a list is : 3\n"
          ]
        }
      ],
      "source": [
        "sample_list = [12,23,34,5,26,56,34,89,34]\n",
        "element = int(input(\"Enter the element: \"))\n",
        "index =0;\n",
        "for i in range(len(sample_list)):\n",
        "  if(sample_list[i]==element):\n",
        "    index =i\n",
        "    break\n",
        "\n",
        "print(f\"the index of the first occurrence of in a list is : {index}\")\n"
      ]
    },
    {
      "cell_type": "markdown",
      "metadata": {
        "id": "VOJoyrnUesQC"
      },
      "source": [
        "10. Reverse the order of elements in a list."
      ]
    },
    {
      "cell_type": "code",
      "execution_count": null,
      "metadata": {
        "colab": {
          "base_uri": "https://localhost:8080/"
        },
        "id": "SDScliX5eoqU",
        "outputId": "6111b12f-d931-42da-e173-efa5b4157f4c"
      },
      "outputs": [
        {
          "name": "stdout",
          "output_type": "stream",
          "text": [
            "[10, 9, 8, 7, 6, 5, 4, 3, 2, 1]\n"
          ]
        }
      ],
      "source": [
        "sample_list = [1,2,3,4,5,6,7,8,9,10]\n",
        "revers_list = sample_list[::-1]  # negative indexing used to revers the order of elements in a list\n",
        "print(revers_list)"
      ]
    },
    {
      "cell_type": "markdown",
      "metadata": {
        "id": "x37slNnRfNol"
      },
      "source": [
        "11.Sort a list in ascending order."
      ]
    },
    {
      "cell_type": "code",
      "execution_count": null,
      "metadata": {
        "colab": {
          "base_uri": "https://localhost:8080/"
        },
        "id": "wXd8vq6Ue8nC",
        "outputId": "ac5c4613-9b28-4cd4-c4a7-4e89993f545f"
      },
      "outputs": [
        {
          "name": "stdout",
          "output_type": "stream",
          "text": [
            "[2, 3, 5, 6, 8, 10, 11, 12, 23, 67]\n"
          ]
        }
      ],
      "source": [
        "sample_list = [12,3,67,6,8,2,5,10,11,23]\n",
        "sample_list.sort()\n",
        "print(sample_list)"
      ]
    },
    {
      "cell_type": "markdown",
      "metadata": {
        "id": "iwcKJsebfMVQ"
      },
      "source": [
        "12.Sort a list in descending order"
      ]
    },
    {
      "cell_type": "code",
      "execution_count": null,
      "metadata": {
        "colab": {
          "background_save": true
        },
        "id": "CjZq3aBggKce",
        "outputId": "1a716be3-a683-40f8-8386-4cace694e4e0"
      },
      "outputs": [
        {
          "name": "stdout",
          "output_type": "stream",
          "text": [
            "[67, 23, 12, 11, 10, 8, 6, 5, 3, 2]\n"
          ]
        }
      ],
      "source": [
        "sample_list = [12,3,67,6,8,2,5,10,11,23]\n",
        "sample_list.sort(reverse=True)\n",
        "print(sample_list)"
      ]
    },
    {
      "cell_type": "markdown",
      "metadata": {
        "id": "wVjX8h3zNwXf"
      },
      "source": [
        "13.Create a list of even numbers from 1 to 20."
      ]
    },
    {
      "cell_type": "code",
      "execution_count": null,
      "metadata": {
        "colab": {
          "base_uri": "https://localhost:8080/"
        },
        "id": "v8GVniaROOzt",
        "outputId": "90644623-27bb-4a3e-cb37-49ea0824fdc5"
      },
      "outputs": [
        {
          "name": "stdout",
          "output_type": "stream",
          "text": [
            "[2, 4, 6, 8, 10, 12, 14, 16, 18, 20]\n"
          ]
        }
      ],
      "source": [
        "list =[]\n",
        "for i in range(1,21):\n",
        "   if i%2==0:\n",
        "    list.append(i)\n",
        "print(list)\n"
      ]
    },
    {
      "cell_type": "markdown",
      "metadata": {
        "id": "uB1ZURX0ggTG"
      },
      "source": [
        "14.Create a list of odd number from 1 to 20"
      ]
    },
    {
      "cell_type": "code",
      "execution_count": null,
      "metadata": {
        "colab": {
          "base_uri": "https://localhost:8080/"
        },
        "id": "HyzpkGcage8c",
        "outputId": "f72f2051-fdfc-4bec-b0d5-59224d2f093b"
      },
      "outputs": [
        {
          "name": "stdout",
          "output_type": "stream",
          "text": [
            "[1, 3, 5, 7, 9, 11, 13, 15, 17, 19]\n"
          ]
        }
      ],
      "source": [
        "list =[]\n",
        "for i in range(1,21):\n",
        "   if i%2==0:\n",
        "    continue\n",
        "   list.append(i)\n",
        "print(list)\n"
      ]
    },
    {
      "cell_type": "markdown",
      "metadata": {
        "id": "r5uNgU8cuCg-"
      },
      "source": [
        "15.Find the sum of all elements in a list."
      ]
    },
    {
      "cell_type": "code",
      "execution_count": null,
      "metadata": {
        "colab": {
          "base_uri": "https://localhost:8080/"
        },
        "id": "okWBB-i_uBNB",
        "outputId": "c5cbc409-2e7c-4152-a338-9cd1a0da285a"
      },
      "outputs": [
        {
          "name": "stdout",
          "output_type": "stream",
          "text": [
            "The sum of all the elements of list:  154\n"
          ]
        }
      ],
      "source": [
        "list=[12,23,34,45,6,7,8,9,10]\n",
        "sum =0\n",
        "for i in range(len(list)):\n",
        "  sum = sum+list[i]\n",
        "\n",
        "print(\"The sum of all the elements of list: \",sum)"
      ]
    },
    {
      "cell_type": "markdown",
      "metadata": {
        "id": "TyFWM5q9uX5h"
      },
      "source": [
        "16.Find the maximum value in a list."
      ]
    },
    {
      "cell_type": "code",
      "execution_count": null,
      "metadata": {
        "colab": {
          "base_uri": "https://localhost:8080/"
        },
        "id": "ceIOTYsouWcO",
        "outputId": "02638eb4-4568-4081-e7b0-f0c43dee50c0"
      },
      "outputs": [
        {
          "name": "stdout",
          "output_type": "stream",
          "text": [
            "The MaxValue from the given list is: 100\n"
          ]
        }
      ],
      "source": [
        "list = [12,2,3,4,5,6,9,45,100]\n",
        "maxValue =0;\n",
        "for i in range(len(list)):\n",
        "  if (list[i]>maxValue):\n",
        "    maxValue = list[i]\n",
        "\n",
        "print(f\"The MaxValue from the given list is: {maxValue}\")"
      ]
    },
    {
      "cell_type": "markdown",
      "metadata": {
        "id": "VPXCRYn0uycB"
      },
      "source": [
        "17.Find the minimum value in a list"
      ]
    },
    {
      "cell_type": "code",
      "execution_count": null,
      "metadata": {
        "colab": {
          "base_uri": "https://localhost:8080/"
        },
        "id": "VlzafCypuxOu",
        "outputId": "3c845a1f-c0fc-4d9c-d4d5-14447d477f89"
      },
      "outputs": [
        {
          "name": "stdout",
          "output_type": "stream",
          "text": [
            "the Minvalue from the given list is: 1\n"
          ]
        }
      ],
      "source": [
        "list1 =[2,3,5,5,7,8,9,100,12,2,1]\n",
        "minValue = list[0];\n",
        "for i in range(len(list1)):\n",
        "  if(list1[i]< minValue):\n",
        "    minValue = list1[i]\n",
        "\n",
        "print(f\"the Minvalue from the given list is: {minValue}\")"
      ]
    },
    {
      "cell_type": "markdown",
      "metadata": {
        "id": "GZFGAH5_vhMS"
      },
      "source": [
        "18.Create a list of squares of numbers from 1 to 10."
      ]
    },
    {
      "cell_type": "code",
      "execution_count": null,
      "metadata": {
        "colab": {
          "base_uri": "https://localhost:8080/"
        },
        "id": "kP0kdw51vfNR",
        "outputId": "61fe25f9-6eb2-4f9e-b434-dfcd94ae63e9"
      },
      "outputs": [
        {
          "name": "stdout",
          "output_type": "stream",
          "text": [
            "The list of squares of number is: [1, 4, 9, 16, 25, 36, 49, 64, 81, 100]\n"
          ]
        }
      ],
      "source": [
        "sample_list = []\n",
        "for i in range(1,11):\n",
        "  sample_list.append(i*i)\n",
        "\n",
        "print(f\"The list of squares of number is: {sample_list}\")"
      ]
    },
    {
      "cell_type": "markdown",
      "metadata": {
        "id": "_tDNzS1qv_MI"
      },
      "source": [
        "19.Create a list of random numbers"
      ]
    },
    {
      "cell_type": "code",
      "execution_count": null,
      "metadata": {
        "colab": {
          "base_uri": "https://localhost:8080/"
        },
        "id": "6ik7eotnv6Wt",
        "outputId": "9d3d8bd6-0cd4-46ba-d0fb-272720ff3495"
      },
      "outputs": [
        {
          "name": "stdout",
          "output_type": "stream",
          "text": [
            "The list of random numbers: [2, 5, 5, 6, 7, 3, 3, 10, 9, 9]\n"
          ]
        }
      ],
      "source": [
        "import random\n",
        "\n",
        "list_random =[]\n",
        "for i in range(1,11):\n",
        "  n = random.randint(1,10)\n",
        "  list_random.append(n)\n",
        "\n",
        "print(f\"The list of random numbers: {list_random}\")"
      ]
    },
    {
      "cell_type": "markdown",
      "metadata": {
        "id": "ht4Kyx4OwoRP"
      },
      "source": [
        "20.Remove duplicates from a list."
      ]
    },
    {
      "cell_type": "code",
      "execution_count": null,
      "metadata": {
        "colab": {
          "base_uri": "https://localhost:8080/"
        },
        "id": "Hr08bYdxwmzp",
        "outputId": "791f32fc-5a08-4d11-973c-84e65ad8cb22"
      },
      "outputs": [
        {
          "name": "stdout",
          "output_type": "stream",
          "text": [
            "The list after removed duplicates :  [34, 4, 5, 6, 7, 12, 23]\n"
          ]
        }
      ],
      "source": [
        "input_list = [12,23,34,4,5,6,4,5,6,7,12]\n",
        "list_set = set(input_list)\n",
        "d_list =[]\n",
        "for i in list_set:\n",
        "  d_list.append(i)\n",
        "print(\"The list after removed duplicates : \", d_list)"
      ]
    },
    {
      "cell_type": "markdown",
      "metadata": {
        "id": "-VwCncgFShFS"
      },
      "source": [
        "21.Find the common elements between two lists.\n"
      ]
    },
    {
      "cell_type": "code",
      "execution_count": null,
      "metadata": {
        "colab": {
          "base_uri": "https://localhost:8080/"
        },
        "id": "8Y9Kh6xUxy9x",
        "outputId": "d2714a4b-a466-4a21-cca0-82e098dc6e4d"
      },
      "outputs": [
        {
          "name": "stdout",
          "output_type": "stream",
          "text": [
            "The common elements in l1 and l2 is:  [34, 67, 4, 10, 23, 56]\n"
          ]
        }
      ],
      "source": [
        "l1=[12,23,34,45,56,67,9,10,4]\n",
        "l2=[4,34,23,56,67,10,4]\n",
        "list_common = []\n",
        "\n",
        "for i in range(len(l1)):\n",
        "  for j in range(len(l2)):\n",
        "    if l1[i]==l2[j]:\n",
        "      list_common.append(l1[i])\n",
        "\n",
        "set_common = set(list_common)\n",
        "\n",
        "\n",
        "print(\"The common elements in l1 and l2 is: \", [i for i in set_common])"
      ]
    },
    {
      "cell_type": "markdown",
      "metadata": {
        "id": "mJCdmCtTTaWz"
      },
      "source": [
        "22.Find the difference between two lists."
      ]
    },
    {
      "cell_type": "code",
      "execution_count": null,
      "metadata": {
        "colab": {
          "base_uri": "https://localhost:8080/"
        },
        "id": "JTPPwEgaTWVE",
        "outputId": "1f38dbb2-c926-4b32-c55b-68f8d45c8167"
      },
      "outputs": [
        {
          "name": "stdout",
          "output_type": "stream",
          "text": [
            "The difference between tow list is:  [57, 45]\n"
          ]
        }
      ],
      "source": [
        "list1=[12,34,45,57,34,34,6]\n",
        "list2=[3,4,5,34,5,6,12]\n",
        "\n",
        "set1 = set(list1)\n",
        "set2 = set(list2)\n",
        "\n",
        "difference = list(set1 - set2)\n",
        "print(\"The difference between tow list is: \", difference)\n"
      ]
    },
    {
      "cell_type": "markdown",
      "metadata": {
        "id": "kGVzlWeIVTRC"
      },
      "source": [
        "23.Merge two lists."
      ]
    },
    {
      "cell_type": "code",
      "execution_count": null,
      "metadata": {
        "colab": {
          "base_uri": "https://localhost:8080/"
        },
        "id": "o_Znfy8hUW9U",
        "outputId": "81eb2303-b470-42cc-a933-8a322509e4be"
      },
      "outputs": [
        {
          "name": "stdout",
          "output_type": "stream",
          "text": [
            "Two lists after Merge:  [1, 2, 3, 4, 5, 6, 7, 8, 9, 10, 11, 12, 13, 14, 15, 16, 17, 18, 19, 20]\n"
          ]
        }
      ],
      "source": [
        "l1=[1,2,3,4,5,6,7,8,9,10]\n",
        "l2=[11,12,13,14,15,16,17,18,19,20]\n",
        "\n",
        "Merge_list = l1+l2\n",
        "print(\"Two lists after Merge: \", Merge_list)\n"
      ]
    },
    {
      "cell_type": "markdown",
      "metadata": {
        "id": "C4TUAgDqVu7Z"
      },
      "source": [
        "24.Multply all elements in a list by 2."
      ]
    },
    {
      "cell_type": "code",
      "execution_count": null,
      "metadata": {
        "colab": {
          "base_uri": "https://localhost:8080/"
        },
        "id": "-ySItj9VVsHh",
        "outputId": "a36c559a-5989-46ea-f924-75fb0d9ce19c"
      },
      "outputs": [
        {
          "name": "stdout",
          "output_type": "stream",
          "text": [
            "[2, 4, 6, 8, 10, 12, 14, 16, 18, 20]\n"
          ]
        }
      ],
      "source": [
        "l1=[1,2,3,4,5,6,7,8,9,10]\n",
        "l=[i*2 for i in l1]  # list element multiply by 2\n",
        "print(l)"
      ]
    },
    {
      "cell_type": "markdown",
      "metadata": {
        "id": "mYkIIT3WWVwy"
      },
      "source": [
        "25.Filter out all even numbers from a list."
      ]
    },
    {
      "cell_type": "code",
      "execution_count": null,
      "metadata": {
        "colab": {
          "base_uri": "https://localhost:8080/"
        },
        "id": "GnOg6TbGV8nN",
        "outputId": "ab76380e-3420-4f78-ec8c-c1114a9e1069"
      },
      "outputs": [
        {
          "name": "stdout",
          "output_type": "stream",
          "text": [
            "[1, 3, 5, 7, 9]\n"
          ]
        }
      ],
      "source": [
        "l1=[1,2,3,4,5,6,7,8,9,10]\n",
        "even_list = [num for num in l1 if num % 2 != 0] # logic used to filter out even number\n",
        "print(even_list)"
      ]
    },
    {
      "cell_type": "markdown",
      "metadata": {
        "id": "QO-LyjD4YHMd"
      },
      "source": [
        "26.Convert a list of strings to a list of integers"
      ]
    },
    {
      "cell_type": "code",
      "execution_count": null,
      "metadata": {
        "colab": {
          "base_uri": "https://localhost:8080/"
        },
        "id": "5xyigAmoXd8L",
        "outputId": "a93dda9c-3fbb-4bb5-d61e-97e9579afa47"
      },
      "outputs": [
        {
          "name": "stdout",
          "output_type": "stream",
          "text": [
            "[12, 23, 14, 15, 16, 17, 18, 19, 20]\n"
          ]
        }
      ],
      "source": [
        "l1=[\"12\",\"23\",\"14\",\"15\",\"16\",\"17\",\"18\",\"19\",\"20\"]\n",
        "print([int(i) for i in l1]) # by using type casting converting the string into int"
      ]
    },
    {
      "cell_type": "markdown",
      "metadata": {
        "id": "c4Pp0Q-hm4Ce"
      },
      "source": [
        "27.Convert a list of intergers to a list of strings."
      ]
    },
    {
      "cell_type": "code",
      "execution_count": null,
      "metadata": {
        "colab": {
          "base_uri": "https://localhost:8080/"
        },
        "id": "JUDdqUL-mkKv",
        "outputId": "bc56bec2-dca8-44b4-e39a-63cd53faa314"
      },
      "outputs": [
        {
          "name": "stdout",
          "output_type": "stream",
          "text": [
            "['12', '23', '14', '15', '16', '17', '18', '19', '20']\n"
          ]
        }
      ],
      "source": [
        "l1 =[12, 23, 14, 15, 16, 17, 18, 19, 20]\n",
        "list_string = [str(i) for i in l1]\n",
        "print(list_string)"
      ]
    },
    {
      "cell_type": "markdown",
      "metadata": {
        "id": "R4-jL4Bvnbj6"
      },
      "source": [
        "28.Flatten a  nested list."
      ]
    },
    {
      "cell_type": "code",
      "execution_count": null,
      "metadata": {
        "colab": {
          "base_uri": "https://localhost:8080/"
        },
        "id": "QVKu17D5naV7",
        "outputId": "cd8ffd31-c81c-4ff6-d4a5-021f94afc939"
      },
      "outputs": [
        {
          "name": "stdout",
          "output_type": "stream",
          "text": [
            "[1, 2, 3, 4, 5, 6, 7]\n"
          ]
        }
      ],
      "source": [
        "my_list = [[1], [2, 3], [4, 5, 6, 7]]\n",
        "Flatten_list = []\n",
        "for i in range(len(my_list)):\n",
        "  for j in range(len(my_list[i])):\n",
        "    Flatten_list.append(my_list[i][j])\n",
        "\n",
        "print(Flatten_list)"
      ]
    },
    {
      "cell_type": "markdown",
      "metadata": {
        "id": "NYJ7Tr8so-3h"
      },
      "source": [
        "29.Create a list of the first 10 Fibonacci numbers."
      ]
    },
    {
      "cell_type": "code",
      "execution_count": null,
      "metadata": {
        "colab": {
          "base_uri": "https://localhost:8080/"
        },
        "id": "n83nDBtoouP8",
        "outputId": "555ee65a-605e-4d18-adff-8c4255fbc87d"
      },
      "outputs": [
        {
          "name": "stdout",
          "output_type": "stream",
          "text": [
            "[0, 1, 1, 2, 3, 5, 8, 13, 21, 34]\n"
          ]
        }
      ],
      "source": [
        "fibonacci_list = []\n",
        "n=10\n",
        "a,b = 0, 1\n",
        "for i in range(n):\n",
        "     fibonacci_list.append(a)\n",
        "     a, b = b, a + b  # Calculate the next Fibonacci number\n",
        "\n",
        "print(fibonacci_list)"
      ]
    },
    {
      "cell_type": "markdown",
      "metadata": {
        "id": "zejaNd9Jq6Mo"
      },
      "source": [
        "30.Check if a list is sorted."
      ]
    },
    {
      "cell_type": "code",
      "execution_count": null,
      "metadata": {
        "colab": {
          "base_uri": "https://localhost:8080/"
        },
        "id": "ZNCbuj5aqhnM",
        "outputId": "e18dd9e4-af2f-4ed1-f2bb-2e9f8311d612"
      },
      "outputs": [
        {
          "name": "stdout",
          "output_type": "stream",
          "text": [
            "None\n",
            "The list is not sorted...\n"
          ]
        }
      ],
      "source": [
        "l1=[1,2,3,5,6,8,9,10,11,12]\n",
        "min\n",
        "if l1==l1.sort():\n",
        "  print(\"The list is sorted...\")\n",
        "\n",
        "else:\n",
        "  print(\"The list is not sorted...\")"
      ]
    },
    {
      "cell_type": "markdown",
      "metadata": {
        "id": "LYNpMlPlilNM"
      },
      "source": [
        "31.Rotate a list to the left by 'n' positions."
      ]
    },
    {
      "cell_type": "code",
      "execution_count": null,
      "metadata": {
        "colab": {
          "base_uri": "https://localhost:8080/"
        },
        "id": "1F3PmVortGWA",
        "outputId": "b42badfe-aa91-42d5-b60d-1d61f83850f8"
      },
      "outputs": [
        {
          "name": "stdout",
          "output_type": "stream",
          "text": [
            "[4, 5, 6, 7, 9, 10, 1, 2, 3]\n"
          ]
        }
      ],
      "source": [
        "l1=[1,2,3,4,5,6,7,9,10]\n",
        "n=3\n",
        "# print(n % len(l1))\n",
        "rotated = l1[n:] + l1[:n]\n",
        "print(rotated)\n",
        "\n",
        "\n",
        "\n"
      ]
    },
    {
      "cell_type": "markdown",
      "metadata": {
        "id": "Lv6RYCu8FY09"
      },
      "source": [
        "32.Rotate a list to the right by 'n' positions."
      ]
    },
    {
      "cell_type": "code",
      "execution_count": null,
      "metadata": {
        "colab": {
          "base_uri": "https://localhost:8080/"
        },
        "id": "DPyL-CFFF2RW",
        "outputId": "0b2b4fa2-a9a3-4851-bcf0-1e78119a064e"
      },
      "outputs": [
        {
          "name": "stdout",
          "output_type": "stream",
          "text": [
            "[56, 55, 12, 23, 34, 45]\n"
          ]
        }
      ],
      "source": [
        "l2=[12,23,34,45,56,55]\n",
        "n=2\n",
        "rotated =l2[-n:] + l2[:-n]\n",
        "print(rotated)"
      ]
    },
    {
      "cell_type": "markdown",
      "metadata": {
        "id": "A7H8aXv4XbJr"
      },
      "source": [
        "33.Create a list of prime numbers up to 50."
      ]
    },
    {
      "cell_type": "code",
      "execution_count": null,
      "metadata": {
        "colab": {
          "base_uri": "https://localhost:8080/"
        },
        "id": "_BL2aYPiXaZ5",
        "outputId": "73d74afc-aa16-4398-d31b-680df0edf0e4"
      },
      "outputs": [
        {
          "name": "stdout",
          "output_type": "stream",
          "text": [
            "[2, 3, 5, 7, 11, 13, 17, 19, 23, 29, 31, 37, 41, 43, 47]\n"
          ]
        }
      ],
      "source": [
        "prime_list=[]\n",
        "def is_prime(number):\n",
        "    if number <= 1:\n",
        "        return False\n",
        "    for i in range(2, int(number**0.5) + 1):\n",
        "        if number % i == 0:\n",
        "            return False\n",
        "    return True\n",
        "for num in range(1, 50):\n",
        "    if is_prime(num):\n",
        "        prime_list.append(num)\n",
        "\n",
        "print(prime_list)\n",
        "\n"
      ]
    },
    {
      "cell_type": "markdown",
      "metadata": {
        "id": "PTyxcmnYVSBv"
      },
      "source": [
        "34.Split a list into chunks of size 'n'."
      ]
    },
    {
      "cell_type": "code",
      "execution_count": null,
      "metadata": {
        "colab": {
          "base_uri": "https://localhost:8080/"
        },
        "id": "4MlpeRMsaoLb",
        "outputId": "e16741d2-8e76-457a-d95b-29da265afa4f"
      },
      "outputs": [
        {
          "name": "stdout",
          "output_type": "stream",
          "text": [
            "[[1, 2, 3], [4, 5, 6], [7, 8, 9], [10]]\n"
          ]
        }
      ],
      "source": [
        "lst=[1,2,3,4,5,6,7,8,9,10]\n",
        "n=3\n",
        "l1=[]\n",
        "for i in range(0, len(lst), n):\n",
        "      l1.append(lst[i:i + n])\n",
        "print(l1)"
      ]
    },
    {
      "cell_type": "markdown",
      "metadata": {
        "id": "7CBg4TsHejfQ"
      },
      "source": [
        "35.Find the second largest number in a list."
      ]
    },
    {
      "cell_type": "code",
      "execution_count": null,
      "metadata": {
        "colab": {
          "base_uri": "https://localhost:8080/"
        },
        "id": "m4_bBLM1erW5",
        "outputId": "819f7a59-5f97-4f94-89d4-595bad623421"
      },
      "outputs": [
        {
          "name": "stdout",
          "output_type": "stream",
          "text": [
            "second largest element is: 45\n"
          ]
        }
      ],
      "source": [
        "lst=[12,23,34,67,13,45]\n",
        "large=0\n",
        "second=0\n",
        "for i in range(len(lst)):\n",
        "  if(lst[i]>large and (lst[i]==lst[len(lst)-2])):\n",
        "    large=lst[i]\n",
        "\n",
        "  elif(lst[i]>large and second != large):\n",
        "    second = lst[i]\n",
        "\n",
        "print(f\"second largest element is: {second}\")"
      ]
    },
    {
      "cell_type": "markdown",
      "metadata": {
        "id": "noh2b8Syer9d"
      },
      "source": [
        "36.Replace every element in a list with its square."
      ]
    },
    {
      "cell_type": "code",
      "execution_count": null,
      "metadata": {
        "colab": {
          "base_uri": "https://localhost:8080/"
        },
        "id": "gPFnHThpeyp_",
        "outputId": "93d486d4-cbda-4c7d-cf5d-51a015d79bae"
      },
      "outputs": [
        {
          "name": "stdout",
          "output_type": "stream",
          "text": [
            "[1, 4, 9, 16, 25, 36, 49, 64, 81, 100]\n"
          ]
        }
      ],
      "source": [
        "lst=[1,2,3,4,5,6,7,8,9,10]\n",
        "sqr_list=[i*i for i in lst]\n",
        "print(sqr_list)"
      ]
    },
    {
      "cell_type": "markdown",
      "metadata": {
        "id": "GAMQrIF5ezFE"
      },
      "source": [
        "37.Convert a list to a dictionary where list elements become keys and their indices become values."
      ]
    },
    {
      "cell_type": "code",
      "execution_count": null,
      "metadata": {
        "colab": {
          "base_uri": "https://localhost:8080/"
        },
        "id": "k39_LVeFe9Dn",
        "outputId": "9293e06b-f4fd-4db5-9f5b-3ccf7372daf3"
      },
      "outputs": [
        {
          "name": "stdout",
          "output_type": "stream",
          "text": [
            "{2: 0, 4: 1, 6: 2, 8: 3, 10: 4, 12: 5, 14: 6}\n"
          ]
        }
      ],
      "source": [
        "lst=[2,4,6,8,10,12,14]\n",
        "diction={}\n",
        "for i in range(len(lst)):  #logic to converting list of indices as values of dictionary and list of values in keys of dictionary\n",
        "  diction[lst[i]]=i\n",
        "\n",
        "print(diction)"
      ]
    },
    {
      "cell_type": "markdown",
      "metadata": {
        "id": "UWCg-xcYe920"
      },
      "source": [
        "38.Shuffle the elements of a list randomly."
      ]
    },
    {
      "cell_type": "code",
      "execution_count": null,
      "metadata": {
        "colab": {
          "base_uri": "https://localhost:8080/"
        },
        "id": "sLBSrNYyfESh",
        "outputId": "20e65cb0-0347-4a69-8618-1493d4438495"
      },
      "outputs": [
        {
          "name": "stdout",
          "output_type": "stream",
          "text": [
            "Shuffled list: [4, 1, 5, 3, 2]\n"
          ]
        }
      ],
      "source": [
        "import random\n",
        "my_list = [1, 2, 3, 4, 5]\n",
        "shuffled_lst = my_list.copy()\n",
        "random.shuffle(shuffled_lst)\n",
        "print(\"Shuffled list:\", shuffled_lst)\n"
      ]
    },
    {
      "cell_type": "markdown",
      "metadata": {
        "id": "vDm2IrXZfEqq"
      },
      "source": [
        "39.Create a list of the first 10 factorial numbers."
      ]
    },
    {
      "cell_type": "code",
      "execution_count": null,
      "metadata": {
        "colab": {
          "base_uri": "https://localhost:8080/"
        },
        "id": "BkxpKckqsRPU",
        "outputId": "684b548c-da5a-469b-fbea-eb480c744e52"
      },
      "outputs": [
        {
          "name": "stdout",
          "output_type": "stream",
          "text": [
            "The list of 10 fact number is:  [1, 2, 6, 24, 120, 720, 5040, 40320, 362880, 3628800]\n"
          ]
        }
      ],
      "source": [
        "lst=[]\n",
        "fact=1\n",
        "for i in range(1,11):\n",
        "  fact=fact*i\n",
        "  lst.append(fact)\n",
        "\n",
        "print(\"The list of 10 fact number is: \", lst)\n"
      ]
    },
    {
      "cell_type": "markdown",
      "metadata": {
        "id": "SgcKddvGfiWy"
      },
      "source": [
        "40.Check if two lists have at least one element in common."
      ]
    },
    {
      "cell_type": "code",
      "execution_count": null,
      "metadata": {
        "colab": {
          "base_uri": "https://localhost:8080/"
        },
        "id": "fMWiXmIwfiEB",
        "outputId": "7aae039e-a3a6-43bf-e466-5fd7ef335613"
      },
      "outputs": [
        {
          "name": "stdout",
          "output_type": "stream",
          "text": [
            "Two lists have one element in common\n"
          ]
        }
      ],
      "source": [
        "lst1=[1,2,4,58,9,10]\n",
        "lst2=[34,4,3,5,8,23]\n",
        "decide=False\n",
        "for i in range(len(lst1)):\n",
        "  for j in range(len(lst2)):\n",
        "    if(lst1[i]==lst2[j]):\n",
        "      decide= True\n",
        "      break\n",
        "if decide:\n",
        "  print(\"Two lists have at least one element is common\")\n",
        "else:\n",
        "  print(\"Not common elements\")\n"
      ]
    },
    {
      "cell_type": "markdown",
      "metadata": {
        "id": "Fq3YV9B0fouY"
      },
      "source": [
        "41.Remove all elements from a list."
      ]
    },
    {
      "cell_type": "code",
      "execution_count": null,
      "metadata": {
        "colab": {
          "base_uri": "https://localhost:8080/"
        },
        "id": "2fvfPvZPfrpf",
        "outputId": "013529f4-f9d0-4178-f26d-b83934f3f6b3"
      },
      "outputs": [
        {
          "name": "stdout",
          "output_type": "stream",
          "text": [
            "[]\n"
          ]
        }
      ],
      "source": [
        "lst=[23,34,45,8,9,21,23,2]\n",
        "lst.clear()  # clear function is used to remove all the elements from the list...\n",
        "print(lst)"
      ]
    },
    {
      "cell_type": "markdown",
      "metadata": {
        "id": "fa6bkFAbfr_q"
      },
      "source": [
        "42.Replace negative numbers in a list with 0"
      ]
    },
    {
      "cell_type": "code",
      "execution_count": null,
      "metadata": {
        "colab": {
          "base_uri": "https://localhost:8080/"
        },
        "id": "_U1Ia7NKfwt0",
        "outputId": "7ab341c2-5db0-4fa6-c3cd-d5cab4ef663c"
      },
      "outputs": [
        {
          "name": "stdout",
          "output_type": "stream",
          "text": [
            "[12, 2, 0, 5, 6, 0, 3, 9, 0, 6, 0, 9, 0]\n"
          ]
        }
      ],
      "source": [
        "lst=[12,2,-3,5,6,-9,3,9,-4,6,-5,9,-5]\n",
        "for i in range(len(lst)):\n",
        "  if lst[i]<0:                #this is logic to replace the negative numbers in a list with 0..\n",
        "    lst[i]=0\n",
        "\n",
        "print(lst)"
      ]
    },
    {
      "cell_type": "markdown",
      "metadata": {
        "id": "dgEHQE8LfyqA"
      },
      "source": [
        "43.Convert a string into a list of words."
      ]
    },
    {
      "cell_type": "code",
      "execution_count": null,
      "metadata": {
        "colab": {
          "base_uri": "https://localhost:8080/"
        },
        "id": "U_zFkIrNf4dp",
        "outputId": "bb9c49ad-5051-4d46-e945-d526c3a14c26"
      },
      "outputs": [
        {
          "name": "stdout",
          "output_type": "stream",
          "text": [
            "['Hello', 'guys', 'my', 'name', 'is', 'rupesh', 'kumar', 'daha']\n"
          ]
        }
      ],
      "source": [
        "str1=\"Hello guys my name is rupesh kumar daha\"\n",
        "lst= str1.split()\n",
        "print(lst)"
      ]
    },
    {
      "cell_type": "markdown",
      "metadata": {
        "id": "BgZQ2TxSf5DL"
      },
      "source": [
        "44.Convert a list of words into a string."
      ]
    },
    {
      "cell_type": "code",
      "execution_count": null,
      "metadata": {
        "colab": {
          "base_uri": "https://localhost:8080/"
        },
        "id": "Cyg0HZe4tkIk",
        "outputId": "dd596d55-599c-4f1e-ce42-55544410fd63"
      },
      "outputs": [
        {
          "name": "stdout",
          "output_type": "stream",
          "text": [
            "This is  my  name rupesh kumar  daha\n"
          ]
        }
      ],
      "source": [
        "lst =['This', 'is','my ', 'name','rupesh','kumar ','daha']\n",
        "\n",
        "str1=  ' '.join(lst)\n",
        "print(str1)"
      ]
    },
    {
      "cell_type": "markdown",
      "metadata": {
        "id": "hXOoTBZXf9Qk"
      },
      "source": [
        "45.Create a list of the first 'n' powers of 2."
      ]
    },
    {
      "cell_type": "code",
      "execution_count": null,
      "metadata": {
        "colab": {
          "base_uri": "https://localhost:8080/"
        },
        "id": "BIEE_qgtgDJX",
        "outputId": "a6bf64bf-e3ad-4e83-b35f-56948c74e49d"
      },
      "outputs": [
        {
          "name": "stdout",
          "output_type": "stream",
          "text": [
            "Enter the number of element: 10\n",
            "The list of powers of 2 : [1, 4, 9, 16, 25, 36, 49, 64, 81, 100]\n"
          ]
        }
      ],
      "source": [
        "n=int(input(\"Enter the number of element: \"))\n",
        "lst=[]\n",
        "power=1\n",
        "for i in range(1,n+1):\n",
        "  power=i*i\n",
        "  lst.append(power)\n",
        "\n",
        "print(\"The list of powers of 2 :\",lst)"
      ]
    },
    {
      "cell_type": "markdown",
      "metadata": {
        "id": "O1GMVDN-gDj_"
      },
      "source": [
        "46.Find the longest string in a list of strings."
      ]
    },
    {
      "cell_type": "code",
      "execution_count": null,
      "metadata": {
        "colab": {
          "base_uri": "https://localhost:8080/"
        },
        "id": "KCSqbZ7HgJCT",
        "outputId": "78f5a25e-cd27-423d-c9a6-962d153c8e96"
      },
      "outputs": [
        {
          "name": "stdout",
          "output_type": "stream",
          "text": [
            "The longest string is : youtubechannel\n"
          ]
        }
      ],
      "source": [
        "lst=[\"Hello\",\"guys\",\"welcome\",\"to\",\"this\",\"youtubechannel\"]\n",
        "longest_str=0\n",
        "longest_string=\"\"\n",
        "\n",
        "for i in range(len(lst)):\n",
        "  if(len(lst[i])>longest_str):\n",
        "    longest_str=len(lst[i])\n",
        "    longest_string=lst[i]\n",
        "print(\"The longest string is :\",longest_string)\n"
      ]
    },
    {
      "cell_type": "markdown",
      "metadata": {
        "id": "VNbB6FuGgJi0"
      },
      "source": [
        "47.Find the shortest string in a list of strings."
      ]
    },
    {
      "cell_type": "code",
      "execution_count": null,
      "metadata": {
        "colab": {
          "base_uri": "https://localhost:8080/"
        },
        "id": "RMovak6AgOWb",
        "outputId": "45cd27ec-4429-47c5-b72b-54e74045affb"
      },
      "outputs": [
        {
          "name": "stdout",
          "output_type": "stream",
          "text": [
            "The longest string is : to\n"
          ]
        }
      ],
      "source": [
        "lst=[\"Hello\",\"guys\",\"welcome\",\"to\",\"this\",\"youtubechannel\"]\n",
        "shortest_str_len=len(lst[0])\n",
        "shortest_string=\"\"\n",
        "for i in range(len(lst)):\n",
        "  if(len(lst[i])<shortest_str_len):\n",
        "    shortest_str_len=len(lst[i])\n",
        "    shortest_string=lst[i]\n",
        "print(\"The longest string is :\",shortest_string)"
      ]
    },
    {
      "cell_type": "markdown",
      "metadata": {
        "id": "mXsC7gT0gOzi"
      },
      "source": [
        "48.Create a list of the first 'n' triangular numbers."
      ]
    },
    {
      "cell_type": "code",
      "execution_count": null,
      "metadata": {
        "colab": {
          "base_uri": "https://localhost:8080/"
        },
        "id": "eyeE_Aiz-hgp",
        "outputId": "e00ef1fb-3ea1-48eb-cf5b-7a181f968b46"
      },
      "outputs": [
        {
          "name": "stdout",
          "output_type": "stream",
          "text": [
            "Enter the number the total number: 10\n",
            "the fist 10 trangular number is:  [1, 3, 6, 10, 15, 21, 28, 36, 45, 55]\n"
          ]
        }
      ],
      "source": [
        "n=int(input('Enter the number the total number: '))\n",
        "lst=[]\n",
        "sum=0\n",
        "for i in range(1,n+1):\n",
        "  sum+=i\n",
        "  lst.append(sum)\n",
        "\n",
        "print(f\"the fist {n} trangular number is:  {lst}\")\n",
        "\n"
      ]
    },
    {
      "cell_type": "markdown",
      "metadata": {
        "id": "7oWlXAgSgXQ-"
      },
      "source": [
        "49.Check if a list contains another list as a subsequence."
      ]
    },
    {
      "cell_type": "code",
      "execution_count": null,
      "metadata": {
        "colab": {
          "base_uri": "https://localhost:8080/"
        },
        "id": "J1iEjE83gc9_",
        "outputId": "ba7f1313-5862-424f-d8cc-cae19fde845c"
      },
      "outputs": [
        {
          "name": "stdout",
          "output_type": "stream",
          "text": [
            "the list '[1, 3, 4, 6, 8, 9, 10, [34, 5, 6], 8, 'hello']' that contains the another list as a subsequence\n"
          ]
        }
      ],
      "source": [
        "lst=[1,3,4,6,8,9,10,[34,5,6],8,\"hello\"]\n",
        "check=False\n",
        "for i in range(len(lst)):\n",
        "  if (type(lst[i])==list):\n",
        "    check=True\n",
        "if check:\n",
        "  print(f\"the list '{lst}' that contains the another list as a subsequence\")\n",
        "else:\n",
        "  print(f\"the list '{lst}' that doesnot contain the another list as a subsequence\")\n"
      ]
    },
    {
      "cell_type": "markdown",
      "metadata": {
        "id": "SXBt7rU8gdVJ"
      },
      "source": [
        "50.Swap two elements in a list by their indices."
      ]
    },
    {
      "cell_type": "code",
      "execution_count": null,
      "metadata": {
        "colab": {
          "base_uri": "https://localhost:8080/"
        },
        "id": "fK15kUXgtnYX",
        "outputId": "1c106861-e4b7-4cf9-d14f-6ba0fc614f89"
      },
      "outputs": [
        {
          "name": "stdout",
          "output_type": "stream",
          "text": [
            "Enter the index of fist element :0\n",
            "Enter the index of second element :5\n",
            "the list before swaping : [12, 34, 45, 34, 56, 90]\n",
            "The list after swaping :  [90, 34, 45, 34, 56, 12]\n"
          ]
        }
      ],
      "source": [
        "lst=[12,34,45,34,56,90]\n",
        "n1=int(input(\"Enter the index of fist element :\"))\n",
        "n2=int(input(\"Enter the index of second element :\"))\n",
        "if((0<=n1<(len(lst))) and(0<= n2<(len(lst)))):\n",
        "  print(\"the list before swaping :\",lst)\n",
        "  lst[n1],lst[n2]=lst[n2],lst[n1]\n",
        "  print(\"The list after swaping : \",lst)\n",
        "else:\n",
        "  print(\"invalid indices provided  .....  .....\")"
      ]
    },
    {
      "cell_type": "markdown",
      "metadata": {
        "id": "6XLyEKNIvwNG"
      },
      "source": [
        "**Tuple Based Practice Problem**"
      ]
    },
    {
      "cell_type": "markdown",
      "metadata": {
        "id": "nyCouLJGL_61"
      },
      "source": [
        "1.Create a tuple with integers from 1 to 5."
      ]
    },
    {
      "cell_type": "code",
      "execution_count": null,
      "metadata": {
        "colab": {
          "base_uri": "https://localhost:8080/"
        },
        "id": "n1pXsDSbRQDa",
        "outputId": "1c6bae36-616c-4732-ff9b-a59eef7edae6"
      },
      "outputs": [
        {
          "name": "stdout",
          "output_type": "stream",
          "text": [
            "(1, 2, 3, 4, 5)\n"
          ]
        }
      ],
      "source": [
        "tpl=(1,2,3,4,5)\n",
        "print(tpl)\n"
      ]
    },
    {
      "cell_type": "code",
      "execution_count": null,
      "metadata": {
        "id": "zh8ep6jKMKUY"
      },
      "outputs": [],
      "source": []
    },
    {
      "cell_type": "markdown",
      "metadata": {
        "id": "M3neNFvlL9VO"
      },
      "source": [
        "2.Access the third element of a tuple."
      ]
    },
    {
      "cell_type": "code",
      "execution_count": null,
      "metadata": {
        "colab": {
          "base_uri": "https://localhost:8080/"
        },
        "id": "eKcqytb5DJH0",
        "outputId": "f9375db0-acc4-4f71-9e7e-aa5ec3e35c89"
      },
      "outputs": [
        {
          "name": "stdout",
          "output_type": "stream",
          "text": [
            "Enter the element positon you want to access: 3\n",
            "The element is:  3\n"
          ]
        }
      ],
      "source": [
        "tpl=(1,2,3,4,5,6,7,8,9,10)\n",
        "index=int(input(\"Enter the element positon you want to access: \"))\n",
        "print(\"The element is: \",tpl[index-1])"
      ]
    },
    {
      "cell_type": "markdown",
      "metadata": {
        "id": "aq0vXVR9MP9f"
      },
      "source": [
        "3.Find the length of a tuple without using the 'len()' function."
      ]
    },
    {
      "cell_type": "code",
      "execution_count": null,
      "metadata": {
        "colab": {
          "base_uri": "https://localhost:8080/"
        },
        "id": "0wiQXPlpMabF",
        "outputId": "beb5f7b9-b7f3-4854-e08d-5e2c0778f53c"
      },
      "outputs": [
        {
          "name": "stdout",
          "output_type": "stream",
          "text": [
            "The length of tuple '(2, 3, 4, 5, 8, 92, 4, 56, 10)' is:  9\n"
          ]
        }
      ],
      "source": [
        "tpl=(2,3,4,5,8,92,4,56,10)\n",
        "lenth=0\n",
        "for i in tpl:\n",
        "  lenth+=1\n",
        "print(f\"The length of tuple '{tpl}' is:  {lenth}\")\n"
      ]
    },
    {
      "cell_type": "markdown",
      "metadata": {
        "id": "TFzD7L9vMa88"
      },
      "source": [
        "4.Count the occurrences of an element in a tuple."
      ]
    },
    {
      "cell_type": "code",
      "execution_count": null,
      "metadata": {
        "colab": {
          "base_uri": "https://localhost:8080/"
        },
        "id": "10DAr7d_-Uyk",
        "outputId": "425552c0-7828-4ab3-c044-e0f862542c98"
      },
      "outputs": [
        {
          "name": "stdout",
          "output_type": "stream",
          "text": [
            "Enter the element: 4\n",
            "the occurences '4' in (2, 3, 4, 8, 9, 3, 4, 5, 3, 67, 3) is: 2\n"
          ]
        }
      ],
      "source": [
        "tpl=(2,3,4,8,9,3,4,5,3,67,3)\n",
        "element=int(input(\"Enter the element: \"))\n",
        "occurence=0\n",
        "for i in tpl:\n",
        "  if element==i:\n",
        "    occurence+=1\n",
        "\n",
        "print(f\"the occurences '{element}' in {tpl} is: {occurence}\")"
      ]
    },
    {
      "cell_type": "markdown",
      "metadata": {
        "id": "a17qeVWMMkHy"
      },
      "source": [
        "5.Find the index of the first occurrence of an element in a tuple."
      ]
    },
    {
      "cell_type": "code",
      "execution_count": null,
      "metadata": {
        "colab": {
          "base_uri": "https://localhost:8080/"
        },
        "id": "2bY4wDsvMsWx",
        "outputId": "269a8f1b-33ee-483a-8d63-668512c2fc97"
      },
      "outputs": [
        {
          "name": "stdout",
          "output_type": "stream",
          "text": [
            "Enter the element: 3\n",
            "The fist occurrece of 3 is at index 1\n"
          ]
        }
      ],
      "source": [
        "tpl=(2,3,4,8,9,3,4,5,3,67,3)\n",
        "element=int(input(\"Enter the element: \"))\n",
        "print(f\"The fist occurrece of {element} is at index {tpl.index(element)}\")"
      ]
    },
    {
      "cell_type": "markdown",
      "metadata": {
        "id": "cuTR0A8OMuDp"
      },
      "source": [
        "6.Check if an element exists in a tuple."
      ]
    },
    {
      "cell_type": "code",
      "execution_count": null,
      "metadata": {
        "colab": {
          "base_uri": "https://localhost:8080/"
        },
        "id": "AWESBdwRB_h3",
        "outputId": "8eb78abd-0d6f-45e4-a0df-46c54b240b61"
      },
      "outputs": [
        {
          "name": "stdout",
          "output_type": "stream",
          "text": [
            "Enter the element: 0\n",
            "The element '0 that does not exist in '(23, 56, 8, 9, 4, 2, 1, 45)'\n"
          ]
        }
      ],
      "source": [
        "tpl=(23,56,8,9,4,2,1,45)\n",
        "element=int(input(\"Enter the element: \"))\n",
        "check=False\n",
        "for i in tpl:\n",
        "  if element==i:\n",
        "      check=True\n",
        "      break\n",
        "if check:\n",
        " print(f\"The element '{element} that exists in '{tpl}'\")\n",
        "else:\n",
        " print(f\"The element '{element} that does not exist in '{tpl}'\")"
      ]
    },
    {
      "cell_type": "markdown",
      "metadata": {
        "id": "tUDhXRAzMzWX"
      },
      "source": [
        "7.Convert a tuple to a list."
      ]
    },
    {
      "cell_type": "code",
      "execution_count": null,
      "metadata": {
        "colab": {
          "base_uri": "https://localhost:8080/"
        },
        "id": "_Q5wPmUbM203",
        "outputId": "db2fc2e2-775d-4167-925e-9d675ced4e7e"
      },
      "outputs": [
        {
          "name": "stdout",
          "output_type": "stream",
          "text": [
            "[23, 34, 8, 7, 9, 10]\n"
          ]
        }
      ],
      "source": [
        "tpl=(23,34,8,7,9,10)\n",
        "lst=list(tpl)\n",
        "print(lst)"
      ]
    },
    {
      "cell_type": "markdown",
      "metadata": {
        "id": "65yY1WehM3ot"
      },
      "source": [
        "8.Convert a list to a tuple"
      ]
    },
    {
      "cell_type": "code",
      "execution_count": null,
      "metadata": {
        "colab": {
          "base_uri": "https://localhost:8080/"
        },
        "id": "i9MJSvay2g44",
        "outputId": "0f161f47-2e6d-4bcd-8830-726484c4e603"
      },
      "outputs": [
        {
          "name": "stdout",
          "output_type": "stream",
          "text": [
            "(1, 2, 3, 4, 5, 9, 7, 8, 10)\n"
          ]
        }
      ],
      "source": [
        "lst=[1,2,3,4,5,9,7,8,10]\n",
        "tpl=tuple(lst)\n",
        "print(tpl)"
      ]
    },
    {
      "cell_type": "code",
      "execution_count": null,
      "metadata": {
        "id": "c7u-aNGG2pzl"
      },
      "outputs": [],
      "source": []
    },
    {
      "cell_type": "markdown",
      "metadata": {
        "id": "geU_CP1YM76F"
      },
      "source": [
        "9.Unpack the elements of a tuple into variables."
      ]
    },
    {
      "cell_type": "code",
      "execution_count": null,
      "metadata": {
        "colab": {
          "base_uri": "https://localhost:8080/"
        },
        "id": "Dd_q9cmQ2rNp",
        "outputId": "0613fcf4-419b-43c6-a350-379141227c91"
      },
      "outputs": [
        {
          "name": "stdout",
          "output_type": "stream",
          "text": [
            "1 3 5 7 9\n"
          ]
        }
      ],
      "source": [
        "tpl=(1,3,5,7,9)\n",
        "a,b,c,d,e=tpl\n",
        "print(a,b,c,d,e)\n"
      ]
    },
    {
      "cell_type": "markdown",
      "metadata": {
        "id": "WHjl3pxBNCD1"
      },
      "source": [
        "10.Create a tuple of even numbers from 1 to 10."
      ]
    },
    {
      "cell_type": "code",
      "execution_count": null,
      "metadata": {
        "colab": {
          "base_uri": "https://localhost:8080/"
        },
        "id": "Qh04sdeI4Aik",
        "outputId": "09cc4155-4101-495a-8bac-67d25fe25487"
      },
      "outputs": [
        {
          "name": "stdout",
          "output_type": "stream",
          "text": [
            "<class 'tuple'> (2, 4, 6, 8, 10)\n"
          ]
        }
      ],
      "source": [
        "tpl=tuple(i for i in range(1,11) if i%2==0)\n",
        "print(type(tpl),tpl)\n"
      ]
    },
    {
      "cell_type": "markdown",
      "metadata": {
        "id": "8eRVvT3sNHIs"
      },
      "source": [
        "11.Create a tuple of odd numbers from 1 to 10."
      ]
    },
    {
      "cell_type": "code",
      "execution_count": null,
      "metadata": {
        "colab": {
          "base_uri": "https://localhost:8080/"
        },
        "id": "6fwvojdl5Xoc",
        "outputId": "1fb2bed9-3942-4036-9b85-4531960e2c1f"
      },
      "outputs": [
        {
          "name": "stdout",
          "output_type": "stream",
          "text": [
            "<class 'tuple'> (1, 3, 5, 7, 9)\n"
          ]
        }
      ],
      "source": [
        "tpl=tuple(i for i in range(1,11) if i%2==1)\n",
        "print(type(tpl),tpl)"
      ]
    },
    {
      "cell_type": "markdown",
      "metadata": {
        "id": "hBOLKdVqNNHq"
      },
      "source": [
        "12.Concetenate two tuples."
      ]
    },
    {
      "cell_type": "code",
      "execution_count": null,
      "metadata": {
        "colab": {
          "base_uri": "https://localhost:8080/"
        },
        "id": "aSi_Stv-5hpk",
        "outputId": "ecb50134-f8ef-4aa9-8dd7-a2a1c8f02832"
      },
      "outputs": [
        {
          "name": "stdout",
          "output_type": "stream",
          "text": [
            "(1, 3, 5, 7, 9, 2, 4, 6, 8, 10)\n"
          ]
        }
      ],
      "source": [
        "tpl1=(1,3,5,7,9)\n",
        "tpl2=(2,4,6,8,10)\n",
        "concanated_tpl=tpl1+tpl2\n",
        "print(concanated_tpl)"
      ]
    },
    {
      "cell_type": "markdown",
      "metadata": {
        "id": "qJUziPSwNSzl"
      },
      "source": [
        "13.Repeat a tuple three times."
      ]
    },
    {
      "cell_type": "code",
      "execution_count": null,
      "metadata": {
        "colab": {
          "base_uri": "https://localhost:8080/"
        },
        "id": "UbCCsypn57zr",
        "outputId": "0cccb67a-874e-4d2c-8bf6-43db8a8f62bb"
      },
      "outputs": [
        {
          "name": "stdout",
          "output_type": "stream",
          "text": [
            "(1, 2, 3, 4, 5, 6, 7, 8, 9, 1, 2, 3, 4, 5, 6, 7, 8, 9, 1, 2, 3, 4, 5, 6, 7, 8, 9)\n"
          ]
        }
      ],
      "source": [
        "tpl=(1,2,3,4,5,6,7,8,9)\n",
        "repeat_tpl=tpl*3\n",
        "print(repeat_tpl)"
      ]
    },
    {
      "cell_type": "markdown",
      "metadata": {
        "id": "oZNnAOh7OiNc"
      },
      "source": [
        "14.Check if a tuple is empty."
      ]
    },
    {
      "cell_type": "code",
      "execution_count": null,
      "metadata": {
        "colab": {
          "base_uri": "https://localhost:8080/"
        },
        "id": "s9RyxMe36J3r",
        "outputId": "86789388-2dda-4f45-df02-4d20ace25e6e"
      },
      "outputs": [
        {
          "name": "stdout",
          "output_type": "stream",
          "text": [
            "Tuple is empty.\n"
          ]
        }
      ],
      "source": [
        "tpl=()\n",
        "if(len(tpl)==0):\n",
        "  print(\"Tuple is empty.\")\n",
        "else:\n",
        "  print(\"Tuple is not empty.\")"
      ]
    },
    {
      "cell_type": "markdown",
      "metadata": {
        "id": "TxRIQMoTOnI1"
      },
      "source": [
        "15.Create a nested tuple."
      ]
    },
    {
      "cell_type": "code",
      "execution_count": null,
      "metadata": {
        "colab": {
          "base_uri": "https://localhost:8080/"
        },
        "id": "zno4MShY6h9v",
        "outputId": "fb579797-ba81-47a7-8b1e-f37649de75dd"
      },
      "outputs": [
        {
          "name": "stdout",
          "output_type": "stream",
          "text": [
            "(1, 2, 4, 5, (2, 34, 5, (4, 5, 8)))\n",
            "(4, 5, 8)\n"
          ]
        }
      ],
      "source": [
        "tpl=(1,2,4,5,(2,34,5,(4,5,8)))\n",
        "print(tpl)\n",
        "print(tpl[4][3])"
      ]
    },
    {
      "cell_type": "markdown",
      "metadata": {
        "id": "A2wEPDd5Op67"
      },
      "source": [
        "16.Access the first element of a nested tuple."
      ]
    },
    {
      "cell_type": "code",
      "execution_count": null,
      "metadata": {
        "colab": {
          "base_uri": "https://localhost:8080/"
        },
        "id": "GK2e1xNp6xQM",
        "outputId": "83aaa651-5709-416f-9515-918e0c546500"
      },
      "outputs": [
        {
          "name": "stdout",
          "output_type": "stream",
          "text": [
            "3\n"
          ]
        }
      ],
      "source": [
        "tpl=((3,5,5),4,5,(4,5))\n",
        "print(tpl[0][0])"
      ]
    },
    {
      "cell_type": "markdown",
      "metadata": {
        "id": "2Nu203K9OvHu"
      },
      "source": [
        "17.Create a tuple with a single element."
      ]
    },
    {
      "cell_type": "code",
      "execution_count": null,
      "metadata": {
        "colab": {
          "base_uri": "https://localhost:8080/"
        },
        "id": "XmaG5nGY7Gbj",
        "outputId": "7884471c-e1e9-4bc1-f2a3-6074434048b6"
      },
      "outputs": [
        {
          "name": "stdout",
          "output_type": "stream",
          "text": [
            "(1,)\n"
          ]
        }
      ],
      "source": [
        "tpl=(1,)\n",
        "print(tpl)"
      ]
    },
    {
      "cell_type": "code",
      "execution_count": null,
      "metadata": {
        "id": "RMFMeBjn7FRn"
      },
      "outputs": [],
      "source": []
    },
    {
      "cell_type": "markdown",
      "metadata": {
        "id": "MpptOGmqOy0b"
      },
      "source": [
        "18.Compare two tuples."
      ]
    },
    {
      "cell_type": "code",
      "execution_count": null,
      "metadata": {
        "colab": {
          "base_uri": "https://localhost:8080/"
        },
        "id": "GOMxsHu17QCb",
        "outputId": "69c2733f-e598-4f55-ba7c-35e709b1d0f5"
      },
      "outputs": [
        {
          "name": "stdout",
          "output_type": "stream",
          "text": [
            "Tuple1 is equal to tuple 2\n"
          ]
        }
      ],
      "source": [
        "tpl1=(1,2,3)\n",
        "tpl2=(1,2,3)\n",
        "if tpl1==tpl2:\n",
        "  print(\"Tuple1 is equal to tuple 2\")\n",
        "else:\n",
        "  print(\"Tuple1 is not equal to tuple 2\")"
      ]
    },
    {
      "cell_type": "markdown",
      "metadata": {
        "id": "9hv9rYWQO11q"
      },
      "source": [
        "19.Delete a tuple."
      ]
    },
    {
      "cell_type": "code",
      "execution_count": null,
      "metadata": {
        "colab": {
          "base_uri": "https://localhost:8080/",
          "height": 210
        },
        "id": "yI6JVNjT7p4T",
        "outputId": "d7bb0e90-da88-4fc9-b4e5-67a90d63b719"
      },
      "outputs": [
        {
          "ename": "NameError",
          "evalue": "ignored",
          "output_type": "error",
          "traceback": [
            "\u001b[0;31m---------------------------------------------------------------------------\u001b[0m",
            "\u001b[0;31mNameError\u001b[0m                                 Traceback (most recent call last)",
            "\u001b[0;32m<ipython-input-20-f1e6b036c8af>\u001b[0m in \u001b[0;36m<cell line: 3>\u001b[0;34m()\u001b[0m\n\u001b[1;32m      1\u001b[0m \u001b[0mtpl1\u001b[0m\u001b[0;34m=\u001b[0m\u001b[0;34m(\u001b[0m\u001b[0;36m2\u001b[0m\u001b[0;34m,\u001b[0m\u001b[0;36m4\u001b[0m\u001b[0;34m,\u001b[0m\u001b[0;36m6\u001b[0m\u001b[0;34m,\u001b[0m\u001b[0;36m8\u001b[0m\u001b[0;34m,\u001b[0m\u001b[0;36m10\u001b[0m\u001b[0;34m)\u001b[0m\u001b[0;34m\u001b[0m\u001b[0;34m\u001b[0m\u001b[0m\n\u001b[1;32m      2\u001b[0m \u001b[0;32mdel\u001b[0m \u001b[0mtpl1\u001b[0m\u001b[0;34m\u001b[0m\u001b[0;34m\u001b[0m\u001b[0m\n\u001b[0;32m----> 3\u001b[0;31m \u001b[0mprint\u001b[0m\u001b[0;34m(\u001b[0m\u001b[0mtpl1\u001b[0m\u001b[0;34m)\u001b[0m\u001b[0;34m\u001b[0m\u001b[0;34m\u001b[0m\u001b[0m\n\u001b[0m",
            "\u001b[0;31mNameError\u001b[0m: name 'tpl1' is not defined"
          ]
        }
      ],
      "source": [
        "tpl1=(2,4,6,8,10)\n",
        "del tpl1\n"
      ]
    },
    {
      "cell_type": "markdown",
      "metadata": {
        "id": "q0QqXWZNO4FO"
      },
      "source": [
        "20.Slice a tuple."
      ]
    },
    {
      "cell_type": "code",
      "execution_count": null,
      "metadata": {
        "colab": {
          "base_uri": "https://localhost:8080/"
        },
        "id": "5BRNsF0D75n6",
        "outputId": "7a60b6a9-e197-46b7-a6fe-0e200b18773b"
      },
      "outputs": [
        {
          "name": "stdout",
          "output_type": "stream",
          "text": [
            "(4, 5, 7)\n"
          ]
        }
      ],
      "source": [
        "tpl=(2,4,5,7,8,9)\n",
        "print(tpl[1:4])"
      ]
    },
    {
      "cell_type": "markdown",
      "metadata": {
        "id": "P3Dd722MO6LW"
      },
      "source": [
        "21.Find the maximum value in a tuple."
      ]
    },
    {
      "cell_type": "code",
      "execution_count": null,
      "metadata": {
        "colab": {
          "base_uri": "https://localhost:8080/"
        },
        "id": "svlqhorH8CuI",
        "outputId": "9bea5017-9386-49e4-b3af-ac12357b8823"
      },
      "outputs": [
        {
          "name": "stdout",
          "output_type": "stream",
          "text": [
            "23\n"
          ]
        }
      ],
      "source": [
        "tpl=(23,4,5,8,9,10,7)\n",
        "print(max(tpl))"
      ]
    },
    {
      "cell_type": "markdown",
      "metadata": {
        "id": "1iBTGqbgO9za"
      },
      "source": [
        "22.Find the minimum value in a tuple."
      ]
    },
    {
      "cell_type": "code",
      "execution_count": null,
      "metadata": {
        "colab": {
          "base_uri": "https://localhost:8080/"
        },
        "id": "6HOpAMuM8NYb",
        "outputId": "ea018f33-8639-4e64-e230-a160d1ee225e"
      },
      "outputs": [
        {
          "name": "stdout",
          "output_type": "stream",
          "text": [
            "1\n"
          ]
        }
      ],
      "source": [
        "tpl=(34,5,6,78,9,1)\n",
        "print(min(tpl))"
      ]
    },
    {
      "cell_type": "markdown",
      "metadata": {
        "id": "eO7AbnygPBFy"
      },
      "source": [
        "23.Convert a string to a tuple of characters."
      ]
    },
    {
      "cell_type": "code",
      "execution_count": null,
      "metadata": {
        "colab": {
          "base_uri": "https://localhost:8080/"
        },
        "id": "eBWfr6mu8SRO",
        "outputId": "edadf6ba-42ed-4aa2-a64e-142ce2515e2c"
      },
      "outputs": [
        {
          "name": "stdout",
          "output_type": "stream",
          "text": [
            "('r', 'u', 'p', 'e', 's', 'h', 'd', 'a', 'h', 'a')\n"
          ]
        }
      ],
      "source": [
        "input_str=\"rupeshdaha\"\n",
        "lst=list(input_str)\n",
        "tpl=tuple(lst)\n",
        "print(tpl)"
      ]
    },
    {
      "cell_type": "markdown",
      "metadata": {
        "id": "2efNy4cJPFSG"
      },
      "source": [
        "24.Convert a tuple of characters to a string."
      ]
    },
    {
      "cell_type": "code",
      "execution_count": null,
      "metadata": {
        "colab": {
          "base_uri": "https://localhost:8080/"
        },
        "id": "hCNXnifD8lqg",
        "outputId": "4e989ad4-c18a-4021-f63d-0e2ec44b6697"
      },
      "outputs": [
        {
          "name": "stdout",
          "output_type": "stream",
          "text": [
            "rupeshdaha\n"
          ]
        }
      ],
      "source": [
        "tpl=('r', 'u', 'p', 'e', 's', 'h', 'd', 'a', 'h', 'a')\n",
        "lst=list(tpl)\n",
        "str_char=\"\".join(lst)\n",
        "print(str_char)"
      ]
    },
    {
      "cell_type": "code",
      "execution_count": null,
      "metadata": {
        "id": "yOVuJwxr8lME"
      },
      "outputs": [],
      "source": []
    },
    {
      "cell_type": "markdown",
      "metadata": {
        "id": "MhGIzGlfPIzL"
      },
      "source": [
        "25.Create a tuple from multple data types."
      ]
    },
    {
      "cell_type": "code",
      "execution_count": null,
      "metadata": {
        "colab": {
          "base_uri": "https://localhost:8080/"
        },
        "id": "QhUv95SV86Fj",
        "outputId": "4b52f2a5-fc71-4d97-e694-0a0795a6f812"
      },
      "outputs": [
        {
          "name": "stdout",
          "output_type": "stream",
          "text": [
            "(1, 1.4, 'rupesh', True, {1: 2, 3: 4}, (3+4j), [2, 3, 4])\n"
          ]
        }
      ],
      "source": [
        "mixed_tuple=(1,1.4,\"rupesh\",True,{1:2,3:4},3+4j,[2,3,4])\n",
        "print(mixed_tuple)\n",
        "\n"
      ]
    },
    {
      "cell_type": "markdown",
      "metadata": {
        "id": "AXdrSADWPMKd"
      },
      "source": [
        "26.Check if two tuples are identical."
      ]
    },
    {
      "cell_type": "code",
      "execution_count": null,
      "metadata": {
        "colab": {
          "base_uri": "https://localhost:8080/"
        },
        "id": "otRacI_I-f7a",
        "outputId": "caef655c-2ca3-4ec8-c29b-f135ada00b70"
      },
      "outputs": [
        {
          "name": "stdout",
          "output_type": "stream",
          "text": [
            "Tuples are identical\n"
          ]
        }
      ],
      "source": [
        "tuple1 = (1, 2, 3)\n",
        "tuple2 = (1, 2, 3)\n",
        "\n",
        "if tuple1 == tuple2:\n",
        "    print(\"Tuples are identical\")\n",
        "else:\n",
        "    print(\"Tuples are not identical\")\n"
      ]
    },
    {
      "cell_type": "markdown",
      "metadata": {
        "id": "VzjZJDrfPPp6"
      },
      "source": [
        "27.Sort the elements of a tuple."
      ]
    },
    {
      "cell_type": "code",
      "execution_count": null,
      "metadata": {
        "colab": {
          "base_uri": "https://localhost:8080/"
        },
        "id": "trAlYyRYaV3I",
        "outputId": "eeeb4df9-c96c-4a8d-f2f8-c76c490f6f34"
      },
      "outputs": [
        {
          "name": "stdout",
          "output_type": "stream",
          "text": [
            "(1, 2, 3, 4, 5, 6, 7, 8, 9)\n"
          ]
        }
      ],
      "source": [
        "tpl=(7,8,1,2,6,3,9,4,5)\n",
        "sorted_tpl=tuple(sorted(tpl))\n",
        "print(sorted_tpl)"
      ]
    },
    {
      "cell_type": "markdown",
      "metadata": {
        "id": "qYuZRq4qPT9j"
      },
      "source": [
        "29.Convert a tuple of strings to a tuple of integers."
      ]
    },
    {
      "cell_type": "code",
      "execution_count": null,
      "metadata": {
        "colab": {
          "base_uri": "https://localhost:8080/"
        },
        "id": "bMCjA6RSa_Kz",
        "outputId": "47cd4c30-1978-409e-9443-e8346d8d9f9c"
      },
      "outputs": [
        {
          "name": "stdout",
          "output_type": "stream",
          "text": [
            "(1, 2, 3, 4, 5, 6, 7, 9, 10)\n"
          ]
        }
      ],
      "source": [
        "tpl=('1','2','3','4','5','6','7','9','10')\n",
        "tuple_int=tuple(int(i) for i in tpl)\n",
        "print(tuple_int)"
      ]
    },
    {
      "cell_type": "markdown",
      "metadata": {
        "id": "9hBx1cRHPcGE"
      },
      "source": [
        "30.Merge two tuples."
      ]
    },
    {
      "cell_type": "code",
      "execution_count": null,
      "metadata": {
        "colab": {
          "base_uri": "https://localhost:8080/"
        },
        "id": "Zze-uawVbV2s",
        "outputId": "b12df382-8978-481a-8117-3a160a33ed7c"
      },
      "outputs": [
        {
          "name": "stdout",
          "output_type": "stream",
          "text": [
            "Merged tuple is:  (1, 2, 3, 4, 5, 6, 7, 8, 9, 10)\n"
          ]
        }
      ],
      "source": [
        "tuple1=(1,2,3,4,5)\n",
        "tuple2=(6,7,8,9,10)\n",
        "merge_tuple=tuple1+tuple2\n",
        "print(\"Merged tuple is: \",merge_tuple)"
      ]
    },
    {
      "cell_type": "markdown",
      "metadata": {
        "id": "eKqKPN1IPfLi"
      },
      "source": [
        "31.Flatten a nested tuple."
      ]
    },
    {
      "cell_type": "code",
      "execution_count": null,
      "metadata": {
        "colab": {
          "base_uri": "https://localhost:8080/"
        },
        "id": "yTiTHeAJblho",
        "outputId": "37926a4f-329e-4180-d14e-3698d9f2e2d4"
      },
      "outputs": [
        {
          "name": "stdout",
          "output_type": "stream",
          "text": [
            "(1, 2, 3, 6, 7, 8, 9, 10)\n"
          ]
        }
      ],
      "source": [
        "tuple1=(1,2,3,(6,7,8),(9,10))\n",
        "flatten_list=[]\n",
        "for i in tuple1:\n",
        "  if(type(i)==tuple):\n",
        "    for j in i:\n",
        "      flatten_list.append(j)\n",
        "  else:\n",
        "    flatten_list.append(i)\n",
        "flatten_tuple=tuple(flatten_list)\n",
        "print(flatten_tuple)\n"
      ]
    },
    {
      "cell_type": "markdown",
      "metadata": {
        "id": "vOCVu_EXPiqO"
      },
      "source": [
        "32.Create a tuple of the first 5 prime numbers."
      ]
    },
    {
      "cell_type": "code",
      "execution_count": null,
      "metadata": {
        "colab": {
          "base_uri": "https://localhost:8080/"
        },
        "id": "IxsWkV88dSnZ",
        "outputId": "549e8f14-8a09-4781-be62-aecfe20a25cf"
      },
      "outputs": [
        {
          "name": "stdout",
          "output_type": "stream",
          "text": [
            "(2, 3, 5, 7, 11)\n"
          ]
        }
      ],
      "source": [
        "def is_prime(num):\n",
        "    if num <= 1:\n",
        "        return False\n",
        "    if num <= 3:\n",
        "        return True\n",
        "    if num % 2 == 0 or num % 3 == 0:\n",
        "        return False\n",
        "    i = 5\n",
        "    while i * i <= num:\n",
        "        if num % i == 0 or num % (i + 2) == 0:\n",
        "            return False\n",
        "        i += 6\n",
        "    return True\n",
        "\n",
        "def generate_primes(n):\n",
        "    primes = []\n",
        "    num = 2\n",
        "    while len(primes) < n:\n",
        "        if is_prime(num):\n",
        "            primes.append(num)\n",
        "        num += 1\n",
        "    return tuple(primes)\n",
        "\n",
        "first_5_primes = generate_primes(5)\n",
        "print(first_5_primes)\n"
      ]
    },
    {
      "cell_type": "markdown",
      "metadata": {
        "id": "10ZAw_vmPnb7"
      },
      "source": [
        "33.Check if a tuple is a palindrome."
      ]
    },
    {
      "cell_type": "code",
      "execution_count": null,
      "metadata": {
        "colab": {
          "base_uri": "https://localhost:8080/"
        },
        "id": "Jk5uA39ad0CW",
        "outputId": "1d19c5f9-218e-4beb-ab20-325875234a12"
      },
      "outputs": [
        {
          "name": "stdout",
          "output_type": "stream",
          "text": [
            "tuple1 is a palindrome.\n",
            "tuple2 is not a palindrome.\n"
          ]
        }
      ],
      "source": [
        "def is_palindrome_tuple(input_tuple):\n",
        "    return input_tuple == input_tuple[::-1]\n",
        "\n",
        "# Example usage:\n",
        "tuple1 = (1, 2, 3, 2, 1)\n",
        "tuple2 = (1, 2, 3, 4, 5)\n",
        "\n",
        "if is_palindrome_tuple(tuple1):\n",
        "    print(\"tuple1 is a palindrome.\")\n",
        "else:\n",
        "    print(\"tuple1 is not a palindrome.\")\n",
        "\n",
        "if is_palindrome_tuple(tuple2):\n",
        "    print(\"tuple2 is a palindrome.\")\n",
        "else:\n",
        "    print(\"tuple2 is not a palindrome.\")\n"
      ]
    },
    {
      "cell_type": "markdown",
      "metadata": {
        "id": "0ZSLgl7RPqUe"
      },
      "source": [
        "34.Create a tuple of squares of numbers from 1 to 5."
      ]
    },
    {
      "cell_type": "code",
      "execution_count": null,
      "metadata": {
        "colab": {
          "base_uri": "https://localhost:8080/"
        },
        "id": "uP8dqvI3eP6d",
        "outputId": "73f1b14a-ea79-4e09-c9e0-559ad8490d23"
      },
      "outputs": [
        {
          "name": "stdout",
          "output_type": "stream",
          "text": [
            "(1, 4, 9, 16, 25)\n"
          ]
        }
      ],
      "source": [
        "tpl1=tuple(i*i for i in range(1,6))\n",
        "print(tpl1)"
      ]
    },
    {
      "cell_type": "markdown",
      "metadata": {
        "id": "sIHRw9R5PvuL"
      },
      "source": [
        "35.Filter out all even numbers from a tuple."
      ]
    },
    {
      "cell_type": "code",
      "execution_count": null,
      "metadata": {
        "colab": {
          "base_uri": "https://localhost:8080/"
        },
        "id": "DMjCzFJTedK2",
        "outputId": "febb079d-c17e-4e51-c9d5-502556a2f5cf"
      },
      "outputs": [
        {
          "name": "stdout",
          "output_type": "stream",
          "text": [
            "(2, 4, 6, 8, 10)\n"
          ]
        }
      ],
      "source": [
        "tpl=(1,2,3,4,5,6,7,8,9,10)\n",
        "even_tuple=tuple(i for i in tpl if(i%2)==0)\n",
        "print(even_tuple)"
      ]
    },
    {
      "cell_type": "code",
      "execution_count": null,
      "metadata": {
        "id": "J_1o4mrKecqc"
      },
      "outputs": [],
      "source": []
    },
    {
      "cell_type": "markdown",
      "metadata": {
        "id": "8aQ7KMh4P0bQ"
      },
      "source": [
        "36.Multiply all elements in a tuple by 2."
      ]
    },
    {
      "cell_type": "code",
      "execution_count": null,
      "metadata": {
        "colab": {
          "base_uri": "https://localhost:8080/"
        },
        "id": "x70-8Qk8ew-u",
        "outputId": "1fd99a63-c92a-4db9-b596-e2f7da397ee6"
      },
      "outputs": [
        {
          "name": "stdout",
          "output_type": "stream",
          "text": [
            "(2, 4, 6, 8, 10, 12, 14, 16, 18, 20)\n"
          ]
        }
      ],
      "source": [
        "tpl=(1,2,3,4,5,6,7,8,9,10)\n",
        "multiplied_tpl=tuple(i*2 for i in tpl)\n",
        "print(multiplied_tpl)"
      ]
    },
    {
      "cell_type": "markdown",
      "metadata": {
        "id": "7qqDzWlrP5Jw"
      },
      "source": [
        "37.Create a tuple of random numbers."
      ]
    },
    {
      "cell_type": "code",
      "execution_count": null,
      "metadata": {
        "colab": {
          "base_uri": "https://localhost:8080/"
        },
        "id": "OosB_k47fFt_",
        "outputId": "6cc3eb5a-82a9-4277-a766-e3533f430b84"
      },
      "outputs": [
        {
          "name": "stdout",
          "output_type": "stream",
          "text": [
            "(13, 28, 92, 6, 61)\n"
          ]
        }
      ],
      "source": [
        "import random\n",
        "\n",
        "random_numbers = tuple(random.randint(1, 100) for i in range(5))\n",
        "\n",
        "print(random_numbers)"
      ]
    },
    {
      "cell_type": "code",
      "execution_count": null,
      "metadata": {
        "id": "LG81xLtwe-_R"
      },
      "outputs": [],
      "source": []
    },
    {
      "cell_type": "markdown",
      "metadata": {
        "id": "vHreOJiCP-8b"
      },
      "source": [
        "38.Check if a tuple is sorted."
      ]
    },
    {
      "cell_type": "code",
      "execution_count": null,
      "metadata": {
        "colab": {
          "base_uri": "https://localhost:8080/"
        },
        "id": "_s9N0EC3fKlZ",
        "outputId": "b1baae6f-ffaf-4b50-8b8f-32114d2a7d81"
      },
      "outputs": [
        {
          "name": "stdout",
          "output_type": "stream",
          "text": [
            "tuple1 is sorted.\n",
            "tuple2 is not sorted.\n"
          ]
        }
      ],
      "source": [
        "def is_sorted_tuple(input_tuple):\n",
        "    for i in range(len(input_tuple) - 1):\n",
        "        if input_tuple[i] > input_tuple[i + 1]:\n",
        "            return False\n",
        "    return True\n",
        "\n",
        "tuple1 = (1, 2, 3, 4, 5)\n",
        "tuple2 = (5, 4, 3, 2, 1)\n",
        "\n",
        "if is_sorted_tuple(tuple1):\n",
        "    print(\"tuple1 is sorted.\")\n",
        "else:\n",
        "    print(\"tuple1 is not sorted.\")\n",
        "\n",
        "if is_sorted_tuple(tuple2):\n",
        "    print(\"tuple2 is sorted.\")\n",
        "else:\n",
        "    print(\"tuple2 is not sorted.\")\n"
      ]
    },
    {
      "cell_type": "markdown",
      "metadata": {
        "id": "C_Jec3V7QB6S"
      },
      "source": [
        "39.Rotate a tuple to the left by 'n' positions."
      ]
    },
    {
      "cell_type": "code",
      "execution_count": null,
      "metadata": {
        "colab": {
          "base_uri": "https://localhost:8080/"
        },
        "id": "0EJh7eWoEkL4",
        "outputId": "bf9ea865-7dbc-4565-b0b9-714c01521143"
      },
      "outputs": [
        {
          "name": "stdout",
          "output_type": "stream",
          "text": [
            "(3, 4, 5, 6, 1, 2)\n"
          ]
        }
      ],
      "source": [
        "Original_tuple=(1,2,3,4,5,6)\n",
        "n=2\n",
        "n=n%len(Original_tuple)\n",
        "rotated_tup = Original_tuple[n:]+Original_tuple[:n]\n",
        "print(rotated_tup)"
      ]
    },
    {
      "cell_type": "markdown",
      "metadata": {
        "id": "2sbHzmF_QHc3"
      },
      "source": [
        "40.Rotate a tuple to the right by 'n' positions."
      ]
    },
    {
      "cell_type": "code",
      "execution_count": null,
      "metadata": {
        "colab": {
          "base_uri": "https://localhost:8080/"
        },
        "id": "isPjmZSGFegS",
        "outputId": "a65c1102-92db-4e70-981a-0246ba9b4b6f"
      },
      "outputs": [
        {
          "name": "stdout",
          "output_type": "stream",
          "text": [
            "(4, 5, 6, 1, 2, 3)\n"
          ]
        }
      ],
      "source": [
        "Original_tuple=(1,2,3,4,5,6)\n",
        "n=3\n",
        "n=n% len(Original_tuple)\n",
        "rotated_tup = Original_tuple[-n:]+Original_tuple[:-n]\n",
        "print(rotated_tup)"
      ]
    },
    {
      "cell_type": "markdown",
      "metadata": {
        "id": "vuL4Kf96FcoK"
      },
      "source": []
    },
    {
      "cell_type": "markdown",
      "metadata": {
        "id": "zi6js3WJQN2W"
      },
      "source": [
        "41.Create a tuple of the first 5 Fibonacci numbers."
      ]
    },
    {
      "cell_type": "code",
      "execution_count": null,
      "metadata": {
        "colab": {
          "base_uri": "https://localhost:8080/"
        },
        "id": "BPCUYAh-GA_R",
        "outputId": "e4906f2c-644c-4fd4-bf48-1079a5ebca5e"
      },
      "outputs": [
        {
          "name": "stdout",
          "output_type": "stream",
          "text": [
            "(0, 1, 1, 2, 3)\n"
          ]
        }
      ],
      "source": [
        "fibonacci_numbers =[]\n",
        "n=5\n",
        "a,b=0,1\n",
        "for i in range(n):\n",
        "  fibonacci_numbers.append(a)\n",
        "  a,b = b, a+b\n",
        "\n",
        "fist_5_fibonacci = tuple(fibonacci_numbers)\n",
        "print(fist_5_fibonacci)\n"
      ]
    },
    {
      "cell_type": "code",
      "execution_count": null,
      "metadata": {
        "id": "gko7PrrDGA7w"
      },
      "outputs": [],
      "source": []
    },
    {
      "cell_type": "markdown",
      "metadata": {
        "id": "Un1dkZqjQSj6"
      },
      "source": [
        "42.Create a tuple from user input."
      ]
    },
    {
      "cell_type": "code",
      "execution_count": null,
      "metadata": {
        "colab": {
          "base_uri": "https://localhost:8080/"
        },
        "id": "0UP6cJPzGvA5",
        "outputId": "385961e1-1e9a-40f7-9336-d89380d180b3"
      },
      "outputs": [
        {
          "name": "stdout",
          "output_type": "stream",
          "text": [
            "Enter a series of numbers separated by spaces: 1 2 3 4 5 6 7 8 9\n",
            "(1, 2, 3, 4, 5, 6, 7, 8, 9)\n"
          ]
        }
      ],
      "source": [
        "user_input = input(\"Enter a series of numbers separated by spaces: \")\n",
        "input_list = user_input.split()\n",
        "user_tuple= tuple(map(int, input_list))\n",
        "\n",
        "print(user_tuple)"
      ]
    },
    {
      "cell_type": "markdown",
      "metadata": {
        "id": "-VgykuhYHVXA"
      },
      "source": []
    },
    {
      "cell_type": "markdown",
      "metadata": {
        "id": "pu6NPvu_QVte"
      },
      "source": [
        "43.Swap two elements in a tuple."
      ]
    },
    {
      "cell_type": "code",
      "execution_count": null,
      "metadata": {
        "colab": {
          "base_uri": "https://localhost:8080/"
        },
        "id": "dfgfrVcJHWg0",
        "outputId": "c1e80f33-d267-4f5a-ab6c-fd2ab4b71577"
      },
      "outputs": [
        {
          "name": "stdout",
          "output_type": "stream",
          "text": [
            "Enter the fist index: 3\n",
            "Enter the second index: 6\n",
            "(2, 4, 5, 10, 7, 8, 6)\n"
          ]
        }
      ],
      "source": [
        "tpl =(2,4,5,6,7,8,10)\n",
        "my_list = list(tpl)\n",
        "index1 = int(input(\"Enter the fist index: \"))\n",
        "index2 =int(input(\"Enter the second index: \"))\n",
        "my_list[index1],my_list[index2] = my_list[index2],my_list[index1]\n",
        "\n",
        "my_swapped_tuple = tuple(my_list)\n",
        "print(my_swapped_tuple)\n"
      ]
    },
    {
      "cell_type": "markdown",
      "metadata": {
        "id": "yXISTJOUQaob"
      },
      "source": [
        "44.Reverse the elements of a tuple."
      ]
    },
    {
      "cell_type": "code",
      "execution_count": null,
      "metadata": {
        "colab": {
          "base_uri": "https://localhost:8080/"
        },
        "id": "BCX60peOINcu",
        "outputId": "101800e2-420f-4eb1-a024-13c9d99b5e86"
      },
      "outputs": [
        {
          "name": "stdout",
          "output_type": "stream",
          "text": [
            "(10, 9, 8, 7, 6, 5, 4, 3, 2, 1)\n"
          ]
        }
      ],
      "source": [
        "tpl = (1,2,3,4,5,6,7,8,9,10)\n",
        "lst = list(tpl)\n",
        "tpl_reverse = tuple(lst[::-1])\n",
        "print(tpl_reverse)"
      ]
    },
    {
      "cell_type": "markdown",
      "metadata": {
        "id": "7JgeV9l_Qep6"
      },
      "source": [
        "45.Create a tuple of the first 'n' powers of 2"
      ]
    },
    {
      "cell_type": "code",
      "execution_count": null,
      "metadata": {
        "colab": {
          "base_uri": "https://localhost:8080/"
        },
        "id": "ZOCO1fpSIcbb",
        "outputId": "881cfc7d-7697-4a86-97f9-585ace5ab2ad"
      },
      "outputs": [
        {
          "name": "stdout",
          "output_type": "stream",
          "text": [
            "(1, 4, 9, 16, 25, 36, 49, 64, 81, 100)\n"
          ]
        }
      ],
      "source": [
        "tpl = tuple(i*i for i in range(1,11))\n",
        "print(tpl)"
      ]
    },
    {
      "cell_type": "markdown",
      "metadata": {
        "id": "0rm3TTZSQjI_"
      },
      "source": [
        "46.Find the longest string in a tuple of strings."
      ]
    },
    {
      "cell_type": "code",
      "execution_count": null,
      "metadata": {
        "colab": {
          "base_uri": "https://localhost:8080/"
        },
        "id": "lXAwTeSHI19l",
        "outputId": "b047f402-a6c1-4528-d00b-4a4a2f7870a1"
      },
      "outputs": [
        {
          "name": "stdout",
          "output_type": "stream",
          "text": [
            "The longest string is: elderberry\n"
          ]
        }
      ],
      "source": [
        "def find_longest_string(strings_tuple):\n",
        "    longest_string = \"\"\n",
        "    for string in strings_tuple:\n",
        "\n",
        "        if len(string) > len(longest_string):\n",
        "            longest_string = string\n",
        "\n",
        "    return longest_string\n",
        "my_tuple = (\"apple\", \"banana\", \"cherry\", \"date\", \"elderberry\")\n",
        "longest = find_longest_string(my_tuple)\n",
        "print(\"The longest string is:\", longest)\n",
        "\n"
      ]
    },
    {
      "cell_type": "code",
      "execution_count": null,
      "metadata": {
        "id": "8EnCyV8oI16H"
      },
      "outputs": [],
      "source": []
    },
    {
      "cell_type": "markdown",
      "metadata": {
        "id": "qdFvEWs3QnFk"
      },
      "source": [
        "47.Find the shortest string in a tuple of strings."
      ]
    },
    {
      "cell_type": "code",
      "execution_count": null,
      "metadata": {
        "colab": {
          "base_uri": "https://localhost:8080/"
        },
        "id": "CPg9xRsLJVHj",
        "outputId": "7ae9a6c5-0f8c-4c84-c3f7-f166b49518d0"
      },
      "outputs": [
        {
          "name": "stdout",
          "output_type": "stream",
          "text": [
            "The shortest string is: date\n"
          ]
        }
      ],
      "source": [
        "def find_shortest_string(strings_tuple):\n",
        "\n",
        "    shortest_string = None\n",
        "    for string in strings_tuple:\n",
        "      if shortest_string is None or len(string) < len(shortest_string):\n",
        "            shortest_string = string\n",
        "\n",
        "    return shortest_string\n",
        "my_tuple = (\"apple\", \"banana\", \"cherry\", \"date\", \"elderberry\")\n",
        "shortest = find_shortest_string(my_tuple)\n",
        "print(\"The shortest string is:\", shortest)\n"
      ]
    },
    {
      "cell_type": "markdown",
      "metadata": {
        "id": "5xgx_pzIQuav"
      },
      "source": [
        "48.Create a tuple of the first 'n' triangular numbers."
      ]
    },
    {
      "cell_type": "code",
      "execution_count": null,
      "metadata": {
        "colab": {
          "base_uri": "https://localhost:8080/"
        },
        "id": "22t9F9vCJdqA",
        "outputId": "6e0d0e34-da25-4cd1-856c-3e5cbba4f3bf"
      },
      "outputs": [
        {
          "name": "stdout",
          "output_type": "stream",
          "text": [
            "(1, 3, 6, 10, 15)\n"
          ]
        }
      ],
      "source": [
        "def generate_triangular_numbers(n):\n",
        "    triangular_numbers = []\n",
        "\n",
        "    for i in range(1, n + 1):\n",
        "        triangular_number = (i * (i + 1)) // 2\n",
        "        triangular_numbers.append(triangular_number)\n",
        "\n",
        "    return tuple(triangular_numbers)\n",
        "\n",
        "\n",
        "n = 5\n",
        "triangular_tuple = generate_triangular_numbers(n)\n",
        "print(triangular_tuple)\n"
      ]
    },
    {
      "cell_type": "markdown",
      "metadata": {
        "id": "CkWXwF4URBSb"
      },
      "source": []
    },
    {
      "cell_type": "markdown",
      "metadata": {
        "id": "9kBusEYvQ1d7"
      },
      "source": [
        "49.Check if a tuple contains another tuple as a subsequence."
      ]
    },
    {
      "cell_type": "code",
      "execution_count": null,
      "metadata": {
        "colab": {
          "base_uri": "https://localhost:8080/"
        },
        "id": "WIT7IIVpJs_S",
        "outputId": "46c9a7b4-459b-4945-b861-2f1470b903b5"
      },
      "outputs": [
        {
          "name": "stdout",
          "output_type": "stream",
          "text": [
            "The main tuple contains the subsequence.\n"
          ]
        }
      ],
      "source": [
        "def contains_subsequence(main_tuple, sub_tuple):\n",
        "    for i in range(len(main_tuple) - len(sub_tuple) + 1):\n",
        "        if main_tuple[i:i+len(sub_tuple)] == sub_tuple:\n",
        "            return True\n",
        "\n",
        "    return False\n",
        "\n",
        "\n",
        "main_tuple = (1, 2, 3, 4, 5, 6, 7, 8)\n",
        "sub_tuple = (3, 4, 5)\n",
        "\n",
        "if contains_subsequence(main_tuple, sub_tuple):\n",
        "    print(\"The main tuple contains the subsequence.\")\n",
        "else:\n",
        "    print(\"The main tuple does not contain the subsequence.\")\n"
      ]
    },
    {
      "cell_type": "markdown",
      "metadata": {
        "id": "tjkvFgkoQ7T7"
      },
      "source": [
        "50.Create a tuple of alternating 1s and 0s length 'n'."
      ]
    },
    {
      "cell_type": "code",
      "execution_count": null,
      "metadata": {
        "colab": {
          "base_uri": "https://localhost:8080/"
        },
        "id": "BORTiSIVKGz8",
        "outputId": "7b38a3e3-75df-413a-e6f3-364d5d175418"
      },
      "outputs": [
        {
          "name": "stdout",
          "output_type": "stream",
          "text": [
            "(1, 0, 1, 0, 1, 0, 1)\n"
          ]
        }
      ],
      "source": [
        "def alternating_ones_and_zeros(n):\n",
        "    if n <= 0:\n",
        "        return ()\n",
        "    alternating_list = [1 if i % 2 == 0 else 0 for i in range(n)]\n",
        "    alternating_tuple = tuple(alternating_list)\n",
        "\n",
        "    return alternating_tuple\n",
        "\n",
        "\n",
        "n = 7\n",
        "result_tuple = alternating_ones_and_zeros(n)\n",
        "print(result_tuple)\n"
      ]
    },
    {
      "cell_type": "markdown",
      "metadata": {
        "id": "nJnL_opjRDLh"
      },
      "source": [
        "**Set Based Practice Problem**"
      ]
    },
    {
      "cell_type": "markdown",
      "metadata": {
        "id": "uv9pue_PRRmA"
      },
      "source": [
        "1.Create a set with integers from 1 to 5."
      ]
    },
    {
      "cell_type": "code",
      "execution_count": null,
      "metadata": {
        "colab": {
          "base_uri": "https://localhost:8080/"
        },
        "id": "kj6oGymVqjbL",
        "outputId": "de3da445-83f0-4565-a631-e90622cc51c4"
      },
      "outputs": [
        {
          "name": "stdout",
          "output_type": "stream",
          "text": [
            "{1, 2, 3, 4, 5, 6}\n"
          ]
        }
      ],
      "source": [
        "set1={1,2,3,4,5,6}\n",
        "print(set1)"
      ]
    },
    {
      "cell_type": "markdown",
      "metadata": {
        "id": "-euUdI0kRWYm"
      },
      "source": [
        "2.Add an element from a set."
      ]
    },
    {
      "cell_type": "code",
      "execution_count": null,
      "metadata": {
        "colab": {
          "base_uri": "https://localhost:8080/"
        },
        "id": "fS0-TGL6ELuN",
        "outputId": "57b1050f-47dd-4034-a5e2-0d22971a41ac"
      },
      "outputs": [
        {
          "name": "stdout",
          "output_type": "stream",
          "text": [
            "{2, 4, 6, 8, 10, 12}\n"
          ]
        }
      ],
      "source": [
        "set1={2,4,6,8,10}\n",
        "set1.add(12)\n",
        "print(set1)"
      ]
    },
    {
      "cell_type": "markdown",
      "metadata": {
        "id": "5HGV3QvURZbO"
      },
      "source": [
        "3.Remove an element from a set."
      ]
    },
    {
      "cell_type": "code",
      "execution_count": null,
      "metadata": {
        "colab": {
          "base_uri": "https://localhost:8080/"
        },
        "id": "OMAFNBTrEdj2",
        "outputId": "749a3ff2-a6b0-4429-9a0c-41b348f57e66"
      },
      "outputs": [
        {
          "name": "stdout",
          "output_type": "stream",
          "text": [
            "{1, 3, 5, 9, 11}\n"
          ]
        }
      ],
      "source": [
        "set1={1,3,5,7,9,11}\n",
        "set1.remove(7)\n",
        "print(set1)"
      ]
    },
    {
      "cell_type": "markdown",
      "metadata": {
        "id": "Z0hQt0ktRc-H"
      },
      "source": [
        "4.Check if an element exists in a set."
      ]
    },
    {
      "cell_type": "code",
      "execution_count": null,
      "metadata": {
        "colab": {
          "base_uri": "https://localhost:8080/"
        },
        "id": "qEti4IgJEpsB",
        "outputId": "a6620bb4-c69f-40c1-8dd0-494474765c3b"
      },
      "outputs": [
        {
          "name": "stdout",
          "output_type": "stream",
          "text": [
            "Enter the element: 11\n",
            "The element 11 doesnot exist in the set.\n"
          ]
        }
      ],
      "source": [
        "from typing_extensions import TypeVarTuple\n",
        "s1={1,2,3,4,5,6,7,8,9,10}\n",
        "element = int(input(\"Enter the element: \"))\n",
        "check = False\n",
        "for i in s1:\n",
        "  if(i==element):\n",
        "    check=True\n",
        "\n",
        "if check:\n",
        "  print(f\"The element {element} exists in the set.\")\n",
        "else:\n",
        "  print(f\"The element {element} doesnot exist in the set.\")\n",
        "\n"
      ]
    },
    {
      "cell_type": "markdown",
      "metadata": {
        "id": "wckNtUY4RgwR"
      },
      "source": [
        "5.Find the length of a set without using the 'len()' function."
      ]
    },
    {
      "cell_type": "code",
      "execution_count": null,
      "metadata": {
        "colab": {
          "base_uri": "https://localhost:8080/"
        },
        "id": "IRRKN0dKFcL_",
        "outputId": "31d8c1b6-5518-4e5f-da92-73e9135e392c"
      },
      "outputs": [
        {
          "name": "stdout",
          "output_type": "stream",
          "text": [
            "The lenthe of set '{2, 3, 4, 5, 6, 9, 10, 11, 12, 13}' is : 10\n"
          ]
        }
      ],
      "source": [
        "s1={2,3,4,5,6,9,10,11,12,13}\n",
        "countlen =0\n",
        "for i in s1:\n",
        "  countlen +=1\n",
        "print(f\"The lenthe of set '{s1}' is : {countlen}\")\n"
      ]
    },
    {
      "cell_type": "markdown",
      "metadata": {
        "id": "s_yXaaleRn0R"
      },
      "source": [
        "6.Clear all elements from a set."
      ]
    },
    {
      "cell_type": "code",
      "execution_count": null,
      "metadata": {
        "colab": {
          "base_uri": "https://localhost:8080/"
        },
        "id": "gcdex01-F6Vh",
        "outputId": "3f942515-0088-409f-e31f-3518a9211fed"
      },
      "outputs": [
        {
          "name": "stdout",
          "output_type": "stream",
          "text": [
            "set()\n"
          ]
        }
      ],
      "source": [
        "s1={1,2,3,4,5,6,7,8,9,10}\n",
        "s1.clear()\n",
        "print(s1)"
      ]
    },
    {
      "cell_type": "markdown",
      "metadata": {
        "id": "vxNr_UpmRqo9"
      },
      "source": [
        "7.Create a set of even numbers from 1 to 10."
      ]
    },
    {
      "cell_type": "code",
      "execution_count": null,
      "metadata": {
        "colab": {
          "base_uri": "https://localhost:8080/"
        },
        "id": "TW_2uVAPGD_M",
        "outputId": "673aec06-4207-41c8-9366-8dc4cc7268b9"
      },
      "outputs": [
        {
          "name": "stdout",
          "output_type": "stream",
          "text": [
            "{2, 4, 6, 8, 10}\n"
          ]
        }
      ],
      "source": [
        "s1=set(i for i in range(1,11) if i%2==0)\n",
        "print(s1)"
      ]
    },
    {
      "cell_type": "markdown",
      "metadata": {
        "id": "VgVHB2oFRwbe"
      },
      "source": [
        "8.Create a set of odd numbers from 1 to 10."
      ]
    },
    {
      "cell_type": "code",
      "execution_count": null,
      "metadata": {
        "colab": {
          "base_uri": "https://localhost:8080/"
        },
        "id": "MNbACYZGGSuN",
        "outputId": "d26c5984-6807-409d-8cac-871f770a113b"
      },
      "outputs": [
        {
          "name": "stdout",
          "output_type": "stream",
          "text": [
            "{1, 3, 5, 7, 9}\n"
          ]
        }
      ],
      "source": [
        "s1=set(i for i in range(1,11) if i%2==1)\n",
        "print(s1)"
      ]
    },
    {
      "cell_type": "markdown",
      "metadata": {
        "id": "V_f-SW7bR0vc"
      },
      "source": [
        "9.Find the union of two sets."
      ]
    },
    {
      "cell_type": "code",
      "execution_count": null,
      "metadata": {
        "colab": {
          "base_uri": "https://localhost:8080/"
        },
        "id": "doF5L5LhGY9K",
        "outputId": "ad48cdbe-93f3-4d02-ef19-aebe277b5aa3"
      },
      "outputs": [
        {
          "name": "stdout",
          "output_type": "stream",
          "text": [
            "the uninon of s1Us2 is :{1, 2, 3, 4, 5, 6, 7, 8, 9, 10}\n"
          ]
        }
      ],
      "source": [
        "s1={2,4,6,8,10}\n",
        "s2={1,3,5,7,9}\n",
        "union_set = s1.union(s2)\n",
        "print(f\"the uninon of s1Us2 is :{union_set}\")"
      ]
    },
    {
      "cell_type": "markdown",
      "metadata": {
        "id": "t9QA-nTmR3ls"
      },
      "source": [
        "10.Find the intersection of two sets."
      ]
    },
    {
      "cell_type": "code",
      "execution_count": null,
      "metadata": {
        "colab": {
          "base_uri": "https://localhost:8080/"
        },
        "id": "NrRsOtMLG37E",
        "outputId": "c9f5e9c0-0248-41ea-fbc9-170ef43090b2"
      },
      "outputs": [
        {
          "name": "stdout",
          "output_type": "stream",
          "text": [
            "the intersection of two set is: {2}\n"
          ]
        }
      ],
      "source": [
        "s1={2,4,6,8,10}\n",
        "s2={2,3,5,7,11}\n",
        "intersection_set = s1.intersection(s2)\n",
        "print(f\"the intersection of two set is: {intersection_set}\")"
      ]
    },
    {
      "cell_type": "markdown",
      "metadata": {
        "id": "s3qQ44_cR6U2"
      },
      "source": [
        "11.Find the difference between two sets."
      ]
    },
    {
      "cell_type": "code",
      "execution_count": null,
      "metadata": {
        "colab": {
          "base_uri": "https://localhost:8080/"
        },
        "id": "GcvQL6JeHPou",
        "outputId": "2dbeefca-a4bb-4abf-81b9-4b3531ffde7b"
      },
      "outputs": [
        {
          "name": "stdout",
          "output_type": "stream",
          "text": [
            "the difference between two set is : {8, 10, 4, 6}\n"
          ]
        }
      ],
      "source": [
        "s1={2,4,6,8,10}\n",
        "s2={2,3,5,7,11}\n",
        "difference = s1-s2\n",
        "print(f\"the difference between two set is : {difference}\")"
      ]
    },
    {
      "cell_type": "markdown",
      "metadata": {
        "id": "Gbs0x2E0R9tl"
      },
      "source": [
        "12.Check if a set is subset of another set"
      ]
    },
    {
      "cell_type": "code",
      "source": [
        "set1 = {1, 2, 3, 4, 5}\n",
        "set2 = {3, 4}\n",
        "\n",
        "if set2.issubset(set1):\n",
        "    print(\"set2 is a subset of set1.\")\n",
        "else:\n",
        "    print(\"set2 is not a subset of set1.\")\n"
      ],
      "metadata": {
        "colab": {
          "base_uri": "https://localhost:8080/"
        },
        "id": "Nap4Z6Vqi_J5",
        "outputId": "f759d5fc-e855-49ff-c5de-eeb38c118bec"
      },
      "execution_count": 21,
      "outputs": [
        {
          "output_type": "stream",
          "name": "stdout",
          "text": [
            "set2 is a subset of set1.\n"
          ]
        }
      ]
    },
    {
      "cell_type": "markdown",
      "metadata": {
        "id": "mBO3VN8gSJBL"
      },
      "source": [
        "13.Check if a set is a superset of another set."
      ]
    },
    {
      "cell_type": "code",
      "source": [
        "s1={1,2,3,4,5,6,7,8,9}\n",
        "s2={1,3,5,7}\n",
        "check = False\n",
        "for i in s1:\n",
        "  if i in s1:\n",
        "    check = True\n",
        "\n",
        "  else:\n",
        "    check = False\n",
        "\n",
        "if check:\n",
        "    print(f\"the set '{s1}' is super set of {s2} \")\n",
        "else:\n",
        "     print(\"It is not super set of another set...\")\n",
        "\n"
      ],
      "metadata": {
        "colab": {
          "base_uri": "https://localhost:8080/"
        },
        "id": "LPMbel1limid",
        "outputId": "a735b7c0-2e99-40ac-9180-3bfd09be0264"
      },
      "execution_count": 22,
      "outputs": [
        {
          "output_type": "stream",
          "name": "stdout",
          "text": [
            "the set '{1, 2, 3, 4, 5, 6, 7, 8, 9}' is super set of {1, 3, 5, 7} \n"
          ]
        }
      ]
    },
    {
      "cell_type": "markdown",
      "metadata": {
        "id": "faVmiGbpSPFh"
      },
      "source": [
        "14.Create a set from a list."
      ]
    },
    {
      "cell_type": "code",
      "source": [
        "lst=[1,2,3,4,5,6,7,8,9]\n",
        "set1=set(lst)\n",
        "print(set1)"
      ],
      "metadata": {
        "colab": {
          "base_uri": "https://localhost:8080/"
        },
        "id": "o05pO-6jSlNr",
        "outputId": "2dedd510-371f-41d7-972b-884320aad042"
      },
      "execution_count": null,
      "outputs": [
        {
          "output_type": "stream",
          "name": "stdout",
          "text": [
            "{1, 2, 3, 4, 5, 6, 7, 8, 9}\n"
          ]
        }
      ]
    },
    {
      "cell_type": "markdown",
      "metadata": {
        "id": "zpDOR21MSRhy"
      },
      "source": [
        "15.Convert a set to a list."
      ]
    },
    {
      "cell_type": "code",
      "source": [
        "set1={2,3,4,5,6,7,8,9,10}\n",
        "lst = list(set1)\n",
        "print(lst)"
      ],
      "metadata": {
        "colab": {
          "base_uri": "https://localhost:8080/"
        },
        "id": "kjPOFcX1TM3U",
        "outputId": "ff150c75-8b06-4c99-dfd8-cfc781be76ea"
      },
      "execution_count": null,
      "outputs": [
        {
          "output_type": "stream",
          "name": "stdout",
          "text": [
            "[2, 3, 4, 5, 6, 7, 8, 9, 10]\n"
          ]
        }
      ]
    },
    {
      "cell_type": "markdown",
      "metadata": {
        "id": "qrNYY3NrSUP-"
      },
      "source": [
        "16.Remove a random element from a set."
      ]
    },
    {
      "cell_type": "code",
      "source": [
        "my_set = {1, 2, 3, 4, 5}\n",
        "if my_set:\n",
        "    random_element = my_set.pop()\n",
        "    print(\"Removed element:\", random_element)\n",
        "else:\n",
        "    print(\"The set is empty.\")\n"
      ],
      "metadata": {
        "colab": {
          "base_uri": "https://localhost:8080/"
        },
        "id": "rbnyWHOkTXr_",
        "outputId": "7ca4ee8a-ee34-4da1-a5f4-27a2bc1f559e"
      },
      "execution_count": null,
      "outputs": [
        {
          "output_type": "stream",
          "name": "stdout",
          "text": [
            "Removed element: 1\n"
          ]
        }
      ]
    },
    {
      "cell_type": "markdown",
      "metadata": {
        "id": "QmwhXTQxSXOp"
      },
      "source": [
        "17.Pop an element from a set."
      ]
    },
    {
      "cell_type": "code",
      "source": [
        "my_set={2,4,6,8,10}\n",
        "my_set.pop()\n",
        "print(my_set)"
      ],
      "metadata": {
        "colab": {
          "base_uri": "https://localhost:8080/"
        },
        "id": "mE1smhyBToyT",
        "outputId": "340c6f72-a09d-46d4-a33b-45c4d8280269"
      },
      "execution_count": null,
      "outputs": [
        {
          "output_type": "stream",
          "name": "stdout",
          "text": [
            "{4, 6, 8, 10}\n"
          ]
        }
      ]
    },
    {
      "cell_type": "markdown",
      "metadata": {
        "id": "-87e-ajpSawX"
      },
      "source": [
        "18.Check if two sets have no elements in common."
      ]
    },
    {
      "cell_type": "code",
      "source": [
        "s1={1,3,5,7,9,11}\n",
        "s2={2,4,6,8,10,12}\n",
        "common=s1.intersection(s2)\n",
        "if len(common)==0:\n",
        "  print(\"the two sets have no common elements.\")\n",
        "elif(len(common)>0):\n",
        "  print(\"the two sets have some common elements.\")\n"
      ],
      "metadata": {
        "colab": {
          "base_uri": "https://localhost:8080/"
        },
        "id": "S7ToUv-eUBXR",
        "outputId": "29130e09-3921-423a-9390-8fb865bbedba"
      },
      "execution_count": null,
      "outputs": [
        {
          "output_type": "stream",
          "name": "stdout",
          "text": [
            "the two sets have no common elements.\n"
          ]
        }
      ]
    },
    {
      "cell_type": "markdown",
      "metadata": {
        "id": "Dr4Kc5NWSg_q"
      },
      "source": [
        "19.Find the symmetric difference between two sets."
      ]
    },
    {
      "cell_type": "code",
      "source": [
        "set_A = {1, 2, 3, 4, 5}\n",
        "set_B = {4, 5, 6, 7, 8}\n",
        "\n",
        "symmetric_diff = set_A.symmetric_difference(set_B)\n",
        "\n",
        "print(\"Symmetric Difference:\", symmetric_diff)\n",
        "\n"
      ],
      "metadata": {
        "colab": {
          "base_uri": "https://localhost:8080/"
        },
        "id": "9oln3VE1VCwO",
        "outputId": "ed9b2654-fc5c-4518-b8ca-7cd94eef45d5"
      },
      "execution_count": null,
      "outputs": [
        {
          "output_type": "stream",
          "name": "stdout",
          "text": [
            "Symmetric Difference: {1, 2, 3, 6, 7, 8}\n"
          ]
        }
      ]
    },
    {
      "cell_type": "markdown",
      "metadata": {
        "id": "2nDRU07aSmim"
      },
      "source": [
        "20.Update a set with elements from another set."
      ]
    },
    {
      "cell_type": "code",
      "source": [
        "set1 = {1, 2, 3}\n",
        "set2 = {3, 4, 5}\n",
        "\n",
        "set1.update(set2)\n",
        "\n",
        "print(set1)"
      ],
      "metadata": {
        "colab": {
          "base_uri": "https://localhost:8080/"
        },
        "id": "zK5Pwu_Qkzgk",
        "outputId": "0ca90d9e-2c40-4063-f617-5ba24a8dc7c0"
      },
      "execution_count": null,
      "outputs": [
        {
          "output_type": "stream",
          "name": "stdout",
          "text": [
            "{1, 2, 3, 4, 5}\n"
          ]
        }
      ]
    },
    {
      "cell_type": "markdown",
      "metadata": {
        "id": "x85LJzOUSrN0"
      },
      "source": [
        "21.Create a set of the first 5 prime numbers."
      ]
    },
    {
      "cell_type": "code",
      "source": [
        "def is_prime(n):\n",
        "    if n <= 1:\n",
        "        return False\n",
        "    if n <= 3:\n",
        "        return True\n",
        "    if n % 2 == 0 or n % 3 == 0:\n",
        "        return False\n",
        "    i = 5\n",
        "    while i * i <= n:\n",
        "        if n % i == 0 or n % (i + 2) == 0:\n",
        "            return False\n",
        "        i += 6\n",
        "    return True\n",
        "\n",
        "prime_numbers = set()\n",
        "num = 2\n",
        "\n",
        "while len(prime_numbers) < 5:\n",
        "    if is_prime(num):\n",
        "        prime_numbers.add(num)\n",
        "    num += 1\n",
        "\n",
        "print(prime_numbers)\n"
      ],
      "metadata": {
        "colab": {
          "base_uri": "https://localhost:8080/"
        },
        "id": "IS7O415NlB5I",
        "outputId": "91a8c549-0ed7-4952-8655-3e7f2a25b52c"
      },
      "execution_count": null,
      "outputs": [
        {
          "output_type": "stream",
          "name": "stdout",
          "text": [
            "{2, 3, 5, 7, 11}\n"
          ]
        }
      ]
    },
    {
      "cell_type": "markdown",
      "metadata": {
        "id": "cjiu6m4aSvT7"
      },
      "source": [
        "22.Check if two sets are identical."
      ]
    },
    {
      "cell_type": "code",
      "source": [
        "set1 = {1, 2, 3, 4, 5}\n",
        "set2 = {5, 4, 3, 2, 1}\n",
        "\n",
        "if set1 == set2:\n",
        "    print(\"The sets are identical.\")\n",
        "else:\n",
        "    print(\"The sets are not identical.\")\n"
      ],
      "metadata": {
        "colab": {
          "base_uri": "https://localhost:8080/"
        },
        "id": "Nx72dN2xlQqw",
        "outputId": "b568c7a9-3db7-4d43-b7d6-828082a34336"
      },
      "execution_count": null,
      "outputs": [
        {
          "output_type": "stream",
          "name": "stdout",
          "text": [
            "The sets are identical.\n"
          ]
        }
      ]
    },
    {
      "cell_type": "markdown",
      "metadata": {
        "id": "BvvkuKPGSzeu"
      },
      "source": [
        "23.Create a frozen set."
      ]
    },
    {
      "cell_type": "code",
      "source": [
        "my_set = {1, 2, 3, 4, 5}\n",
        "frozen_set = frozenset(my_set)\n",
        "\n",
        "print(frozen_set)\n"
      ],
      "metadata": {
        "colab": {
          "base_uri": "https://localhost:8080/"
        },
        "id": "3nf6OqhDlXXt",
        "outputId": "fccb2d9a-7fb0-433b-e9f2-4a003dfe804a"
      },
      "execution_count": null,
      "outputs": [
        {
          "output_type": "stream",
          "name": "stdout",
          "text": [
            "frozenset({1, 2, 3, 4, 5})\n"
          ]
        }
      ]
    },
    {
      "cell_type": "markdown",
      "metadata": {
        "id": "MVcABPEOS2wj"
      },
      "source": [
        "24.check if a set is disjoint with another set."
      ]
    },
    {
      "cell_type": "code",
      "source": [
        "set1 = {1, 2, 3}\n",
        "set2 = {4, 5, 6}\n",
        "\n",
        "if set1.isdisjoint(set2):\n",
        "    print(\"The sets are disjoint.\")\n",
        "else:\n",
        "    print(\"The sets are not disjoint.\")\n"
      ],
      "metadata": {
        "colab": {
          "base_uri": "https://localhost:8080/"
        },
        "id": "d90e4qmAlemB",
        "outputId": "1f1a130c-7bd4-4d73-db7b-95b3e69893a7"
      },
      "execution_count": null,
      "outputs": [
        {
          "output_type": "stream",
          "name": "stdout",
          "text": [
            "The sets are disjoint.\n"
          ]
        }
      ]
    },
    {
      "cell_type": "markdown",
      "metadata": {
        "id": "5G9lAv9nS6eh"
      },
      "source": [
        "25.Create a set of squares of numbers from 1 to 5."
      ]
    },
    {
      "cell_type": "code",
      "source": [
        "squares_set = {x**2 for x in range(1, 6)}\n",
        "\n",
        "print(squares_set)\n"
      ],
      "metadata": {
        "colab": {
          "base_uri": "https://localhost:8080/"
        },
        "id": "dPi35Oh-lmNU",
        "outputId": "bbbee66f-9249-4264-c8d7-0528400b8c8e"
      },
      "execution_count": null,
      "outputs": [
        {
          "output_type": "stream",
          "name": "stdout",
          "text": [
            "{1, 4, 9, 16, 25}\n"
          ]
        }
      ]
    },
    {
      "cell_type": "markdown",
      "metadata": {
        "id": "nDrX5i2ITAAq"
      },
      "source": [
        "26.Filter out all even numbers from a set."
      ]
    },
    {
      "cell_type": "code",
      "source": [
        "original_set = {1, 2, 3, 4, 5, 6, 7, 8, 9, 10}\n",
        "\n",
        "odd_numbers_set = {x for x in original_set if x % 2 != 0}\n",
        "\n",
        "print(odd_numbers_set)\n"
      ],
      "metadata": {
        "colab": {
          "base_uri": "https://localhost:8080/"
        },
        "id": "ouQZ187cl2iP",
        "outputId": "79f5d2e3-cbed-44c3-b4c7-d19c9cb6965c"
      },
      "execution_count": null,
      "outputs": [
        {
          "output_type": "stream",
          "name": "stdout",
          "text": [
            "{1, 3, 5, 7, 9}\n"
          ]
        }
      ]
    },
    {
      "cell_type": "markdown",
      "metadata": {
        "id": "p9FW6Bm9TES4"
      },
      "source": [
        "27.Multiply all elements in a set by 2."
      ]
    },
    {
      "cell_type": "code",
      "source": [
        "original_set = {1, 2, 3, 4, 5}\n",
        "\n",
        "doubled_set = {x * 2 for x in original_set}\n",
        "\n",
        "print(doubled_set)\n"
      ],
      "metadata": {
        "colab": {
          "base_uri": "https://localhost:8080/"
        },
        "id": "U4HY1_8cl4Zk",
        "outputId": "a2768447-12aa-4d1b-b7cd-e581b352de0e"
      },
      "execution_count": null,
      "outputs": [
        {
          "output_type": "stream",
          "name": "stdout",
          "text": [
            "{2, 4, 6, 8, 10}\n"
          ]
        }
      ]
    },
    {
      "cell_type": "markdown",
      "metadata": {
        "id": "O8yYXYGATI9M"
      },
      "source": [
        "28.Create a set of random numbers."
      ]
    },
    {
      "cell_type": "code",
      "source": [
        "import random\n",
        "random_set = set(random.sample(range(1, 101), 5))\n",
        "print(random_set)\n"
      ],
      "metadata": {
        "colab": {
          "base_uri": "https://localhost:8080/"
        },
        "id": "Bt1OBuz6l_8C",
        "outputId": "6a0e54e9-e483-4dab-ae9b-e060794b806d"
      },
      "execution_count": null,
      "outputs": [
        {
          "output_type": "stream",
          "name": "stdout",
          "text": [
            "{81, 20, 54, 60, 95}\n"
          ]
        }
      ]
    },
    {
      "cell_type": "markdown",
      "metadata": {
        "id": "f8Cll-rFTMuI"
      },
      "source": [
        "29.Check if a set is empty."
      ]
    },
    {
      "cell_type": "code",
      "source": [
        "my_set = set()\n",
        "\n",
        "if not my_set:\n",
        "    print(\"The set is empty.\")\n",
        "else:\n",
        "    print(\"The set is not empty.\")\n"
      ],
      "metadata": {
        "colab": {
          "base_uri": "https://localhost:8080/"
        },
        "id": "POTa48W8mL3g",
        "outputId": "3104ec5a-203a-4fbe-b16e-2642813b9517"
      },
      "execution_count": null,
      "outputs": [
        {
          "output_type": "stream",
          "name": "stdout",
          "text": [
            "The set is empty.\n"
          ]
        }
      ]
    },
    {
      "cell_type": "markdown",
      "metadata": {
        "id": "ddcORa90TP8v"
      },
      "source": [
        "30.Create a nested set(hint: use frozenset)"
      ]
    },
    {
      "cell_type": "code",
      "source": [
        "nested_set = {frozenset({1, 2, 3}), frozenset({4, 5, 6}), frozenset({7, 8, 9})}\n",
        "\n",
        "print(nested_set)\n"
      ],
      "metadata": {
        "colab": {
          "base_uri": "https://localhost:8080/"
        },
        "id": "PX63qHfnmg0Q",
        "outputId": "f21172de-c839-40d3-e663-9c4b73f8bb26"
      },
      "execution_count": null,
      "outputs": [
        {
          "output_type": "stream",
          "name": "stdout",
          "text": [
            "{frozenset({1, 2, 3}), frozenset({4, 5, 6}), frozenset({8, 9, 7})}\n"
          ]
        }
      ]
    },
    {
      "cell_type": "markdown",
      "metadata": {
        "id": "s1Bbex5JTUiZ"
      },
      "source": [
        "31.Remove an element from a set using the discard method."
      ]
    },
    {
      "cell_type": "code",
      "source": [
        "my_set = {1, 2, 3, 4, 5}\n",
        "my_set.discard(3)\n",
        "print(my_set)\n"
      ],
      "metadata": {
        "colab": {
          "base_uri": "https://localhost:8080/"
        },
        "id": "t2c5hkUemnqV",
        "outputId": "c5369ff8-c43d-4993-fb3c-6587bdafe151"
      },
      "execution_count": null,
      "outputs": [
        {
          "output_type": "stream",
          "name": "stdout",
          "text": [
            "{1, 2, 4, 5}\n"
          ]
        }
      ]
    },
    {
      "cell_type": "markdown",
      "metadata": {
        "id": "-ocma6cjTZi0"
      },
      "source": [
        "32.Compare two sets."
      ]
    },
    {
      "cell_type": "code",
      "source": [
        "set1 = {1, 2, 3}\n",
        "set2 = {3, 2, 1}\n",
        "\n",
        "if set1 == set2:\n",
        "    print(\"The sets are equal.\")\n",
        "else:\n",
        "    print(\"The sets are not equal.\")\n"
      ],
      "metadata": {
        "colab": {
          "base_uri": "https://localhost:8080/"
        },
        "id": "2rLmz6R8mxyV",
        "outputId": "8e4b0fff-9f25-4fb4-9ba4-428dd10d508e"
      },
      "execution_count": null,
      "outputs": [
        {
          "output_type": "stream",
          "name": "stdout",
          "text": [
            "The sets are equal.\n"
          ]
        }
      ]
    },
    {
      "cell_type": "markdown",
      "metadata": {
        "id": "SuOudopxTcJE"
      },
      "source": [
        "33.Create a set from a string.\n",
        "\n"
      ]
    },
    {
      "cell_type": "code",
      "source": [
        "my_string = \"Hello, World!\"\n",
        "char_set = {char for char in my_string}\n",
        "print(char_set)\n"
      ],
      "metadata": {
        "colab": {
          "base_uri": "https://localhost:8080/"
        },
        "id": "UaUK5lxum8pN",
        "outputId": "37e8b414-7c19-453c-e79d-956e7adcdd8f"
      },
      "execution_count": null,
      "outputs": [
        {
          "output_type": "stream",
          "name": "stdout",
          "text": [
            "{',', 'l', 'W', '!', 'e', 'r', 'H', ' ', 'o', 'd'}\n"
          ]
        }
      ]
    },
    {
      "cell_type": "markdown",
      "metadata": {
        "id": "MMAcRDerTkMF"
      },
      "source": [
        "34.Convert a set of strings a set of integers."
      ]
    },
    {
      "cell_type": "code",
      "source": [
        "string_set = {\"1\", \"2\", \"3\", \"4\", \"5\"}\n",
        "integer_set = {int(x) for x in string_set}\n",
        "print(integer_set)\n"
      ],
      "metadata": {
        "colab": {
          "base_uri": "https://localhost:8080/"
        },
        "id": "6vpfkIKznFzx",
        "outputId": "81246f6f-b04f-41d6-af0c-66fdf27e3902"
      },
      "execution_count": null,
      "outputs": [
        {
          "output_type": "stream",
          "name": "stdout",
          "text": [
            "{1, 2, 3, 4, 5}\n"
          ]
        }
      ]
    },
    {
      "cell_type": "markdown",
      "metadata": {
        "id": "TSu5s59RTsLy"
      },
      "source": [
        "35.Convert a set of integers to a set of strings."
      ]
    },
    {
      "cell_type": "code",
      "source": [
        "integer_set = {1, 2, 3, 4, 5}\n",
        "string_set = {str(x) for x in integer_set}\n",
        "print(string_set)\n"
      ],
      "metadata": {
        "colab": {
          "base_uri": "https://localhost:8080/"
        },
        "id": "UnShJd4VnPUO",
        "outputId": "05168edd-f812-46db-eb3b-a974dbd12e12"
      },
      "execution_count": null,
      "outputs": [
        {
          "output_type": "stream",
          "name": "stdout",
          "text": [
            "{'3', '4', '5', '1', '2'}\n"
          ]
        }
      ]
    },
    {
      "cell_type": "markdown",
      "metadata": {
        "id": "cpl1Hy48Txdz"
      },
      "source": [
        "36.Create a set from a tuple."
      ]
    },
    {
      "cell_type": "code",
      "source": [
        "tpl =(12,3,4,5,6,3,8,9)\n",
        "set1 = set(tpl)\n",
        "print(set1)"
      ],
      "metadata": {
        "colab": {
          "base_uri": "https://localhost:8080/"
        },
        "id": "6rgRD4_veMqZ",
        "outputId": "7ce24ba3-60f7-4aa6-b475-c391c427ddc5"
      },
      "execution_count": 3,
      "outputs": [
        {
          "output_type": "stream",
          "name": "stdout",
          "text": [
            "{3, 4, 5, 6, 8, 9, 12}\n"
          ]
        }
      ]
    },
    {
      "cell_type": "markdown",
      "metadata": {
        "id": "ZNxWtXdDT0D8"
      },
      "source": [
        "37.Convert a set to a tuple."
      ]
    },
    {
      "cell_type": "code",
      "source": [
        "set1={1,3,5,7,9,11,13}\n",
        "tpl = tuple(set1)\n",
        "print(tpl)"
      ],
      "metadata": {
        "colab": {
          "base_uri": "https://localhost:8080/"
        },
        "id": "k82_S1BUeZgQ",
        "outputId": "9d97ecfa-0c83-4ff6-985a-feb7ad792d3c"
      },
      "execution_count": 2,
      "outputs": [
        {
          "output_type": "stream",
          "name": "stdout",
          "text": [
            "(1, 3, 5, 7, 9, 11, 13)\n"
          ]
        }
      ]
    },
    {
      "cell_type": "markdown",
      "metadata": {
        "id": "rBOMqEkyT3uf"
      },
      "source": [
        "38.Find the maximum value in a set."
      ]
    },
    {
      "cell_type": "code",
      "source": [
        "number_set = {12, 45, 7, 23, 56, 89, 34}\n",
        "max_value = max(list(number_set))\n",
        "print(\"The maximum value in the set is:\", max_value)\n"
      ],
      "metadata": {
        "colab": {
          "base_uri": "https://localhost:8080/"
        },
        "id": "KPpD97Wzem7Q",
        "outputId": "fc7e0be7-e4c8-49e0-dee0-ee98d2c386bf"
      },
      "execution_count": 4,
      "outputs": [
        {
          "output_type": "stream",
          "name": "stdout",
          "text": [
            "The maximum value in the set is: 89\n"
          ]
        }
      ]
    },
    {
      "cell_type": "markdown",
      "metadata": {
        "id": "RDdDlNbpT8fj"
      },
      "source": [
        "39.Find the minimum value in a set."
      ]
    },
    {
      "cell_type": "code",
      "source": [
        "number_set={2,4,5,6,7,83,45,90,89}\n",
        "min_value = min(list(number_set))\n",
        "print(\"The minimum value in the set is: \", min_value)"
      ],
      "metadata": {
        "colab": {
          "base_uri": "https://localhost:8080/"
        },
        "id": "Vc585mpTfLZM",
        "outputId": "220f6ed1-5bac-4074-e8b1-3e4349e66c3f"
      },
      "execution_count": 5,
      "outputs": [
        {
          "output_type": "stream",
          "name": "stdout",
          "text": [
            "The minimum value in the set is:  2\n"
          ]
        }
      ]
    },
    {
      "cell_type": "code",
      "source": [],
      "metadata": {
        "id": "IFusbPu-fLDx"
      },
      "execution_count": null,
      "outputs": []
    },
    {
      "cell_type": "markdown",
      "metadata": {
        "id": "yFog4UNTUAHB"
      },
      "source": [
        "40.Create a set from user input."
      ]
    },
    {
      "cell_type": "code",
      "source": [
        "user_inputs = [int(input(\"Enter an elements : \")) for _ in range(int(input(\"How many elements do you want to enter? \")))]\n",
        "user_set = set(user_inputs)\n",
        "\n",
        "# Print the resulting tuple\n",
        "print(\"The tuple you created is:\", user_set)\n"
      ],
      "metadata": {
        "colab": {
          "base_uri": "https://localhost:8080/"
        },
        "id": "4d2DwkTcfbHX",
        "outputId": "50b5f377-6de1-43a2-c7e9-826dc35fa99e"
      },
      "execution_count": 9,
      "outputs": [
        {
          "output_type": "stream",
          "name": "stdout",
          "text": [
            "How many elements do you want to enter? 5\n",
            "Enter an elements : 1\n",
            "Enter an elements : 2\n",
            "Enter an elements : 3\n",
            "Enter an elements : 4\n",
            "Enter an elements : 5\n",
            "The tuple you created is: {1, 2, 3, 4, 5}\n"
          ]
        }
      ]
    },
    {
      "cell_type": "markdown",
      "metadata": {
        "id": "FURmoXp4UDLl"
      },
      "source": [
        "41.Check if the intersection of two sets is empty."
      ]
    },
    {
      "cell_type": "code",
      "source": [
        "set1 = {1, 2, 3, 4, 5}\n",
        "set2 = {6, 7, 8, 9, 10}\n",
        "\n",
        "if set1.isdisjoint(set2):\n",
        "    print(\"The intersection is empty.\")\n",
        "else:\n",
        "    print(\"The intersection is not empty.\")\n"
      ],
      "metadata": {
        "colab": {
          "base_uri": "https://localhost:8080/"
        },
        "id": "u7mDa2qDgcVK",
        "outputId": "4eea3a9d-bc2b-422e-83b6-fd17d1662ca1"
      },
      "execution_count": 10,
      "outputs": [
        {
          "output_type": "stream",
          "name": "stdout",
          "text": [
            "The intersection is empty.\n"
          ]
        }
      ]
    },
    {
      "cell_type": "markdown",
      "metadata": {
        "id": "o_22FN0hUIPT"
      },
      "source": [
        "42.Create a set of the first 5 Fibonacci numbers."
      ]
    },
    {
      "cell_type": "code",
      "source": [
        "fibonacci_set = set()\n",
        "a, b = 0, 1\n",
        "for _ in range(5):\n",
        "    fibonacci_set.add(a)\n",
        "    a, b = b, a + b\n",
        "\n",
        "print(\"The set of the first 5 Fibonacci numbers is:\", fibonacci_set)\n"
      ],
      "metadata": {
        "colab": {
          "base_uri": "https://localhost:8080/"
        },
        "id": "gFOl5DAJgl7J",
        "outputId": "080f3e7d-af80-475b-bcfa-85a17ce760d8"
      },
      "execution_count": 12,
      "outputs": [
        {
          "output_type": "stream",
          "name": "stdout",
          "text": [
            "The set of the first 5 Fibonacci numbers is: {0, 1, 2, 3}\n"
          ]
        }
      ]
    },
    {
      "cell_type": "markdown",
      "metadata": {
        "id": "n1rqIqqaUMls"
      },
      "source": [
        "43.Remove duplicates from a list using sets."
      ]
    },
    {
      "cell_type": "code",
      "source": [
        "my_list = [1, 2, 2, 3, 4, 4, 5]\n",
        "unique_set = set(my_list)\n",
        "unique_list = list(unique_set)\n",
        "print(\"List with duplicates removed:\", unique_list)\n"
      ],
      "metadata": {
        "colab": {
          "base_uri": "https://localhost:8080/"
        },
        "id": "MkCdXbZYg4nZ",
        "outputId": "18c2b390-385c-4106-be85-ca67a256ad43"
      },
      "execution_count": 13,
      "outputs": [
        {
          "output_type": "stream",
          "name": "stdout",
          "text": [
            "List with duplicates removed: [1, 2, 3, 4, 5]\n"
          ]
        }
      ]
    },
    {
      "cell_type": "markdown",
      "metadata": {
        "id": "4BsxeFDgUR2p"
      },
      "source": [
        "44.Check if two sets have the same elements, regardless of their count."
      ]
    },
    {
      "cell_type": "code",
      "source": [
        "set1 = {1, 2, 3, 4, 5}\n",
        "set2 = {5, 4, 3, 2, 1}\n",
        "if set1 == set2:\n",
        "    print(\"The sets have the same elements.\")\n",
        "else:\n",
        "    print(\"The sets do not have the same elements.\")\n"
      ],
      "metadata": {
        "colab": {
          "base_uri": "https://localhost:8080/"
        },
        "id": "qw5XgOZ2hF2f",
        "outputId": "c14f203e-ceda-42f3-f0d2-0f325141fa08"
      },
      "execution_count": 14,
      "outputs": [
        {
          "output_type": "stream",
          "name": "stdout",
          "text": [
            "The sets have the same elements.\n"
          ]
        }
      ]
    },
    {
      "cell_type": "markdown",
      "metadata": {
        "id": "QT-Oqs51UYcB"
      },
      "source": [
        "45.Create a set of the first 'n' powers of 2."
      ]
    },
    {
      "cell_type": "code",
      "source": [
        "def generate_powers_of_2(n):\n",
        "    powers_set = set()\n",
        "    power = 1\n",
        "\n",
        "    for _ in range(n):\n",
        "        powers_set.add(power)\n",
        "        power *= 2\n",
        "\n",
        "    return powers_set\n",
        "n = 5\n",
        "powers_of_2_set = generate_powers_of_2(n)\n",
        "print(f\"The set of the first {n} powers of 2 is:\", powers_of_2_set)\n"
      ],
      "metadata": {
        "colab": {
          "base_uri": "https://localhost:8080/"
        },
        "id": "wGY1qUhVhQom",
        "outputId": "c67b3ed5-df7a-4306-a20f-1118d2ca95f4"
      },
      "execution_count": 15,
      "outputs": [
        {
          "output_type": "stream",
          "name": "stdout",
          "text": [
            "The set of the first 5 powers of 2 is: {1, 2, 4, 8, 16}\n"
          ]
        }
      ]
    },
    {
      "cell_type": "markdown",
      "metadata": {
        "id": "C_o7woraUe9c"
      },
      "source": [
        "46.Find the common elements between a set a list."
      ]
    },
    {
      "cell_type": "code",
      "source": [
        "my_set = {1, 2, 3, 4, 5}\n",
        "my_list = [3, 4, 5, 6, 7]\n",
        "\n",
        "\n",
        "common_elements = my_set.intersection(my_list)\n",
        "print(\"Common elements between the set and the list:\", common_elements)\n"
      ],
      "metadata": {
        "colab": {
          "base_uri": "https://localhost:8080/"
        },
        "id": "3nXfc2RChdMs",
        "outputId": "dc1805dc-d160-42f5-ffa2-8e981b1617d0"
      },
      "execution_count": 16,
      "outputs": [
        {
          "output_type": "stream",
          "name": "stdout",
          "text": [
            "Common elements between the set and the list: {3, 4, 5}\n"
          ]
        }
      ]
    },
    {
      "cell_type": "markdown",
      "metadata": {
        "id": "H3FjFwJUUjgT"
      },
      "source": [
        "47.Create a set of the first 'n' triangular numbers."
      ]
    },
    {
      "cell_type": "code",
      "source": [
        "n = 5\n",
        "triangular_numbers_set = set()\n",
        "for i in range(1, n + 1):\n",
        "    triangular_number = i * (i + 1) // 2\n",
        "    triangular_numbers_set.add(triangular_number)\n",
        "print(f\"The set of the first {n} triangular numbers is:\", triangular_numbers_set)\n"
      ],
      "metadata": {
        "colab": {
          "base_uri": "https://localhost:8080/"
        },
        "id": "9xShtYoEhosR",
        "outputId": "2b92ccb2-12e7-4f13-eed0-3b179d9f92be"
      },
      "execution_count": 17,
      "outputs": [
        {
          "output_type": "stream",
          "name": "stdout",
          "text": [
            "The set of the first 5 triangular numbers is: {1, 3, 6, 10, 15}\n"
          ]
        }
      ]
    },
    {
      "cell_type": "markdown",
      "metadata": {
        "id": "XVXfxMnaUosQ"
      },
      "source": [
        "48.Check if a set contains another set as a subset."
      ]
    },
    {
      "cell_type": "code",
      "source": [
        "set1 = {1, 2, 3, 4, 5}\n",
        "set2 = {3, 4}\n",
        "\n",
        "\n",
        "if set2.issubset(set1):\n",
        "    print(\"set2 is a subset of set1.\")\n",
        "else:\n",
        "    print(\"set2 is not a subset of set1.\")\n"
      ],
      "metadata": {
        "colab": {
          "base_uri": "https://localhost:8080/"
        },
        "id": "t0j6jpWnh413",
        "outputId": "8ee37584-8650-439e-a896-12825741a17d"
      },
      "execution_count": 18,
      "outputs": [
        {
          "output_type": "stream",
          "name": "stdout",
          "text": [
            "set2 is a subset of set1.\n"
          ]
        }
      ]
    },
    {
      "cell_type": "markdown",
      "metadata": {
        "id": "5vgHfQVDUs4T"
      },
      "source": [
        "49.Create a set of alternating 1s and 0s of length 'n'."
      ]
    },
    {
      "cell_type": "code",
      "source": [
        "n = 10\n",
        "alternating_set = set()\n",
        "for i in range(n):\n",
        "    alternating_set.add(i % 2)\n",
        "print(f\"The set of alternating 1s and 0s of length {n} is:\", alternating_set)\n"
      ],
      "metadata": {
        "colab": {
          "base_uri": "https://localhost:8080/"
        },
        "id": "hTELLyQRiBph",
        "outputId": "a8de978e-c4e3-45d4-e455-03e4ffc002b3"
      },
      "execution_count": 19,
      "outputs": [
        {
          "output_type": "stream",
          "name": "stdout",
          "text": [
            "The set of alternating 1s and 0s of length 10 is: {0, 1}\n"
          ]
        }
      ]
    },
    {
      "cell_type": "markdown",
      "metadata": {
        "id": "pwkO0kRWU4Wm"
      },
      "source": [
        "50.Merge multiple sets into one."
      ]
    },
    {
      "cell_type": "code",
      "execution_count": 20,
      "metadata": {
        "id": "RXWdmMVVRH_w",
        "colab": {
          "base_uri": "https://localhost:8080/"
        },
        "outputId": "904cb5ca-ef4b-407b-97e8-669943134d8f"
      },
      "outputs": [
        {
          "output_type": "stream",
          "name": "stdout",
          "text": [
            "Merged set using union(): {1, 2, 3, 4, 5, 6, 7}\n"
          ]
        }
      ],
      "source": [
        "set1 = {1, 2, 3}\n",
        "set2 = {3, 4, 5}\n",
        "set3 = {5, 6, 7}\n",
        "merged_set = set1.union(set2, set3)\n",
        "print(\"Merged set using union():\", merged_set)\n"
      ]
    },
    {
      "cell_type": "code",
      "source": [],
      "metadata": {
        "id": "Dd8PPt2QiXYn"
      },
      "execution_count": null,
      "outputs": []
    }
  ],
  "metadata": {
    "colab": {
      "provenance": []
    },
    "kernelspec": {
      "display_name": "Python 3",
      "name": "python3"
    },
    "language_info": {
      "name": "python"
    }
  },
  "nbformat": 4,
  "nbformat_minor": 0
}